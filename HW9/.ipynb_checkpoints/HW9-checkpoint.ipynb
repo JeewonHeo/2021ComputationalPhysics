{
 "cells": [
  {
   "cell_type": "code",
   "execution_count": 2,
   "metadata": {},
   "outputs": [],
   "source": [
    "x = [0.84, 0.92, 1.00, 1.08, 1.16]\n",
    "fx = [0.431711, 0.398519, 0.367879, 0.339596, 0.313486]\n",
    "h = 0.08"
   ]
  },
  {
   "cell_type": "code",
   "execution_count": 6,
   "metadata": {},
   "outputs": [
    {
     "name": "stdout",
     "output_type": "stream",
     "text": [
      "0.39874999999999977 0.36828124999999967\n"
     ]
    }
   ],
   "source": [
    "# 1-a\n",
    "ddf_084 = (fx[2] - 2*fx[1] + fx[0]) / h**2\n",
    "ddf_100 = (fx[3] - 2*fx[2] + fx[1]) / h**2\n",
    "print(ddf_084,ddf_100)"
   ]
  },
  {
   "cell_type": "code",
   "execution_count": 9,
   "metadata": {},
   "outputs": [
    {
     "name": "stdout",
     "output_type": "stream",
     "text": [
      "0.368710937499999 0.36828124999999967\n",
      "Richardson extrapolation sol : 0.3681380208333332\n"
     ]
    }
   ],
   "source": [
    "# 1-b\n",
    "\n",
    "h1 = 0.16\n",
    "h2 = 0.08\n",
    "\n",
    "ddf1 = (fx[4] - 2*fx[2] + fx[0]) / h1**2    # + O(h1)\n",
    "ddf2 = (fx[3] - 2*fx[2] + fx[1]) / h2**2    # + O(h2)\n",
    "\n",
    "n = 2\n",
    "Re = (2**n*ddf2 - ddf1)/(2**n-1)            # + O(h1**2)\n",
    "print('Richardson extrapolation sol :', Re)"
   ]
  },
  {
   "cell_type": "code",
   "execution_count": 13,
   "metadata": {},
   "outputs": [
    {
     "name": "stdout",
     "output_type": "stream",
     "text": [
      "0.36885416666666543\n"
     ]
    }
   ],
   "source": [
    "# 1-c\n",
    "'''\n",
    "f(x+2h) + f(x-2h) - f(x+h) - f(x-h) = 3*h**2*f''(x) + O(h**4)\n",
    "=> ( f(x+2h) + f(x-2h) - f(x+h) - f(x-h) ) / 3*h**2 = f''(x)\n",
    "'''\n",
    "h = 0.08\n",
    "ddf_1 = (fx[4] + fx[0] - fx[3] - fx[1]) / (3*h**2)\n",
    "print(ddf_1)"
   ]
  },
  {
   "cell_type": "code",
   "execution_count": 22,
   "metadata": {},
   "outputs": [
    {
     "name": "stdout",
     "output_type": "stream",
     "text": [
      "0.36785156250000695\n"
     ]
    }
   ],
   "source": [
    "# 1-d\n",
    "from scipy.interpolate import CubicSpline\n",
    "\n",
    "cs = CubicSpline(x,fx)\n",
    "ddcs = cs.derivative(2)\n",
    "print(ddcs(1))"
   ]
  },
  {
   "cell_type": "code",
   "execution_count": 26,
   "metadata": {},
   "outputs": [
    {
     "ename": "NameError",
     "evalue": "name 'theta' is not defined",
     "output_type": "error",
     "traceback": [
      "\u001b[0;31m---------------------------------------------------------------------------\u001b[0m",
      "\u001b[0;31mNameError\u001b[0m                                 Traceback (most recent call last)",
      "\u001b[0;32m<ipython-input-26-9792ee844e49>\u001b[0m in \u001b[0;36m<module>\u001b[0;34m\u001b[0m\n\u001b[1;32m      2\u001b[0m \u001b[0;32mimport\u001b[0m \u001b[0mnumpy\u001b[0m \u001b[0;32mas\u001b[0m \u001b[0mnp\u001b[0m\u001b[0;34m\u001b[0m\u001b[0;34m\u001b[0m\u001b[0m\n\u001b[1;32m      3\u001b[0m \u001b[0mR\u001b[0m \u001b[0;34m=\u001b[0m \u001b[0;36m1\u001b[0m\u001b[0;34m\u001b[0m\u001b[0;34m\u001b[0m\u001b[0m\n\u001b[0;32m----> 4\u001b[0;31m \u001b[0mx\u001b[0m \u001b[0;34m=\u001b[0m \u001b[0mR\u001b[0m\u001b[0;34m*\u001b[0m\u001b[0;34m(\u001b[0m\u001b[0mnp\u001b[0m\u001b[0;34m.\u001b[0m\u001b[0mcos\u001b[0m\u001b[0;34m(\u001b[0m\u001b[0mtheta\u001b[0m\u001b[0;34m)\u001b[0m \u001b[0;34m+\u001b[0m \u001b[0mnp\u001b[0m\u001b[0;34m.\u001b[0m\u001b[0msqrt\u001b[0m\u001b[0;34m(\u001b[0m\u001b[0;36m2.5\u001b[0m\u001b[0;34m**\u001b[0m\u001b[0;36m2\u001b[0m \u001b[0;34m-\u001b[0m \u001b[0mnp\u001b[0m\u001b[0;34m.\u001b[0m\u001b[0msin\u001b[0m\u001b[0;34m(\u001b[0m\u001b[0mtheta\u001b[0m\u001b[0;34m)\u001b[0m\u001b[0;34m**\u001b[0m\u001b[0;36m2\u001b[0m\u001b[0;34m)\u001b[0m\u001b[0;34m)\u001b[0m\u001b[0;34m\u001b[0m\u001b[0;34m\u001b[0m\u001b[0m\n\u001b[0m",
      "\u001b[0;31mNameError\u001b[0m: name 'theta' is not defined"
     ]
    }
   ],
   "source": [
    "# 2\n",
    "import numpy as np\n",
    "R = 1\n",
    "from scipy \n",
    "x = R*(np.cos(theta) + np.sqrt(2.5**2 - np.sin(theta)**2))\n"
   ]
  },
  {
   "cell_type": "code",
   "execution_count": null,
   "metadata": {},
   "outputs": [],
   "source": []
  }
 ],
 "metadata": {
  "kernelspec": {
   "display_name": "Python 3",
   "language": "python",
   "name": "python3"
  },
  "language_info": {
   "codemirror_mode": {
    "name": "ipython",
    "version": 3
   },
   "file_extension": ".py",
   "mimetype": "text/x-python",
   "name": "python",
   "nbconvert_exporter": "python",
   "pygments_lexer": "ipython3",
   "version": "3.6.8"
  }
 },
 "nbformat": 4,
 "nbformat_minor": 4
}
