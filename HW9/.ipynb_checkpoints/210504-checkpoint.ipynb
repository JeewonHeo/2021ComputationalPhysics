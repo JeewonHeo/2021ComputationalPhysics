{
 "cells": [
  {
   "cell_type": "code",
   "execution_count": 1,
   "metadata": {},
   "outputs": [],
   "source": [
    "# scipy 미분 툴\n",
    "# 유한미분\n",
    "# 리쳐드슨 외삽"
   ]
  },
  {
   "cell_type": "code",
   "execution_count": 2,
   "metadata": {},
   "outputs": [
    {
     "data": {
      "text/plain": [
       "4.999999999921734"
      ]
     },
     "execution_count": 2,
     "metadata": {},
     "output_type": "execute_result"
    }
   ],
   "source": [
    "from scipy.misc import derivative\n",
    "def f(x):\n",
    "    return x**3 + x**2\n",
    "\n",
    "derivative(f, 1.0, dx=1e-6)"
   ]
  },
  {
   "cell_type": "code",
   "execution_count": 3,
   "metadata": {},
   "outputs": [
    {
     "data": {
      "text/plain": [
       "2.000000000002"
      ]
     },
     "execution_count": 3,
     "metadata": {},
     "output_type": "execute_result"
    }
   ],
   "source": [
    "def f(x):\n",
    "    return x**2.0\n",
    "derivative(f, 1.0, dx=1e-6)"
   ]
  },
  {
   "cell_type": "code",
   "execution_count": 1,
   "metadata": {},
   "outputs": [],
   "source": [
    "dx = 0.08\n",
    "\n",
    "x = [0.84, 0.92, 1.00, 1.08, 1.16]\n",
    "f = [0.431711, 0.398519, 0.367879, 0.339596, 0.313486]\n"
   ]
  },
  {
   "cell_type": "code",
   "execution_count": 2,
   "metadata": {},
   "outputs": [],
   "source": [
    "# inter1d\n",
    "# CubicSpline\n",
    "# UnivariateSpline\n",
    "# polyfit, poly1d"
   ]
  },
  {
   "cell_type": "code",
   "execution_count": 3,
   "metadata": {},
   "outputs": [],
   "source": [
    "from scipy.interpolate import CubicSpline\n",
    "\n",
    "cs = CubicSpline(x,f)"
   ]
  },
  {
   "cell_type": "code",
   "execution_count": 9,
   "metadata": {},
   "outputs": [
    {
     "data": {
      "text/plain": [
       "[<matplotlib.lines.Line2D at 0x7f2d82e24ba8>]"
      ]
     },
     "execution_count": 9,
     "metadata": {},
     "output_type": "execute_result"
    },
    {
     "data": {
      "image/png": "[encoded data removed]",
      "text/plain": [
       "<Figure size 432x288 with 1 Axes>"
      ]
     },
     "metadata": {
      "needs_background": "light"
     },
     "output_type": "display_data"
    }
   ],
   "source": [
    "import numpy as np\n",
    "import matplotlib.pyplot as plt\n",
    "\n",
    "xdata = np.linspace(min(x),max(x),100)\n",
    "plt.plot(xdata,cs1(xdata),'-')\n",
    "plt.plot(xdata,cs2(xdata),'--')\n",
    "#plt.scatter(x,f,color='red')"
   ]
  },
  {
   "cell_type": "code",
   "execution_count": 7,
   "metadata": {},
   "outputs": [],
   "source": [
    "cs1 = cs.derivative(1)\n",
    "cs2 = cs.derivative(2)"
   ]
  },
  {
   "cell_type": "code",
   "execution_count": 38,
   "metadata": {},
   "outputs": [
    {
     "name": "stdout",
     "output_type": "stream",
     "text": [
      "13.591409142144073\n",
      "13.611609702298628\n"
     ]
    },
    {
     "data": {
      "image/png": "[encoded data removed]",
      "text/plain": [
       "<Figure size 432x288 with 1 Axes>"
      ]
     },
     "metadata": {
      "needs_background": "light"
     },
     "output_type": "display_data"
    }
   ],
   "source": [
    "# 가) f(x) = np.exp(x) + 2.0*np.exp(x**2) 의 미분을 x = 1일때 찾으시오\n",
    "from scipy.misc import derivative\n",
    "\n",
    "def f(x):\n",
    "    return np.exp(x) + 2.0*np.exp(x**2)\n",
    "print(derivative(f,1,dx=1e-6))\n",
    "\n",
    "# 나) f(x)를 x = [0,0.2,0.4,...2.0]에서 구하고 이 값을 보간하여 x = 1  일때에 미분을 찾으시오\n",
    "xx = np.arange(0,2.1,0.2)\n",
    "fx = f(xx)\n",
    "plt.plot(xx,fx,'*')\n",
    "\n",
    "from scipy.interpolate import CubicSpline\n",
    "\n",
    "cs = CubicSpline(xx,fx)\n",
    "cs1 = cs.derivative(1)\n",
    "plt.plot(xx,cs1(xx))\n",
    "print(cs1(1))"
   ]
  },
  {
   "cell_type": "code",
   "execution_count": null,
   "metadata": {},
   "outputs": [],
   "source": [
    "# f'(x) = (f(x+h) - f(x-h)) / 2h\n",
    "# f''(x) = (f(x+h) + f(x-h) - 2*f(x)) / h**2"
   ]
  },
  {
   "cell_type": "code",
   "execution_count": 50,
   "metadata": {},
   "outputs": [
    {
     "data": {
      "text/plain": [
       "array([0.08, 0.08, 0.08, 0.08])"
      ]
     },
     "execution_count": 50,
     "metadata": {},
     "output_type": "execute_result"
    }
   ],
   "source": [
    "dx = 0.08\n",
    "\n",
    "x = [0.84, 0.92, 1.00, 1.08, 1.16]\n",
    "f = [0.431711, 0.398519, 0.367879, 0.339596, 0.313486]\n",
    "\n",
    "np.diff(x)"
   ]
  },
  {
   "cell_type": "code",
   "execution_count": 51,
   "metadata": {},
   "outputs": [
    {
     "data": {
      "text/plain": [
       "array([-0.4149    , -0.39895   , -0.36826875, -0.33995625, -0.326375  ])"
      ]
     },
     "execution_count": 51,
     "metadata": {},
     "output_type": "execute_result"
    }
   ],
   "source": [
    "np.gradient(f,x)"
   ]
  },
  {
   "cell_type": "code",
   "execution_count": 52,
   "metadata": {},
   "outputs": [
    {
     "data": {
      "text/plain": [
       "-0.4149"
      ]
     },
     "execution_count": 52,
     "metadata": {},
     "output_type": "execute_result"
    }
   ],
   "source": [
    "# x = 0일때 미분\n",
    "(f[1] - f[0]) / dx "
   ]
  },
  {
   "cell_type": "code",
   "execution_count": 53,
   "metadata": {},
   "outputs": [
    {
     "data": {
      "text/plain": [
       "-0.39894999999999997"
      ]
     },
     "execution_count": 53,
     "metadata": {},
     "output_type": "execute_result"
    }
   ],
   "source": [
    "# x = 0.92 일때 미분\n",
    "(f[2] - f[0]) / (2.0*dx)"
   ]
  },
  {
   "cell_type": "code",
   "execution_count": 54,
   "metadata": {},
   "outputs": [
    {
     "data": {
      "text/plain": [
       "0.39874999999999977"
      ]
     },
     "execution_count": 54,
     "metadata": {},
     "output_type": "execute_result"
    }
   ],
   "source": [
    "# x = 0.92 일때 이차 미분을 찾으시오\n",
    "(f[2] + f[0] - 2*f[1])/ (dx**2)"
   ]
  },
  {
   "cell_type": "code",
   "execution_count": 1,
   "metadata": {},
   "outputs": [],
   "source": [
    "# 유한차분 공식 유도 및 응용.\n",
    "# 오차검토.\n",
    "# 리쳐드선 외삽.\n",
    "# 스플라인 미분.\n",
    "# 응용문제."
   ]
  },
  {
   "cell_type": "code",
   "execution_count": 56,
   "metadata": {},
   "outputs": [],
   "source": [
    "# f(x) = exp(-x) 풀이, x = -1 일때 f''(x) 를 구하여라\n",
    "# exp(-x*x) \n",
    "# 6 and 8 digits."
   ]
  },
  {
   "cell_type": "code",
   "execution_count": 7,
   "metadata": {},
   "outputs": [
    {
     "data": {
      "text/plain": [
       "array([-2.90768828, -2.76491094, -2.72989375, -2.7211875 , -2.7190125 ,\n",
       "       -2.718475  , -2.71835   , -2.7183    , -2.7182    , -2.7184    ,\n",
       "       -2.7184    , -2.7184    ])"
      ]
     },
     "execution_count": 7,
     "metadata": {},
     "output_type": "execute_result"
    }
   ],
   "source": [
    "import numpy as np\n",
    "# f'(x) = ( f(x+h) - f(x-h)) / 2h\n",
    "x = -1.0\n",
    "h = 0.64\n",
    "ha = np.array([h/(2**i) for i in range(0,12)])\n",
    "\n",
    "def df(f,x,df):\n",
    "    df = ( f(x + dx) - f(x - dx) ) / (2.0*dx)\n",
    "    return df\n",
    "\n",
    "h = ha\n",
    "ndigits = 6\n",
    "der6 = (np. around(np.exp(-x - h),ndigits) - np.around(np.exp(-x + h),ndigits)) / (2*h)\n",
    "der6"
   ]
  },
  {
   "cell_type": "code",
   "execution_count": 22,
   "metadata": {},
   "outputs": [
    {
     "data": {
      "text/plain": [
       "array([2.812342, 2.741557, 2.724086, 2.719732, 2.718644, 2.718372,\n",
       "       2.718304, 2.718287, 2.718283, 2.718282, 2.718282, 2.718282])"
      ]
     },
     "execution_count": 22,
     "metadata": {},
     "output_type": "execute_result"
    }
   ],
   "source": [
    "# ( f(x+h) + f(x-h) - 2*f(x) ) / h**2\n",
    "# f''(-1) 을 여러 h 값에 대한 유한 차분 근사로 찾기\n",
    "\n",
    "import numpy as np\n",
    "x = -1.0\n",
    "h = 0.64\n",
    "ha = np.array([h/(2**i) for i in range(0,12)])\n",
    "\n",
    "def df(f,x,df):\n",
    "    df = ( f(x + dx) - f(x - dx) ) / (2.0*dx)\n",
    "    return df\n",
    "\n",
    "h = ha\n",
    "ndigits = 6\n",
    "der6 = np.around( (np.exp(-x + h)+ np.exp(-x - h) - 2*np.exp(-x))/ h**2,ndigits) \n",
    "\n",
    "der6"
   ]
  },
  {
   "cell_type": "code",
   "execution_count": null,
   "metadata": {},
   "outputs": [],
   "source": []
  }
 ],
 "metadata": {
  "kernelspec": {
   "display_name": "Python 3",
   "language": "python",
   "name": "python3"
  },
  "language_info": {
   "codemirror_mode": {
    "name": "ipython",
    "version": 3
   },
   "file_extension": ".py",
   "mimetype": "text/x-python",
   "name": "python",
   "nbconvert_exporter": "python",
   "pygments_lexer": "ipython3",
   "version": "3.6.8"
  }
 },
 "nbformat": 4,
 "nbformat_minor": 4
}
