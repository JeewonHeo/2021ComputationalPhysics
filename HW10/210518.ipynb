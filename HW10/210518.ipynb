{
 "cells": [
  {
   "cell_type": "code",
   "execution_count": null,
   "metadata": {},
   "outputs": [],
   "source": [
    "# Romberg\n",
    "# Gauss Legendre\n",
    "# Multidimensional integration"
   ]
  },
  {
   "cell_type": "code",
   "execution_count": null,
   "metadata": {},
   "outputs": [],
   "source": [
    "# Romberg = trapezoid + Richardson iextrapolation"
   ]
  },
  {
   "cell_type": "code",
   "execution_count": 8,
   "metadata": {},
   "outputs": [],
   "source": [
    "import sys\n",
    "sys.path.append('../myModules')"
   ]
  },
  {
   "cell_type": "code",
   "execution_count": 2,
   "metadata": {},
   "outputs": [],
   "source": [
    "# h = ( b - a ) / 2**(k-1)"
   ]
  },
  {
   "cell_type": "code",
   "execution_count": 3,
   "metadata": {},
   "outputs": [
    {
     "ename": "SyntaxError",
     "evalue": "invalid syntax (<ipython-input-3-c934baa4772a>, line 2)",
     "output_type": "error",
     "traceback": [
      "\u001b[0;36m  File \u001b[0;32m\"<ipython-input-3-c934baa4772a>\"\u001b[0;36m, line \u001b[0;32m2\u001b[0m\n\u001b[0;31m    R_{i,j} = ( 4^{j-1} R_{i,j-1} - R_{i-1,j-1}) / (4^{j-1} -1)\u001b[0m\n\u001b[0m      ^\u001b[0m\n\u001b[0;31mSyntaxError\u001b[0m\u001b[0;31m:\u001b[0m invalid syntax\n"
     ]
    }
   ],
   "source": [
    "# Richardson formula\n",
    "R_{i,j} = ( 4^{j-1} R_{i,j-1} - R_{i-1,j-1}) / (4^{j-1} -1)"
   ]
  },
  {
   "cell_type": "code",
   "execution_count": 9,
   "metadata": {},
   "outputs": [
    {
     "name": "stdout",
     "output_type": "stream",
     "text": [
      "## module romberg\n",
      "\"\"\" I,nPanels = romberg(f,a,b,tol=1.0e-6).\n",
      "Romberg integration of f(x) from x = a to b.\n",
      "Returns the integral and the number of panels used.\n",
      "\"\"\"\n",
      "import numpy as np\n",
      "from trapezoid import *\n",
      "def romberg(f,a,b,tol=1.0e-6):\n",
      "    def richardson(r,k):\n",
      "        for j in range(k-1,0,-1):\n",
      "            const = 4.0**(k-j)\n",
      "            r[j] = (const*r[j+1] - r[j])/(const - 1.0)\n",
      "        return r\n",
      "\n",
      "    r = np.zeros(21)\n",
      "    r[1] = trapezoid(f,a,b,0.0,1)\n",
      "    r_old = r[1]\n",
      "    for k in range(2,21):\n",
      "        r[k] = trapezoid(f,a,b,r[k-1],k)\n",
      "        r = richardson(r,k)\n",
      "        if abs(r[1]-r_old) < tol*max(abs(r[1]),1.0):\n",
      "            return r[1],2**(k-1)\n",
      "        r_old = r[1]\n",
      "    print(\"Romberg quadrature did not converge\")\n"
     ]
    }
   ],
   "source": [
    "cat ../myModules/romberg.py"
   ]
  },
  {
   "cell_type": "code",
   "execution_count": 10,
   "metadata": {},
   "outputs": [],
   "source": [
    "# Integrate 2*x*x*cos(x*x) from 0 to pi"
   ]
  },
  {
   "cell_type": "code",
   "execution_count": 11,
   "metadata": {},
   "outputs": [
    {
     "data": {
      "text/plain": [
       "(-2.1244828548481873, 512)"
      ]
     },
     "execution_count": 11,
     "metadata": {},
     "output_type": "execute_result"
    }
   ],
   "source": [
    "import numpy as np\n",
    "from romberg import romberg\n",
    "def f(x):\n",
    "    return 2*x*x*np.cos(x*x)\n",
    "a = 0.0\n",
    "b = np.pi\n",
    "romberg(f,a,b,tol=1e-11)"
   ]
  },
  {
   "cell_type": "code",
   "execution_count": 12,
   "metadata": {},
   "outputs": [
    {
     "name": "stdout",
     "output_type": "stream",
     "text": [
      "Integral  -2.1244828546568817  Panels 524288\n"
     ]
    }
   ],
   "source": [
    "from trapezoid import trapezoid\n",
    "\n",
    "Iold = 0.0\n",
    "tol = 1e-11\n",
    "for k in range(1,21):\n",
    "    Inew = trapezoid(f,a,b,Iold,k)\n",
    "    if (k>1) and (abs(Inew - Iold) < tol) : break\n",
    "    Iold = Inew\n",
    "print('Integral ', Inew, ' Panels', 2**(k-1))"
   ]
  },
  {
   "cell_type": "code",
   "execution_count": 13,
   "metadata": {},
   "outputs": [
    {
     "name": "stdout",
     "output_type": "stream",
     "text": [
      "## module trapezoid\n",
      "\"\"\"Inew = trapezoid(f,a,b,Iold,k).\n",
      "Recursive trapezoidal rule:\n",
      "old = Integral of f(x) from x = a to b computed by\n",
      "trapezoidal rule with 2ˆ(k-1) panels.\n",
      "Inew = Same integral computed with 2ˆk panels.\n",
      "\"\"\"\n",
      "def trapezoid(f,a,b,Iold,k):\n",
      "    if k == 1:Inew = (f(a) + f(b))*(b - a)/2.0\n",
      "    else:\n",
      "        n = 2**(k -2 ) # Number of new points\n",
      "        h = (b - a)/n # Spacing of new points\n",
      "        x = a + h/2.0\n",
      "        sum = 0.0\n",
      "        for i in range(n):\n",
      "            sum = sum + f(x)\n",
      "            x=x+h\n",
      "        Inew = (Iold + h*sum)/2.0\n",
      "    return Inew\n"
     ]
    }
   ],
   "source": [
    "cat ../myModules/trapezoid.py"
   ]
  },
  {
   "cell_type": "code",
   "execution_count": 20,
   "metadata": {},
   "outputs": [
    {
     "data": {
      "text/plain": [
       "(-2.124482855356272, 409)"
      ]
     },
     "execution_count": 20,
     "metadata": {},
     "output_type": "execute_result"
    }
   ],
   "source": [
    "def trapezoid(f,a,b,Iold,k):\n",
    "    if k == 1:Inew = (f(a) + f(b))*(b - a)/2.0\n",
    "    else:\n",
    "        n = 2**(k -2 ) # Number of new points\n",
    "        h = (b - a)/n # Spacing of new points\n",
    "        x = a + h/2.0\n",
    "        sum = 0.0\n",
    "        for i in range(n):\n",
    "            sum = sum + f(x)\n",
    "            x=x+h\n",
    "        Inew = (Iold + h*sum)/2.0\n",
    "    return Inew\n",
    "\n",
    "def simp(f,a,b,tol):\n",
    "    Iold=0\n",
    "    for n in range(2,1000):\n",
    "        x = np.linspace(a,b,2*n+1)\n",
    "        y = f(x)\n",
    "        h = x[1] - x[0]\n",
    "        I1 = h*(y[0] + y[-1])\n",
    "        I4 = 4*h*(sum(y[1::2]))\n",
    "        I2 = 2*h*sum(y[2:-2:2])\n",
    "        Itot = (I1 + I4 + I2)/3\n",
    "        if (k>1) and (abs(Itot - Iold)<tol):break\n",
    "        Iold = Itot\n",
    "    return Itot, 2*n+1\n",
    "\n",
    "\n",
    "simp(f,0,np.pi,1e-11)"
   ]
  },
  {
   "cell_type": "code",
   "execution_count": null,
   "metadata": {},
   "outputs": [],
   "source": [
    "# Integrate 2*x*x*cos(x*x) from 0 to pi 적분을 tol = 1e-11까지 구하시오\n",
    "# (-2.1244828548481873, 512) # 롬베르그 답\n",
    "# Integral  -2.1244828546568817  Panels 524288  # 사다리꼴\n",
    "# 심슨 1/3  Error ~ h^4,  h~ 0.00001, 10^{12}의 정확도가 기대됨."
   ]
  },
  {
   "cell_type": "code",
   "execution_count": 25,
   "metadata": {},
   "outputs": [
    {
     "data": {
      "text/plain": [
       "(-2.124482855356272, 409)"
      ]
     },
     "execution_count": 25,
     "metadata": {},
     "output_type": "execute_result"
    }
   ],
   "source": [
    "def simp(f,a,b,tol):\n",
    "    Iold=0\n",
    "    for n in range(2,1000):\n",
    "        x = np.linspace(a,b,2*n+1)\n",
    "        y = f(x)\n",
    "        h = x[1] - x[0]\n",
    "        I1 = h*(y[0] + y[-1])\n",
    "        I4 = 4*h*(sum(y[1::2]))\n",
    "        I2 = 2*h*sum(y[2:-2:2])\n",
    "        Itot = (I1 + I4 + I2)/3\n",
    "        if (k>1) and (abs(Itot - Iold)<tol):break\n",
    "        Iold = Itot\n",
    "    return Itot, 2*n+1\n",
    "simp(f,0,np.pi,1e-11)"
   ]
  },
  {
   "cell_type": "code",
   "execution_count": 3,
   "metadata": {},
   "outputs": [
    {
     "name": "stdout",
     "output_type": "stream",
     "text": [
      "R11 R21 R22  1.9236706937217898e-16 1.5707963267948966 2.0943951023931953\n"
     ]
    }
   ],
   "source": [
    "'''f(x) = np.sin(x) 를 제로에서 파이까지 롬베르그 적분법을 써서 푸시오.\n",
    "\n",
    "R11, R21, R22, R31, R32, R33\n",
    "\n",
    "R11, R22 -> tolerance\n",
    "R22, R33 -> tolerance\n",
    "'''\n",
    "def f(x):    return np.sin(x)\n",
    "h = np.pi\n",
    "R11 = ( f(0) + f(np.pi) ) * h /2    #h = pi\n",
    "\n",
    "h = np.pi/2\n",
    "R21 = ( f(0) + 2*f(np.pi/2) + f(np.pi) ) * h/2    #h = pi/2\n",
    "R22 = (2 **2 * R21 - R11) / (2**2 -1)\n",
    "\n",
    "print('R11 R21 R22 ',R11,R21,R22)\n"
   ]
  },
  {
   "cell_type": "code",
   "execution_count": 31,
   "metadata": {},
   "outputs": [
    {
     "data": {
      "text/plain": [
       "(2.0000000000013207, 32)"
      ]
     },
     "execution_count": 31,
     "metadata": {},
     "output_type": "execute_result"
    }
   ],
   "source": [
    "romberg(f,0,np.pi)"
   ]
  },
  {
   "cell_type": "code",
   "execution_count": 2,
   "metadata": {},
   "outputs": [
    {
     "ename": "ModuleNotFoundError",
     "evalue": "No module named 'trapezoid'",
     "output_type": "error",
     "traceback": [
      "\u001b[0;31m---------------------------------------------------------------------------\u001b[0m",
      "\u001b[0;31mModuleNotFoundError\u001b[0m                       Traceback (most recent call last)",
      "\u001b[0;32m<ipython-input-2-780191913c87>\u001b[0m in \u001b[0;36m<module>\u001b[0;34m\u001b[0m\n\u001b[1;32m      1\u001b[0m \u001b[0;32mimport\u001b[0m \u001b[0mnumpy\u001b[0m \u001b[0;32mas\u001b[0m \u001b[0mnp\u001b[0m\u001b[0;34m\u001b[0m\u001b[0;34m\u001b[0m\u001b[0m\n\u001b[0;32m----> 2\u001b[0;31m \u001b[0;32mfrom\u001b[0m \u001b[0mtrapezoid\u001b[0m \u001b[0;32mimport\u001b[0m \u001b[0;34m*\u001b[0m\u001b[0;34m\u001b[0m\u001b[0;34m\u001b[0m\u001b[0m\n\u001b[0m\u001b[1;32m      3\u001b[0m \u001b[0;32mdef\u001b[0m \u001b[0mrichardson\u001b[0m\u001b[0;34m(\u001b[0m\u001b[0mr\u001b[0m\u001b[0;34m,\u001b[0m\u001b[0mk\u001b[0m\u001b[0;34m)\u001b[0m\u001b[0;34m:\u001b[0m\u001b[0;34m\u001b[0m\u001b[0;34m\u001b[0m\u001b[0m\n\u001b[1;32m      4\u001b[0m     \u001b[0;32mfor\u001b[0m \u001b[0mj\u001b[0m \u001b[0;32min\u001b[0m \u001b[0mrange\u001b[0m\u001b[0;34m(\u001b[0m\u001b[0mk\u001b[0m\u001b[0;34m-\u001b[0m\u001b[0;36m1\u001b[0m\u001b[0;34m,\u001b[0m\u001b[0;36m0\u001b[0m\u001b[0;34m,\u001b[0m\u001b[0;34m-\u001b[0m\u001b[0;36m1\u001b[0m\u001b[0;34m)\u001b[0m\u001b[0;34m:\u001b[0m\u001b[0;34m\u001b[0m\u001b[0;34m\u001b[0m\u001b[0m\n\u001b[1;32m      5\u001b[0m         \u001b[0mconst\u001b[0m \u001b[0;34m=\u001b[0m \u001b[0;36m4.0\u001b[0m\u001b[0;34m**\u001b[0m\u001b[0;34m(\u001b[0m\u001b[0mk\u001b[0m\u001b[0;34m-\u001b[0m\u001b[0mj\u001b[0m\u001b[0;34m)\u001b[0m\u001b[0;34m\u001b[0m\u001b[0;34m\u001b[0m\u001b[0m\n",
      "\u001b[0;31mModuleNotFoundError\u001b[0m: No module named 'trapezoid'"
     ]
    }
   ],
   "source": [
    "import numpy as np\n",
    "from trapezoid import *\n",
    "def richardson(r,k):\n",
    "    for j in range(k-1,0,-1):\n",
    "        const = 4.0**(k-j)\n",
    "        r[j] = (const*r[j+1] - r[j])/(const - 1.0)\n",
    "    return r\n",
    "\n",
    "r = np.zeros(5)\n",
    "r[1] = R11\n",
    "for k in range(2,4):\n",
    "    r[k] = trapezoid(f,a,b,r[k-1],k)\n",
    "    r = richardson(r,k)\n",
    "    print(' R    ',r)"
   ]
  },
  {
   "cell_type": "code",
   "execution_count": 40,
   "metadata": {},
   "outputs": [],
   "source": [
    "# R_{k,2} richardson extrapolated value = Simpson 1/3"
   ]
  },
  {
   "cell_type": "code",
   "execution_count": 41,
   "metadata": {},
   "outputs": [],
   "source": [
    "# R_{k,2} = R_{k,1}*4/3 - (1/3)*R_{k-1,1}\n",
    "# beta = 2**2/(2**2-1);  alpha = 1/(2**2-1)"
   ]
  },
  {
   "cell_type": "code",
   "execution_count": 42,
   "metadata": {},
   "outputs": [],
   "source": [
    "# Gaussian integral"
   ]
  },
  {
   "cell_type": "code",
   "execution_count": 43,
   "metadata": {},
   "outputs": [],
   "source": [
    "# I = sum_{i} w_i * f(x_i)\n",
    "# x_i 를 알고리즘이 제공\n",
    "# w_i 도 이미 정해져 있음"
   ]
  },
  {
   "cell_type": "code",
   "execution_count": 44,
   "metadata": {},
   "outputs": [
    {
     "name": "stdout",
     "output_type": "stream",
     "text": [
      "## module gaussNodes\n",
      "\"\"\" x,A = gaussNodes(m,tol=10e-9)\n",
      "Returns nodal abscissas {x} and weights {A} of\n",
      "Gauss-Legendre m-point quadrature.\n",
      "\"\"\"\n",
      "import math\n",
      "import numpy as np\n",
      "def gaussNodes(m,tol=10e-9):\n",
      "\n",
      "    def legendre(t,m):\n",
      "        p0 = 1.0; p1 = t\n",
      "        for k in range(1,m):\n",
      "            p = ((2.0*k + 1.0)*t*p1 - k*p0)/(1.0 + k )\n",
      "            p0 = p1; p1 = p\n",
      "        dp = m*(p0 - t*p1)/(1.0 - t**2)\n",
      "        return p,dp\n",
      "    A = np.zeros(m)\n",
      "    x = np.zeros(m)\n",
      "    nRoots = int((m + 1)/2) # Number of non-neg. roots\n",
      "    for i in range(nRoots):\n",
      "        t = math.cos(math.pi*(i + 0.75)/(m + 0.5))# Approx. root\n",
      "        for j in range(30):\n",
      "            p,dp = legendre(t,m) # Newton-Raphson\n",
      "            dt = -p/dp; t = t + dt # method\n",
      "            if abs(dt) < tol:\n",
      "                x[i] = t; x[m-i-1] = -t\n",
      "                A[i] = 2.0/(1.0 - t**2)/(dp**2) # Eq.(6.25)\n",
      "                A[m-i-1] = A[i]\n",
      "                break\n",
      "    return x,A\n"
     ]
    }
   ],
   "source": [
    "cat ../myModules/gaussNodes.py"
   ]
  },
  {
   "cell_type": "code",
   "execution_count": 45,
   "metadata": {},
   "outputs": [],
   "source": [
    "from gaussNodes import gaussNodes"
   ]
  },
  {
   "cell_type": "code",
   "execution_count": 71,
   "metadata": {},
   "outputs": [],
   "source": [
    "node = gaussNodes(3,tol=1e-12)    # n = 1, m = 3, m = 2*n+1\n",
    "nodes = node[0]\n",
    "weights = node[1]"
   ]
  },
  {
   "cell_type": "code",
   "execution_count": 72,
   "metadata": {},
   "outputs": [],
   "source": [
    "def f(x): return x**2"
   ]
  },
  {
   "cell_type": "code",
   "execution_count": 73,
   "metadata": {},
   "outputs": [
    {
     "name": "stdout",
     "output_type": "stream",
     "text": [
      "## module gaussQuad\n",
      "\"\"\" I = gaussQuad(f,a,b,m).\n",
      "Computes the integral of f(x) from x = a to b\n",
      "with Gauss-Legendre quadrature using m nodes.\n",
      "\"\"\"\n",
      "from gaussNodes import *\n",
      "\n",
      "def gaussQuad(f,a,b,m):\n",
      "    c1 = (b + a)/2.0\n",
      "    c2 = (b - a)/2.0\n",
      "    x,A = gaussNodes(m)\n",
      "    sum = 0.0\n",
      "    for i in range(len(x)):\n",
      "        sum = sum + A[i]*f(c1 + c2*x[i])\n",
      "    return c2*sum\n"
     ]
    }
   ],
   "source": [
    "cat ../myModules/gaussQuad.py"
   ]
  },
  {
   "cell_type": "code",
   "execution_count": 74,
   "metadata": {},
   "outputs": [
    {
     "data": {
      "text/plain": [
       "0.6666666495101168"
      ]
     },
     "execution_count": 74,
     "metadata": {},
     "output_type": "execute_result"
    }
   ],
   "source": [
    "from gaussQuad import gaussQuad\n",
    "gaussQuad(f,-1,1,2)    # package"
   ]
  },
  {
   "cell_type": "code",
   "execution_count": 75,
   "metadata": {},
   "outputs": [
    {
     "data": {
      "text/plain": [
       "0.6666666666666633"
      ]
     },
     "execution_count": 75,
     "metadata": {},
     "output_type": "execute_result"
    }
   ],
   "source": [
    "sum(f(nodes)*weights)"
   ]
  },
  {
   "cell_type": "code",
   "execution_count": 76,
   "metadata": {},
   "outputs": [
    {
     "data": {
      "text/plain": [
       "0.39999999999999797"
      ]
     },
     "execution_count": 76,
     "metadata": {},
     "output_type": "execute_result"
    }
   ],
   "source": [
    "def ff(x): return x**4\n",
    "sum(ff(nodes)*weights)"
   ]
  },
  {
   "cell_type": "code",
   "execution_count": null,
   "metadata": {},
   "outputs": [],
   "source": [
    "x = (b+a)/2 + xi*(b-a)/2\n",
    "I = int_a^b f(x) dx = ((b-a_/2))*Int_{-1}^{1} f(xi) d xi"
   ]
  },
  {
   "cell_type": "code",
   "execution_count": null,
   "metadata": {},
   "outputs": [],
   "source": []
  }
 ],
 "metadata": {
  "kernelspec": {
   "display_name": "Python 3",
   "language": "python",
   "name": "python3"
  },
  "language_info": {
   "codemirror_mode": {
    "name": "ipython",
    "version": 3
   },
   "file_extension": ".py",
   "mimetype": "text/x-python",
   "name": "python",
   "nbconvert_exporter": "python",
   "pygments_lexer": "ipython3",
   "version": "3.6.8"
  }
 },
 "nbformat": 4,
 "nbformat_minor": 4
}
