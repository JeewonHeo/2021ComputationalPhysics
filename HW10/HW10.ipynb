{
 "cells": [
  {
   "cell_type": "code",
   "execution_count": 2,
   "metadata": {},
   "outputs": [],
   "source": [
    "import numpy as np\n",
    "x = np.array([0.84, 0.92, 1.00, 1.08, 1.16])\n",
    "fx = np.array([0.431711, 0.398519, 0.367879, 0.339596, 0.313486])\n",
    "h = np.diff(x)[0]"
   ]
  },
  {
   "cell_type": "code",
   "execution_count": 3,
   "metadata": {},
   "outputs": [
    {
     "name": "stdout",
     "output_type": "stream",
     "text": [
      "Itot  0.11822440000000012\n"
     ]
    }
   ],
   "source": [
    "# 1-1\n",
    "I1 = h*(fx[0] + fx[-1])\n",
    "I4 = 4*h*(fx[1] + fx[3])\n",
    "I2 = 2*h*fx[2]\n",
    "\n",
    "Itot = (I1 + I4 + I2)/3\n",
    "print('Itot ',Itot)"
   ]
  },
  {
   "cell_type": "code",
   "execution_count": 4,
   "metadata": {},
   "outputs": [
    {
     "name": "stdout",
     "output_type": "stream",
     "text": [
      "integral  0.11828740000000013\n"
     ]
    }
   ],
   "source": [
    "# 1-2\n",
    "Integral = h * (fx[0] + 2.*fx[1] + 2.*fx[2] + 2.*fx[3] + fx[4]) * (1/2)\n",
    "print('integral ',Integral)"
   ]
  },
  {
   "cell_type": "code",
   "execution_count": 5,
   "metadata": {},
   "outputs": [
    {
     "name": "stdout",
     "output_type": "stream",
     "text": [
      "Simpson rule : 0.11822440000000012\n",
      "panel 8 : 0.11824497106205746 error : 0.000174000139204279\n",
      "panel 16 : 0.11822887998261719 error : 3.789389176069166e-05\n",
      "panel 32 : 0.11822544890643584 error : 8.872165438958798e-06\n"
     ]
    }
   ],
   "source": [
    "# 1-3\n",
    "from scipy.interpolate import CubicSpline\n",
    "cs = CubicSpline(x,fx)\n",
    "\n",
    "def panel(n):\n",
    "    x = np.linspace(0.84,1.16,n)\n",
    "    h = np.diff(x)[0]\n",
    "    I = h*(2.0*sum(cs(x)) - cs(x[0]) - cs(x[-1]))/2\n",
    "    return I\n",
    "\n",
    "error = lambda n: abs(Itot - panel(n))/Itot\n",
    "print('Simpson rule :',Itot)\n",
    "print('panel 8 :',panel(8),'error :',error(8))\n",
    "print('panel 16 :',panel(16),'error :',error(16))\n",
    "print('panel 32 :',panel(32),'error :',error(32))"
   ]
  },
  {
   "cell_type": "code",
   "execution_count": 8,
   "metadata": {},
   "outputs": [
    {
     "name": "stdout",
     "output_type": "stream",
     "text": [
      "1.0986292798354076e-06\n"
     ]
    }
   ],
   "source": [
    "# 2\n",
    "from scipy.integrate import quad\n",
    "import numpy as np\n",
    "\n",
    "R = 1    # 1000mm = 1m\n",
    "dtheta_dt = 5000./60.*2.*np.pi\n",
    "h = 0.01\n",
    "\n",
    "def x(theta):\n",
    "    return R*(np.cos(theta) + np.sqrt(2.5**2 - np.sin(theta)**2))\n",
    "\n",
    "def v(t):\n",
    "    theta = t*dtheta_dt\n",
    "    return dtheta_dt * ( x(theta + h) - x(theta - h) ) / (2.*h)    # v = dtheta_dt * (dx/dtheta)\n",
    "\n",
    "def a(t):\n",
    "    theta = t*dtheta_dt\n",
    "    return (dtheta_dt**2) * ( x(theta + h) + x(theta - h) - 2*x(theta) ) / (h**2.)   # a = dtheta_dt**2 * (d^2x/dtheta^2) \n",
    "\n",
    "def av(t):\n",
    "    return a(t)*v(t)\n",
    "\n",
    "print(quad(av,0,0.012)[0])"
   ]
  },
  {
   "cell_type": "code",
   "execution_count": 3,
   "metadata": {},
   "outputs": [
    {
     "name": "stdout",
     "output_type": "stream",
     "text": [
      "Integral  0.2721982612879502 \n",
      "Panels  2 \n",
      "tol  1e-16\n"
     ]
    }
   ],
   "source": [
    "# 3\n",
    "import numpy as np\n",
    "\n",
    "def f(x):\n",
    "    return np.log(1+np.tan(x))\n",
    "\n",
    "def trapezoid(f,a,b,Iold,k):\n",
    "    if k == 1:Inew = (f(a) + f(b))*(b - a)/2.0\n",
    "    else:\n",
    "        n = 2**(k -2 ) # Number of new points\n",
    "        h = (b - a)/n # Spacing of new points\n",
    "        x = a + h/2.0\n",
    "        sum = 0.0\n",
    "        for i in range(n):\n",
    "            sum = sum + f(x)\n",
    "            x=x+h\n",
    "        Inew = (Iold + h*sum)/2.0\n",
    "    return Inew\n",
    "\n",
    "Iold = 0.0\n",
    "tol = 1e-16\n",
    "a = np.pi/4\n",
    "\n",
    "for k in range(1,21):\n",
    "    Inew = trapezoid(f,0,a,Iold,k)\n",
    "    if (k>1) and (abs(Inew - Iold) < tol) : break\n",
    "    Iold = Inew\n",
    "print('Integral ', Inew, '\\nPanels ', 2**(k-1),'\\ntol ',tol)"
   ]
  },
  {
   "cell_type": "code",
   "execution_count": null,
   "metadata": {},
   "outputs": [],
   "source": []
  },
  {
   "cell_type": "code",
   "execution_count": null,
   "metadata": {},
   "outputs": [],
   "source": []
  }
 ],
 "metadata": {
  "kernelspec": {
   "display_name": "Python 3",
   "language": "python",
   "name": "python3"
  },
  "language_info": {
   "codemirror_mode": {
    "name": "ipython",
    "version": 3
   },
   "file_extension": ".py",
   "mimetype": "text/x-python",
   "name": "python",
   "nbconvert_exporter": "python",
   "pygments_lexer": "ipython3",
   "version": "3.6.8"
  }
 },
 "nbformat": 4,
 "nbformat_minor": 4
}
