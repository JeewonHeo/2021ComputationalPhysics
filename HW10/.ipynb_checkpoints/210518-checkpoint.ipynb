{
 "cells": [
  {
   "cell_type": "code",
   "execution_count": null,
   "metadata": {},
   "outputs": [],
   "source": [
    "# Romberg\n",
    "# Gauss Legendre\n",
    "# Multidimensional integration"
   ]
  },
  {
   "cell_type": "code",
   "execution_count": null,
   "metadata": {},
   "outputs": [],
   "source": [
    "# Romberg = trapezoid + Richardson iextrapolation"
   ]
  },
  {
   "cell_type": "code",
   "execution_count": 8,
   "metadata": {},
   "outputs": [],
   "source": [
    "import sys\n",
    "sys.path.append('../myModules')"
   ]
  },
  {
   "cell_type": "code",
   "execution_count": 2,
   "metadata": {},
   "outputs": [],
   "source": [
    "# h = ( b - a ) / 2**(k-1)"
   ]
  },
  {
   "cell_type": "code",
   "execution_count": 3,
   "metadata": {},
   "outputs": [
    {
     "ename": "SyntaxError",
     "evalue": "invalid syntax (<ipython-input-3-c934baa4772a>, line 2)",
     "output_type": "error",
     "traceback": [
      "\u001b[0;36m  File \u001b[0;32m\"<ipython-input-3-c934baa4772a>\"\u001b[0;36m, line \u001b[0;32m2\u001b[0m\n\u001b[0;31m    R_{i,j} = ( 4^{j-1} R_{i,j-1} - R_{i-1,j-1}) / (4^{j-1} -1)\u001b[0m\n\u001b[0m      ^\u001b[0m\n\u001b[0;31mSyntaxError\u001b[0m\u001b[0;31m:\u001b[0m invalid syntax\n"
     ]
    }
   ],
   "source": [
    "# Richardson formula\n",
    "R_{i,j} = ( 4^{j-1} R_{i,j-1} - R_{i-1,j-1}) / (4^{j-1} -1)"
   ]
  },
  {
   "cell_type": "code",
   "execution_count": 9,
   "metadata": {},
   "outputs": [
    {
     "name": "stdout",
     "output_type": "stream",
     "text": [
      "## module romberg\n",
      "\"\"\" I,nPanels = romberg(f,a,b,tol=1.0e-6).\n",
      "Romberg integration of f(x) from x = a to b.\n",
      "Returns the integral and the number of panels used.\n",
      "\"\"\"\n",
      "import numpy as np\n",
      "from trapezoid import *\n",
      "def romberg(f,a,b,tol=1.0e-6):\n",
      "    def richardson(r,k):\n",
      "        for j in range(k-1,0,-1):\n",
      "            const = 4.0**(k-j)\n",
      "            r[j] = (const*r[j+1] - r[j])/(const - 1.0)\n",
      "        return r\n",
      "\n",
      "    r = np.zeros(21)\n",
      "    r[1] = trapezoid(f,a,b,0.0,1)\n",
      "    r_old = r[1]\n",
      "    for k in range(2,21):\n",
      "        r[k] = trapezoid(f,a,b,r[k-1],k)\n",
      "        r = richardson(r,k)\n",
      "        if abs(r[1]-r_old) < tol*max(abs(r[1]),1.0):\n",
      "            return r[1],2**(k-1)\n",
      "        r_old = r[1]\n",
      "    print(\"Romberg quadrature did not converge\")\n"
     ]
    }
   ],
   "source": [
    "cat ../myModules/romberg.py"
   ]
  },
  {
   "cell_type": "code",
   "execution_count": 10,
   "metadata": {},
   "outputs": [],
   "source": [
    "# Integrate 2*x*x*cos(x*x) from 0 to pi"
   ]
  },
  {
   "cell_type": "code",
   "execution_count": 11,
   "metadata": {},
   "outputs": [
    {
     "data": {
      "text/plain": [
       "(-2.1244828548481873, 512)"
      ]
     },
     "execution_count": 11,
     "metadata": {},
     "output_type": "execute_result"
    }
   ],
   "source": [
    "import numpy as np\n",
    "from romberg import romberg\n",
    "def f(x):\n",
    "    return 2*x*x*np.cos(x*x)\n",
    "a = 0.0\n",
    "b = np.pi\n",
    "romberg(f,a,b,tol=1e-11)"
   ]
  },
  {
   "cell_type": "code",
   "execution_count": 12,
   "metadata": {},
   "outputs": [
    {
     "name": "stdout",
     "output_type": "stream",
     "text": [
      "Integral  -2.1244828546568817  Panels 524288\n"
     ]
    }
   ],
   "source": [
    "from trapezoid import trapezoid\n",
    "\n",
    "Iold = 0.0\n",
    "tol = 1e-11\n",
    "for k in range(1,21):\n",
    "    Inew = trapezoid(f,a,b,Iold,k)\n",
    "    if (k>1) and (abs(Inew - Iold) < tol) : break\n",
    "    Iold = Inew\n",
    "print('Integral ', Inew, ' Panels', 2**(k-1))"
   ]
  },
  {
   "cell_type": "code",
   "execution_count": 13,
   "metadata": {},
   "outputs": [
    {
     "name": "stdout",
     "output_type": "stream",
     "text": [
      "## module trapezoid\n",
      "\"\"\"Inew = trapezoid(f,a,b,Iold,k).\n",
      "Recursive trapezoidal rule:\n",
      "old = Integral of f(x) from x = a to b computed by\n",
      "trapezoidal rule with 2ˆ(k-1) panels.\n",
      "Inew = Same integral computed with 2ˆk panels.\n",
      "\"\"\"\n",
      "def trapezoid(f,a,b,Iold,k):\n",
      "    if k == 1:Inew = (f(a) + f(b))*(b - a)/2.0\n",
      "    else:\n",
      "        n = 2**(k -2 ) # Number of new points\n",
      "        h = (b - a)/n # Spacing of new points\n",
      "        x = a + h/2.0\n",
      "        sum = 0.0\n",
      "        for i in range(n):\n",
      "            sum = sum + f(x)\n",
      "            x=x+h\n",
      "        Inew = (Iold + h*sum)/2.0\n",
      "    return Inew\n"
     ]
    }
   ],
   "source": [
    "cat ../myModules/trapezoid.py"
   ]
  },
  {
   "cell_type": "code",
   "execution_count": 14,
   "metadata": {},
   "outputs": [
    {
     "data": {
      "text/plain": [
       "-2.1244949634412458"
      ]
     },
     "execution_count": 14,
     "metadata": {},
     "output_type": "execute_result"
    }
   ],
   "source": [
    "def trapezoid(f,a,b,Iold,k):\n",
    "    if k == 1:Inew = (f(a) + f(b))*(b - a)/2.0\n",
    "    else:\n",
    "        n = 2**(k -2 ) # Number of new points\n",
    "        h = (b - a)/n # Spacing of new points\n",
    "        x = a + h/2.0\n",
    "        sum = 0.0\n",
    "        for i in range(n):\n",
    "            sum = sum + f(x)\n",
    "            x=x+h\n",
    "        Inew = (Iold + h*sum)/2.0\n",
    "    return Inew\n",
    "\n",
    "def simp(y,h,a,b):\n",
    "    # a, b를 대입했을때 노드 배열 x를 구하고\n",
    "    # 그 노드 배열에 해당하는 y(x) 배열을 찾고\n",
    "    # 밑의 적분 루틴을 적용하면 됨.\n",
    "    xx = np.arange(a,b,h)\n",
    "    y = y(xx)\n",
    "    # Simpson 1/3 rule, 1/4/2/4/1\n",
    "    I1 = h*(y[0] + y[-1])\n",
    "    I4 = 4*h*(sum(y[1::2]))\n",
    "    I2 = 2*h*sum(y[2:-2:2])\n",
    "    Itot = (I1 + I4 + I2)/3\n",
    "    #print('Itot ',Itot)\n",
    "    return Itot\n",
    "\n",
    "simp(f,0.00001,0,np.pi)"
   ]
  },
  {
   "cell_type": "code",
   "execution_count": null,
   "metadata": {},
   "outputs": [],
   "source": [
    "# Integrate 2*x*x*cos(x*x) from 0 to pi 적분을 tol = 1e-11까지 구하시오\n",
    "# (-2.1244828548481873, 512) # 롬베르그 답\n",
    "# Integral  -2.1244828546568817  Panels 524288  # 사다리꼴\n",
    "# 심슨 1/3 ? "
   ]
  },
  {
   "cell_type": "code",
   "execution_count": null,
   "metadata": {},
   "outputs": [],
   "source": []
  }
 ],
 "metadata": {
  "kernelspec": {
   "display_name": "Python 3",
   "language": "python",
   "name": "python3"
  },
  "language_info": {
   "codemirror_mode": {
    "name": "ipython",
    "version": 3
   },
   "file_extension": ".py",
   "mimetype": "text/x-python",
   "name": "python",
   "nbconvert_exporter": "python",
   "pygments_lexer": "ipython3",
   "version": "3.6.8"
  }
 },
 "nbformat": 4,
 "nbformat_minor": 4
}
