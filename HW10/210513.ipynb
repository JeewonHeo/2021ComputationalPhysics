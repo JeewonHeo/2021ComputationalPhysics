{
 "cells": [
  {
   "cell_type": "code",
   "execution_count": 22,
   "metadata": {},
   "outputs": [],
   "source": [
    "# 사다리꼴 적분 값을 찾으시오\n",
    "import numpy as np\n",
    "x = np.array([0, 0.5, 1.0, 1.5, 2.0])\n",
    "y = np.array([1.5, 2.0, 2.0, 1.6364, 1.25])#, 0.9565])"
   ]
  },
  {
   "cell_type": "code",
   "execution_count": 5,
   "metadata": {},
   "outputs": [
    {
     "name": "stdout",
     "output_type": "stream",
     "text": [
      "Integral  3.5057\n"
     ]
    }
   ],
   "source": [
    "# 1 2 2 2 1\n",
    "h = np.diff(x)[0]\n",
    "Integral = h * (y[0] + 2.*y[1] + 2.*y[2] + 2.*y[3] + y[4]) * (1/2)\n",
    "print('Integral ',Integral)"
   ]
  },
  {
   "cell_type": "code",
   "execution_count": 7,
   "metadata": {},
   "outputs": [
    {
     "data": {
      "text/plain": [
       "(3.549266666666667, 3.9404785857899416e-14)"
      ]
     },
     "execution_count": 7,
     "metadata": {},
     "output_type": "execute_result"
    }
   ],
   "source": [
    "# CubicSpline interpolation and integration\n",
    "from scipy.interpolate import CubicSpline\n",
    "from scipy.integrate import *\n",
    "\n",
    "cs = CubicSpline(x,y)\n",
    "quad(cs,0,2)"
   ]
  },
  {
   "cell_type": "code",
   "execution_count": 24,
   "metadata": {},
   "outputs": [
    {
     "name": "stdout",
     "output_type": "stream",
     "text": [
      "Itot  3.5492666666666666\n"
     ]
    }
   ],
   "source": [
    "# Simpson 1/3 rule, 1 4 1\n",
    "# y[0], y[1], y[2] \n",
    "# 1 4 2 4 1\n",
    "\n",
    "I1 = h*(y[0] + y[-1])\n",
    "I4 = 4*h*(y[1] + y[3])\n",
    "I2 = 2*h*y[2]\n",
    "\n",
    "Itot = (I1 + I4 + I2)/3\n",
    "print('Itot ',Itot)"
   ]
  },
  {
   "cell_type": "code",
   "execution_count": 14,
   "metadata": {},
   "outputs": [],
   "source": [
    "# Simpson 3/8 rule, 패널 갯수가 3개일때\n",
    "import numpy as np\n",
    "x = np.array([0, 0.5, 1.0, 1.5, 2.0, 2.5])\n",
    "y = np.array([1.5, 2.0, 2.0, 1.6364, 1.25, 0.9565])"
   ]
  },
  {
   "cell_type": "code",
   "execution_count": 18,
   "metadata": {},
   "outputs": [
    {
     "name": "stdout",
     "output_type": "stream",
     "text": [
      "I 4.0573250000000005\n"
     ]
    }
   ],
   "source": [
    "# 사다리꼴\n",
    "\n",
    "I = h*(2.0*sum(y) - (y[0] + y[-1]))/2\n",
    "print('I ',I)"
   ]
  },
  {
   "cell_type": "code",
   "execution_count": 33,
   "metadata": {},
   "outputs": [
    {
     "data": {
      "text/plain": [
       "4.138016666666666"
      ]
     },
     "execution_count": 33,
     "metadata": {},
     "output_type": "execute_result"
    }
   ],
   "source": [
    "# Simpson 1/3 rule, 1 4 1\n",
    "# y[0], y[1], y[2] \n",
    "# 1 4 2 4 1\n",
    "def simp(y,h):\n",
    "    I1 = h*(y[0] + y[-1])\n",
    "    I4 = 4*h*(sum(y[1::2]))\n",
    "    I2 = 2*h*sum(y[2:-2:2])\n",
    "    Itot = (I1 + I4 + I2)/3\n",
    "    #print('Itot ',Itot)\n",
    "    return Itot\n",
    "simp(y,h)"
   ]
  },
  {
   "cell_type": "code",
   "execution_count": 37,
   "metadata": {},
   "outputs": [
    {
     "name": "stdout",
     "output_type": "stream",
     "text": [
      "4.079883333333333 4.094610416666667\n"
     ]
    }
   ],
   "source": [
    "# 첫째 패널을 사다리꼴, 나머지 네개는 심슨 1/3\n",
    "# 첫째 두개는 심슨, 나머지 네개는 심슨 3/8\n",
    "import numpy as np\n",
    "x = np.array([0, 0.5, 1.0, 1.5, 2.0, 2.5])\n",
    "y = np.array([1.5, 2.0, 2.0, 1.6364, 1.25, 0.9565])\n",
    "I1 = (y[0]+y[1])*h/2 + simp(y[1:],h)\n",
    "I2 = simp(y[:2],h) + h*(y[2] + 3*y[3] + 3*y[4] + y[5])*3/8 \n",
    "\n",
    "print(I1,I2)"
   ]
  },
  {
   "cell_type": "code",
   "execution_count": null,
   "metadata": {},
   "outputs": [],
   "source": []
  }
 ],
 "metadata": {
  "kernelspec": {
   "display_name": "Python 3",
   "language": "python",
   "name": "python3"
  },
  "language_info": {
   "codemirror_mode": {
    "name": "ipython",
    "version": 3
   },
   "file_extension": ".py",
   "mimetype": "text/x-python",
   "name": "python",
   "nbconvert_exporter": "python",
   "pygments_lexer": "ipython3",
   "version": "3.6.8"
  }
 },
 "nbformat": 4,
 "nbformat_minor": 4
}
