{
 "cells": [
  {
   "cell_type": "code",
   "execution_count": 1,
   "metadata": {},
   "outputs": [],
   "source": [
    "# scipy 적분 툴\n",
    "# 뉴턴-코우트스. 사다리꼴, 심슨, 롬베르그. (라그장쥬 다항식적분)\n",
    "# 가우시안 적분법. 가우스-레잔(르장드르)\n",
    "# Multi-dimensional integration."
   ]
  },
  {
   "cell_type": "code",
   "execution_count": 3,
   "metadata": {},
   "outputs": [],
   "source": [
    "import sys\n",
    "sys.path.append('../myModules')"
   ]
  },
  {
   "cell_type": "code",
   "execution_count": 4,
   "metadata": {},
   "outputs": [],
   "source": [
    "from scipy.integrate import quad, nquad\n",
    "\n",
    "# scipy.integrate.quad(func, a, b, args=(), full_output=0, epsabs=1.49e-08 ......)\n",
    "\n",
    "# nquad \n",
    "# scipy.integrate.nquad"
   ]
  },
  {
   "cell_type": "code",
   "execution_count": 5,
   "metadata": {},
   "outputs": [
    {
     "data": {
      "text/plain": [
       "(0.5, 5.551115123125783e-15)"
      ]
     },
     "execution_count": 5,
     "metadata": {},
     "output_type": "execute_result"
    }
   ],
   "source": [
    "def f(x):\n",
    "    return x\n",
    "a=0; b=1\n",
    "quad(f,a,b)\n"
   ]
  },
  {
   "cell_type": "code",
   "execution_count": 10,
   "metadata": {},
   "outputs": [
    {
     "data": {
      "text/plain": [
       "(9.0, 9.992007221626409e-14)"
      ]
     },
     "execution_count": 10,
     "metadata": {},
     "output_type": "execute_result"
    }
   ],
   "source": [
    "# nquad 사용법\n",
    "\n",
    "def area(x,y):\n",
    "    return 1\n",
    "\n",
    "def f(x):\n",
    "    return x*x - 5.0*x + 6\n",
    "\n",
    "def g(x):\n",
    "    return -x*x + x + 6.0\n",
    "\n",
    "def dif(x):\n",
    "    return f(x) - g(x)\n",
    "\n",
    "boundx = [0,3]\n",
    "def boundy(x):\n",
    "    return [f(x),g(x)]\n",
    "\n",
    "nquad(area,[boundy,boundx])"
   ]
  },
  {
   "cell_type": "code",
   "execution_count": 24,
   "metadata": {},
   "outputs": [
    {
     "name": "stdout",
     "output_type": "stream",
     "text": [
      "0.7211102550927979\n"
     ]
    }
   ],
   "source": [
    "import numpy as np \n",
    "\n",
    "def i2(t):\n",
    "    i0 = 1\n",
    "    t0 = 0.05\n",
    "    beta = 0.2\n",
    "    return (i0*(np.sin(np.pi*t/t0) - beta*np.sin(2*np.pi*t/t0)))**2\n",
    "\n",
    "i_rms = np.sqrt(quad(i2,0,t0)[0]/t0)\n",
    "print(i_rms)"
   ]
  },
  {
   "cell_type": "code",
   "execution_count": 25,
   "metadata": {},
   "outputs": [],
   "source": [
    "# Newton - cotes integration.\n",
    "# 뉴턴 - 코우스트 적분."
   ]
  },
  {
   "cell_type": "code",
   "execution_count": 26,
   "metadata": {},
   "outputs": [],
   "source": [
    "# Trapezoid rule\n",
    "# 사다리꼴 적분"
   ]
  },
  {
   "cell_type": "code",
   "execution_count": 27,
   "metadata": {},
   "outputs": [],
   "source": [
    "# ( f(a) + f(b) )*h/2"
   ]
  },
  {
   "cell_type": "code",
   "execution_count": 28,
   "metadata": {},
   "outputs": [],
   "source": [
    "# l_0(x) = (x - x1) / (x0 - x1)\n",
    "# l_1(x) = (x - x0) / (x1 - x0)"
   ]
  },
  {
   "cell_type": "code",
   "execution_count": 29,
   "metadata": {},
   "outputs": [
    {
     "name": "stdout",
     "output_type": "stream",
     "text": [
      "## module trapezoid\n",
      "\"\"\"Inew = trapezoid(f,a,b,Iold,k).\n",
      "Recursive trapezoidal rule:\n",
      "old = Integral of f(x) from x = a to b computed by\n",
      "trapezoidal rule with 2ˆ(k-1) panels.\n",
      "Inew = Same integral computed with 2ˆk panels.\n",
      "\"\"\"\n",
      "def trapezoid(f,a,b,Iold,k):\n",
      "    if k == 1:Inew = (f(a) + f(b))*(b - a)/2.0\n",
      "    else:\n",
      "        n = 2**(k -2 ) # Number of new points\n",
      "        h = (b - a)/n # Spacing of new points\n",
      "        x = a + h/2.0\n",
      "        sum = 0.0\n",
      "        for i in range(n):\n",
      "            sum = sum + f(x)\n",
      "            x=x+h\n",
      "        Inew = (Iold + h*sum)/2.0\n",
      "    return Inew\n"
     ]
    }
   ],
   "source": [
    "!cat ../myModules/trapezoid.py"
   ]
  },
  {
   "cell_type": "code",
   "execution_count": 42,
   "metadata": {},
   "outputs": [
    {
     "name": "stdout",
     "output_type": "stream",
     "text": [
      "2.75\n",
      "3.375\n",
      "3.5057\n"
     ]
    }
   ],
   "source": [
    "# 사다리꼴 적분 값을 찾으시오 \n",
    "x = np.arange(0,2.5,0.5)\n",
    "y = np.array([1.5, 2.0, 2.0, 1.6364, 1.25])#, 0.9565])\n",
    "\n",
    "I0 = (y[4] + y[0]) * (x[4] - x[0])/2\n",
    "print(I0)\n",
    "I1 = (y[2] + y[0]) * (x[2] - x[0])/2 + (y[4] + y[2]) * (x[4] - x[2])/2\n",
    "print(I1)\n",
    "I2 = ( y[0] + 2*y[1] + 2*y[2] + 2*y[3] + y[4] ) * 0.5 /2\n",
    "print(I2)"
   ]
  },
  {
   "cell_type": "code",
   "execution_count": 46,
   "metadata": {},
   "outputs": [
    {
     "data": {
      "text/plain": [
       "(3.549266666666667, 3.9404785857899416e-14)"
      ]
     },
     "execution_count": 46,
     "metadata": {},
     "output_type": "execute_result"
    }
   ],
   "source": [
    "from scipy.interpolate import CubicSpline\n",
    "cs = CubicSpline(x,y)\n",
    "quad(cs,0,2)"
   ]
  },
  {
   "cell_type": "code",
   "execution_count": 47,
   "metadata": {},
   "outputs": [],
   "source": [
    "from trapezoid import trapezoid"
   ]
  },
  {
   "cell_type": "code",
   "execution_count": 49,
   "metadata": {},
   "outputs": [
    {
     "name": "stdout",
     "output_type": "stream",
     "text": [
      "3.5057\n"
     ]
    }
   ],
   "source": [
    "a = 0\n",
    "b = 2\n",
    "\n",
    "I1 = trapezoid(cs,0,2,0.0,1)\n",
    "I2 = trapezoid(cs,a,b,I1,2)\n",
    "I3 = trapezoid(cs,a,b,I2,3)\n",
    "print(I3)"
   ]
  },
  {
   "cell_type": "code",
   "execution_count": 55,
   "metadata": {},
   "outputs": [
    {
     "name": "stdout",
     "output_type": "stream",
     "text": [
      "1 1\n",
      "2 1\n",
      "3 1\n",
      "4 1\n",
      "5 1\n",
      "6 1\n",
      "7 1\n",
      "8 1\n",
      "9 1\n",
      "10 1\n"
     ]
    }
   ],
   "source": [
    "Iold = 1\n",
    "a = 0\n",
    "b = 2\n",
    "\n",
    "for k in range(1,11):\n",
    "    trapezoid(cs,a,b,Iold,k)\n",
    "    print(k, Iold)"
   ]
  },
  {
   "cell_type": "code",
   "execution_count": 57,
   "metadata": {},
   "outputs": [
    {
     "data": {
      "text/plain": [
       "(-0.8948314694841447, 5.742084585591556e-11)"
      ]
     },
     "execution_count": 57,
     "metadata": {},
     "output_type": "execute_result"
    }
   ],
   "source": [
    "f = lambda x: x**0.5*np.cos(x)\n",
    "quad(f,0,np.pi)"
   ]
  },
  {
   "cell_type": "code",
   "execution_count": null,
   "metadata": {},
   "outputs": [],
   "source": []
  }
 ],
 "metadata": {
  "kernelspec": {
   "display_name": "Python 3",
   "language": "python",
   "name": "python3"
  },
  "language_info": {
   "codemirror_mode": {
    "name": "ipython",
    "version": 3
   },
   "file_extension": ".py",
   "mimetype": "text/x-python",
   "name": "python",
   "nbconvert_exporter": "python",
   "pygments_lexer": "ipython3",
   "version": "3.6.8"
  }
 },
 "nbformat": 4,
 "nbformat_minor": 4
}
