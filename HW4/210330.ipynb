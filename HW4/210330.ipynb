{
 "cells": [
  {
   "cell_type": "code",
   "execution_count": 1,
   "metadata": {},
   "outputs": [],
   "source": [
    "# 역행렬 복습.\n",
    "# 반복 방법. Interactive method.\n",
    "# 공액경사법. Conjugate gradient method."
   ]
  },
  {
   "cell_type": "code",
   "execution_count": null,
   "metadata": {},
   "outputs": [],
   "source": [
    "A@x = B\n",
    "\n",
    "X becomes the inverse matxrix when\n",
    "X 가 역행렬이 되다.\n",
    "\n",
    "A@X = I"
   ]
  },
  {
   "cell_type": "code",
   "execution_count": 4,
   "metadata": {},
   "outputs": [
    {
     "data": {
      "text/plain": [
       "array([[ 1.66666667, -2.22222222, -1.11111111],\n",
       "       [ 1.25      , -0.83333333, -1.66666667],\n",
       "       [ 0.5       ,  1.        ,  0.        ]])"
      ]
     },
     "execution_count": 4,
     "metadata": {},
     "output_type": "execute_result"
    }
   ],
   "source": [
    "import numpy as np\n",
    "\n",
    "A = np.array([[0.6,-0.4,1.0],\n",
    "              [-0.3,0.2,0.5],\n",
    "              [0.6,-1.0,0.5]])\n",
    "\n",
    "B = np.identity(3)\n",
    "np.linalg.solve(A,B)"
   ]
  },
  {
   "cell_type": "code",
   "execution_count": 5,
   "metadata": {},
   "outputs": [],
   "source": [
    "from ch2 import *"
   ]
  },
  {
   "cell_type": "code",
   "execution_count": 19,
   "metadata": {},
   "outputs": [],
   "source": [
    "Acopy = A.copy()\n",
    "LU, seq = LUdecompp(Acopy)\n",
    "\n",
    "n = len(Acopy)\n",
    "x = np.zeros([n,n])\n",
    "for i in range(n):\n",
    "    x[i] = LUsolvee(LU, B[:,i], seq)\n",
    "\n",
    "x = np.array([x0,x1,x2]).T"
   ]
  },
  {
   "cell_type": "code",
   "execution_count": 20,
   "metadata": {},
   "outputs": [
    {
     "data": {
      "text/plain": [
       "array([[ 0.6, -0.4,  1. ],\n",
       "       [ 1. , -0.6, -0.5],\n",
       "       [-0.5,  0. ,  1. ]])"
      ]
     },
     "execution_count": 20,
     "metadata": {},
     "output_type": "execute_result"
    }
   ],
   "source": [
    "LU"
   ]
  },
  {
   "cell_type": "code",
   "execution_count": 21,
   "metadata": {},
   "outputs": [
    {
     "data": {
      "text/plain": [
       "array([0, 2, 1])"
      ]
     },
     "execution_count": 21,
     "metadata": {},
     "output_type": "execute_result"
    }
   ],
   "source": [
    "seq"
   ]
  },
  {
   "cell_type": "code",
   "execution_count": 22,
   "metadata": {},
   "outputs": [
    {
     "name": "stdout",
     "output_type": "stream",
     "text": [
      "[[ 1.66666667 -2.22222222 -1.11111111]\n",
      " [ 1.25       -0.83333333 -1.66666667]\n",
      " [ 0.5         1.          0.        ]]\n"
     ]
    }
   ],
   "source": [
    "print(x)"
   ]
  },
  {
   "cell_type": "code",
   "execution_count": 23,
   "metadata": {},
   "outputs": [
    {
     "data": {
      "text/plain": [
       "array([[1, 0, 0],\n",
       "       [0, 1, 0],\n",
       "       [0, 0, 0]])"
      ]
     },
     "execution_count": 23,
     "metadata": {},
     "output_type": "execute_result"
    }
   ],
   "source": [
    "(A@x).astype(int)"
   ]
  },
  {
   "cell_type": "code",
   "execution_count": 30,
   "metadata": {},
   "outputs": [],
   "source": [
    "def inverse(A):\n",
    "    Acopy = A.copy()\n",
    "    LU, seq = LUdecompp(Acopy)\n",
    "    n = len(A)\n",
    "    X = np.zeros([n,n])\n",
    "    for i in range(n):\n",
    "        X[i] = LUsolvee(LU, B[:,i], seq)\n",
    "    return X"
   ]
  },
  {
   "cell_type": "code",
   "execution_count": null,
   "metadata": {},
   "outputs": [],
   "source": [
    "LUdecomp3\n",
    "LUsolve3"
   ]
  },
  {
   "cell_type": "code",
   "execution_count": 86,
   "metadata": {},
   "outputs": [
    {
     "data": {
      "text/plain": [
       "(array([[0.84, 0.68, 0.52, 0.36, 0.2 , 0.04],\n",
       "        [0.68, 1.36, 1.04, 0.72, 0.4 , 0.08],\n",
       "        [0.52, 1.04, 1.56, 1.08, 0.6 , 0.12],\n",
       "        [0.36, 0.72, 1.08, 1.44, 0.8 , 0.16],\n",
       "        [0.2 , 0.4 , 0.6 , 0.8 , 1.  , 0.2 ],\n",
       "        [0.04, 0.08, 0.12, 0.16, 0.2 , 0.24]]),\n",
       " array([[0.84, 0.68, 0.52, 0.36, 0.2 , 0.04],\n",
       "        [0.68, 1.36, 1.04, 0.72, 0.4 , 0.08],\n",
       "        [0.52, 1.04, 1.56, 1.08, 0.6 , 0.12],\n",
       "        [0.36, 0.72, 1.08, 1.44, 0.8 , 0.16],\n",
       "        [0.2 , 0.4 , 0.6 , 0.8 , 1.  , 0.2 ],\n",
       "        [0.04, 0.08, 0.12, 0.16, 0.2 , 0.24]]))"
      ]
     },
     "execution_count": 86,
     "metadata": {},
     "output_type": "execute_result"
    }
   ],
   "source": [
    "b = -np.ones(5)\n",
    "c = 2*np.ones(6)\n",
    "c[5]=5\n",
    "d = b.copy()\n",
    "\n",
    "A = np.diag(b,k=1) + np.diag(c) + np.diag(d,k=-1)\n",
    "I = np.identity(6)\n",
    "\n",
    "Ic = I.copy()\n",
    "bb,cc,dd = LUdecomp3(b,c,d)\n",
    "x = LUsolve3(bb,cc,dd,Ic)\n",
    "(A@x).astype(int)==I\n",
    "x, np.linalg.solve(A,I)"
   ]
  },
  {
   "cell_type": "markdown",
   "metadata": {},
   "source": [
    "# 반복적인 방법을 써서 다음 문제를 푸시오"
   ]
  },
  {
   "cell_type": "code",
   "execution_count": 169,
   "metadata": {},
   "outputs": [],
   "source": [
    "x = np.zeros(3)"
   ]
  },
  {
   "cell_type": "code",
   "execution_count": 135,
   "metadata": {},
   "outputs": [
    {
     "name": "stdout",
     "output_type": "stream",
     "text": [
      "[3. 1. 1.]\n"
     ]
    }
   ],
   "source": [
    "w = 1\n",
    "A = np.array([[4,-1,1],[-1,4,-2],[1,-2,4]], dtype = float)\n",
    "b = np.array([12,-1,5], dtype = float)\n",
    "\n",
    "\n",
    "x[0] = (1/A[0,0])*( b[0] - (A[0,1]*x[1] + A[0,2]*x[2]))\n",
    "x[1] = (1/A[1,1])*( b[1] - (A[1,0]*x[0] + A[1,2]*x[2]))\n",
    "x[2] = (1/A[2,2])*( b[2] - (A[2,0]*x[0] + A[2,1]*x[1]))\n",
    "\n",
    "print(x)"
   ]
  },
  {
   "cell_type": "code",
   "execution_count": 108,
   "metadata": {},
   "outputs": [
    {
     "data": {
      "text/plain": [
       "array([3., 1., 1.])"
      ]
     },
     "execution_count": 108,
     "metadata": {},
     "output_type": "execute_result"
    }
   ],
   "source": [
    "A = np.array([[4,-1,1],[-1,4,-2],[1,-2,4]], dtype = float)\n",
    "b = np.array([12,-1,5], dtype = float)\n",
    "gaussElimin(A,b)"
   ]
  },
  {
   "cell_type": "code",
   "execution_count": 233,
   "metadata": {},
   "outputs": [
    {
     "name": "stdout",
     "output_type": "stream",
     "text": [
      "[-8.26916911 -7.60265913  8.88203329]\n"
     ]
    }
   ],
   "source": [
    "A = np.array([[3,-3,3],\n",
    "              [-3,5,1],\n",
    "              [3,1,5]], dtype = float)\n",
    "b = np.array([9,-7,12], dtype = float)\n",
    "x = np.zeros(3)\n",
    "\n",
    "for i in range(10):\n",
    "    x[0] = (1/A[0,0])*( b[0] - (A[0,1]*x[1] + A[0,2]*x[2]))\n",
    "    x[1] = (1/A[1,1])*( b[1] - (A[1,0]*x[0] + A[1,2]*x[2]))\n",
    "    x[2] = (1/A[2,2])*( b[2] - (A[2,0]*x[0] + A[2,1]*x[1]))\n",
    "print(x)"
   ]
  },
  {
   "cell_type": "code",
   "execution_count": 171,
   "metadata": {},
   "outputs": [
    {
     "data": {
      "text/plain": [
       "array([3.5       , 0.66666667, 0.16666667])"
      ]
     },
     "execution_count": 171,
     "metadata": {},
     "output_type": "execute_result"
    }
   ],
   "source": [
    "gaussElimin(A,b)"
   ]
  },
  {
   "cell_type": "code",
   "execution_count": 246,
   "metadata": {},
   "outputs": [],
   "source": [
    "A = np.array([[4,-1,1],[-1,4,-2],[1,-2,4]], dtype = float)\n",
    "b = np.array([12,-1,5], dtype = float)\n",
    "\n",
    "x = np.zeros(3)"
   ]
  },
  {
   "cell_type": "code",
   "execution_count": 235,
   "metadata": {},
   "outputs": [],
   "source": [
    "A = np.array([[3,-3,3],\n",
    "              [-3,5,1],\n",
    "              [3,1,5]], dtype = float)\n",
    "b = np.array([9,-7,12], dtype = float)\n",
    "x = np.zeros(3)"
   ]
  },
  {
   "cell_type": "code",
   "execution_count": 236,
   "metadata": {},
   "outputs": [
    {
     "name": "stdout",
     "output_type": "stream",
     "text": [
      "[ 1.19361084 -0.92836399  1.59148112]\n",
      "[ 18.34439265   3.8788959  -13.41230235]\n",
      "[3.5        0.66666667 0.16666667]\n"
     ]
    }
   ],
   "source": [
    "x0 = x.copy()\n",
    "# First iteration\n",
    "\n",
    "r0 = b - A@x0    # Residual, 차이\n",
    "s0 = r0.copy()   # search direction, 탐색 방향 벡터\n",
    "a0 = s0@r0 / (s0@A@s0)    # Scaling factor\n",
    "\n",
    "# Update x\n",
    "x1 = x0 + a0*s0\n",
    "print(x1)\n",
    "\n",
    "# Second iteration\n",
    "r1 = b - A@x1    # New Residual\n",
    "b0 = -r1@A@s0 / (s0@A@s0)     # 탐색방향을 찾는 게수\n",
    "s1 = r1 + b0*s0    # New search dircetion, 새로운 탐색 방향 벡터\n",
    "a1 = s1@r1 / (s1@A@s1)\n",
    "x2 = x1 + a1*s1\n",
    "print(x2)\n",
    "\n",
    "# Third iteration\n",
    "r2 = b - A@x2    # New Residual\n",
    "b1 = -r2@A@s1 / (s1@A@s1)     # 탐색방향을 찾는 게수\n",
    "s2 = r2 + b1*s1    # New search dircetion, 새로운 탐색 방향 벡터\n",
    "a2 = s2@r2 / (s2@A@s2)\n",
    "x3 = x2 + a2*s2\n",
    "print(x3)"
   ]
  },
  {
   "cell_type": "code",
   "execution_count": 237,
   "metadata": {},
   "outputs": [
    {
     "name": "stdout",
     "output_type": "stream",
     "text": [
      "## module conjGrad\n",
      "    x, numIter = conjGrad(Av,x,b,tol=1.0e-9)\n",
      "def conjGrad(Av,x,b,tol=1.0e-9):\n"
     ]
    }
   ],
   "source": [
    "! grep conj ch2.py"
   ]
  },
  {
   "cell_type": "code",
   "execution_count": 244,
   "metadata": {},
   "outputs": [],
   "source": [
    "## module conjGrad\n",
    "'''\n",
    "    x, numIter = conjGrad(Av,x,b,tol=1.0e-9)\n",
    "    Conjugate gradient method for solving [A]{x} = {b}.\n",
    "    The matrix [A] should be sparse. User must supply\n",
    "    the function Av(v) that returns the vector [A]{v}.\n",
    "'''\n",
    "\n",
    "import numpy as np\n",
    "import math\n",
    "\n",
    "def conjGrad(Av,x,b,tol=1.0e-9):\n",
    "    n = len(b)\n",
    "    r = b - Av(x)\n",
    "    s = r.copy()\n",
    "    for i in range(n):\n",
    "        u = Av(s)\n",
    "        alpha = np.dot(s,r)/np.dot(s,u)\n",
    "        x = x + alpha*s\n",
    "        r = b - Av(x)\n",
    "        if(math.sqrt(np.dot(r,r))) < tol:\n",
    "            break \n",
    "        else:\n",
    "            beta = -np.dot(r,u)/np.dot(s,u)\n",
    "            s = r + beta*s\n",
    "    \n",
    "    return x,i\n"
   ]
  },
  {
   "cell_type": "code",
   "execution_count": 247,
   "metadata": {},
   "outputs": [
    {
     "data": {
      "text/plain": [
       "(array([3., 1., 1.]), 2)"
      ]
     },
     "execution_count": 247,
     "metadata": {},
     "output_type": "execute_result"
    }
   ],
   "source": [
    "def Av(v):\n",
    "    return A@v\n",
    "x0 = np.zeros(3)\n",
    "conjGrad(Av,x,b)"
   ]
  },
  {
   "cell_type": "code",
   "execution_count": null,
   "metadata": {},
   "outputs": [],
   "source": []
  }
 ],
 "metadata": {
  "kernelspec": {
   "display_name": "Python 3",
   "language": "python",
   "name": "python3"
  },
  "language_info": {
   "codemirror_mode": {
    "name": "ipython",
    "version": 3
   },
   "file_extension": ".py",
   "mimetype": "text/x-python",
   "name": "python",
   "nbconvert_exporter": "python",
   "pygments_lexer": "ipython3",
   "version": "3.6.8"
  }
 },
 "nbformat": 4,
 "nbformat_minor": 4
}
