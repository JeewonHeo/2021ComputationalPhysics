{
 "cells": [
  {
   "cell_type": "code",
   "execution_count": 1,
   "metadata": {},
   "outputs": [],
   "source": [
    "from ch2 import *"
   ]
  },
  {
   "cell_type": "code",
   "execution_count": 16,
   "metadata": {},
   "outputs": [],
   "source": [
    "#  b = [1,0,0, ...,  0]\n",
    "#  A =   [2 1 0 ...  0]\n",
    "#        [1 2 1 ...  0]\n",
    "#        [0 1 2 1 ...0]"
   ]
  },
  {
   "cell_type": "code",
   "execution_count": 21,
   "metadata": {},
   "outputs": [
    {
     "name": "stdout",
     "output_type": "stream",
     "text": [
      "[[2. 1. 0. 0. 0.]\n",
      " [1. 2. 1. 0. 0.]\n",
      " [0. 1. 2. 1. 0.]\n",
      " [0. 0. 1. 2. 1.]\n",
      " [0. 0. 0. 1. 2.]] [1. 0. 0. 0. 0.]\n"
     ]
    },
    {
     "data": {
      "text/plain": [
       "array([ True,  True,  True,  True,  True])"
      ]
     },
     "execution_count": 21,
     "metadata": {},
     "output_type": "execute_result"
    }
   ],
   "source": [
    "import numpy as np\n",
    "n = 5\n",
    "A = 2.*np.eye(n) + np.eye(n,k=-1) + np.eye(n,k=1)\n",
    "\n",
    "b = np.zeros(n)\n",
    "b[0] = 1\n",
    "\n",
    "print(A,b)\n",
    "\n",
    "def Av(v):\n",
    "    global A\n",
    "    n = len(v)\n",
    "    x = np.zeros(n)\n",
    "    x[0] = A[0,0]*v[0] + A[0,1]*v[1]\n",
    "    x[n-1] = A[n-1,n-2]*v[n-2] + A[n-1,n-1]*v[n-1]\n",
    "    \n",
    "    for i in range(n-1):\n",
    "        x[i] = A[i,i-1]*v[i-1] + A[i,i]*v[i] + A[i,i+1]*v[i+1]\n",
    "\n",
    "    return x\n",
    "\n",
    "x = np.zeros(n)\n",
    "vsol, inter = conjGrad(Av,x,b)\n",
    "np.linalg.solve == vsol"
   ]
  },
  {
   "cell_type": "code",
   "execution_count": 22,
   "metadata": {},
   "outputs": [
    {
     "data": {
      "text/plain": [
       "array([ 0.99800399, -0.99600798,  0.99401198, -0.99201597])"
      ]
     },
     "execution_count": 22,
     "metadata": {},
     "output_type": "execute_result"
    }
   ],
   "source": [
    "import numpy as np\n",
    "n = 500\n",
    "A = 2.*np.eye(n) + np.eye(n,k=-1) + np.eye(n,k=1)\n",
    "\n",
    "b = np.zeros(n)\n",
    "b[0] = 1\n",
    "aa = gaussElimin(A,b)\n",
    "aa[0:4]"
   ]
  },
  {
   "cell_type": "code",
   "execution_count": 23,
   "metadata": {},
   "outputs": [],
   "source": [
    "import numpy as np\n",
    "n = 500\n",
    "A = 2.*np.eye(n) + np.eye(n,k=-1) + np.eye(n,k=1)\n",
    "\n",
    "b = np.zeros(n)\n",
    "b[0] = 1\n",
    "x = np.zeros(n)\n",
    "vsol, inter = conjGrad(Av,x,b)"
   ]
  },
  {
   "cell_type": "code",
   "execution_count": null,
   "metadata": {},
   "outputs": [],
   "source": []
  }
 ],
 "metadata": {
  "kernelspec": {
   "display_name": "Python 3",
   "language": "python",
   "name": "python3"
  },
  "language_info": {
   "codemirror_mode": {
    "name": "ipython",
    "version": 3
   },
   "file_extension": ".py",
   "mimetype": "text/x-python",
   "name": "python",
   "nbconvert_exporter": "python",
   "pygments_lexer": "ipython3",
   "version": "3.6.8"
  }
 },
 "nbformat": 4,
 "nbformat_minor": 4
}
