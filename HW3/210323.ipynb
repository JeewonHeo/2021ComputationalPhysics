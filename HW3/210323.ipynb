{
 "cells": [
  {
   "cell_type": "code",
   "execution_count": 1,
   "metadata": {},
   "outputs": [],
   "source": [
    "# 응용문제\n",
    "# 삼중대각 계수행렬\n",
    "### 오중대각 대칭행렬, 피보팅.\n",
    "# 응용문제"
   ]
  },
  {
   "cell_type": "code",
   "execution_count": 2,
   "metadata": {},
   "outputs": [],
   "source": [
    "import numpy as np\n",
    "import scipy as sp\n",
    "from ch2 import *"
   ]
  },
  {
   "cell_type": "code",
   "execution_count": 26,
   "metadata": {},
   "outputs": [],
   "source": [
    "A = np.array([[ 3,-3, 3],\n",
    "              [-3, 5, 1],\n",
    "              [ 3, 1, 5]])\n",
    "B = np.array([9,-7,12])"
   ]
  },
  {
   "cell_type": "code",
   "execution_count": 5,
   "metadata": {},
   "outputs": [
    {
     "data": {
      "text/plain": [
       "array([3.5       , 0.66666667, 0.16666667])"
      ]
     },
     "execution_count": 5,
     "metadata": {},
     "output_type": "execute_result"
    }
   ],
   "source": [
    "np.linalg.solve(A,B)"
   ]
  },
  {
   "cell_type": "code",
   "execution_count": 24,
   "metadata": {},
   "outputs": [
    {
     "name": "stdout",
     "output_type": "stream",
     "text": [
      "[3.5        0.66666667 0.16666667]\n"
     ]
    }
   ],
   "source": [
    "A = np.array([[ 3.,-3., 3.],\n",
    "              [-3., 5., 1.],\n",
    "              [ 3., 1., 5.]])\n",
    "B = np.array([9.,-7.,12.])\n",
    "\n",
    "LU = LUdecomp(A)    # LU decomp\n",
    "x = LUsolve(LU,B)   # Solve, forward, reverse\n",
    "print(x)"
   ]
  },
  {
   "cell_type": "code",
   "execution_count": 28,
   "metadata": {},
   "outputs": [
    {
     "name": "stdout",
     "output_type": "stream",
     "text": [
      "[3.5        0.66666667 0.16666667]\n"
     ]
    }
   ],
   "source": [
    "A = np.array([[ 3,-3, 3],\n",
    "              [-3, 5, 1],\n",
    "              [ 3, 1, 5]])\n",
    "B = np.array([9,-7,12])\n",
    "\n",
    "from scipy.linalg import lu_factor, lu_solve\n",
    "lu, piv = sp.linalg.lu_factor(A)\n",
    "x = sp.linalg.lu_solve((lu,piv),B)\n",
    "print(x)"
   ]
  },
  {
   "cell_type": "code",
   "execution_count": 32,
   "metadata": {},
   "outputs": [
    {
     "name": "stdout",
     "output_type": "stream",
     "text": [
      "[-3.  2.  1.] \n",
      " [-3.  2.  1.]\n"
     ]
    }
   ],
   "source": [
    "#2\n",
    "\n",
    "A = np.array([[  4.,  8., 20.],\n",
    "              [  8., 13., 16.],\n",
    "              [ 20., 16.,-91.]])\n",
    "B = np.array([24.,18.,-119.])\n",
    "ans = np.linalg.solve(A,B)\n",
    "\n",
    "LU = LUdecomp(A)    # LU decomp\n",
    "x = LUsolve(LU,B)   # Solve, forward, reverse\n",
    "print(x,'\\n',ans)"
   ]
  },
  {
   "cell_type": "markdown",
   "metadata": {},
   "source": [
    "# Sparse matrix"
   ]
  },
  {
   "cell_type": "code",
   "execution_count": 38,
   "metadata": {},
   "outputs": [
    {
     "data": {
      "text/plain": [
       "array([[0.65180849, 0.57227202, 0.89786851],\n",
       "       [0.70097541, 0.48613331, 0.1331979 ],\n",
       "       [0.76779642, 0.99211448, 0.9905662 ]])"
      ]
     },
     "execution_count": 38,
     "metadata": {},
     "output_type": "execute_result"
    }
   ],
   "source": [
    "np.random.rand(3,3)"
   ]
  },
  {
   "cell_type": "code",
   "execution_count": 39,
   "metadata": {},
   "outputs": [
    {
     "data": {
      "text/plain": [
       "array([0.51632404, 0.37804603, 0.79336607])"
      ]
     },
     "execution_count": 39,
     "metadata": {},
     "output_type": "execute_result"
    }
   ],
   "source": [
    "np.random.rand(3)"
   ]
  },
  {
   "cell_type": "code",
   "execution_count": 129,
   "metadata": {},
   "outputs": [],
   "source": [
    "# 3 by 3\n",
    "n = 10\n",
    "b = np.ones(n)\n",
    "c = np.ones(n-1)\n",
    "e = 2*np.ones(n-1)\n",
    "d = 4*np.ones(n)"
   ]
  },
  {
   "cell_type": "code",
   "execution_count": 130,
   "metadata": {},
   "outputs": [],
   "source": [
    "D = np.diag(d)"
   ]
  },
  {
   "cell_type": "code",
   "execution_count": 131,
   "metadata": {},
   "outputs": [],
   "source": [
    "E = np.diag(e,k=1)"
   ]
  },
  {
   "cell_type": "code",
   "execution_count": 132,
   "metadata": {},
   "outputs": [],
   "source": [
    "C = np.diag(c,k=-1)"
   ]
  },
  {
   "cell_type": "code",
   "execution_count": 133,
   "metadata": {},
   "outputs": [],
   "source": [
    "A = C+D+E"
   ]
  },
  {
   "cell_type": "code",
   "execution_count": 134,
   "metadata": {},
   "outputs": [
    {
     "data": {
      "text/plain": [
       "array([[4., 2., 0., 0., 0., 0., 0., 0., 0., 0.],\n",
       "       [1., 4., 2., 0., 0., 0., 0., 0., 0., 0.],\n",
       "       [0., 1., 4., 2., 0., 0., 0., 0., 0., 0.],\n",
       "       [0., 0., 1., 4., 2., 0., 0., 0., 0., 0.],\n",
       "       [0., 0., 0., 1., 4., 2., 0., 0., 0., 0.],\n",
       "       [0., 0., 0., 0., 1., 4., 2., 0., 0., 0.],\n",
       "       [0., 0., 0., 0., 0., 1., 4., 2., 0., 0.],\n",
       "       [0., 0., 0., 0., 0., 0., 1., 4., 2., 0.],\n",
       "       [0., 0., 0., 0., 0., 0., 0., 1., 4., 2.],\n",
       "       [0., 0., 0., 0., 0., 0., 0., 0., 1., 4.]])"
      ]
     },
     "execution_count": 134,
     "metadata": {},
     "output_type": "execute_result"
    }
   ],
   "source": [
    "A"
   ]
  },
  {
   "cell_type": "code",
   "execution_count": 146,
   "metadata": {},
   "outputs": [],
   "source": [
    "#dp = np.zeros(n)\n",
    "cp = np.zeros(n-1)\n",
    "y  = np.zeros(n)\n",
    "x  = np.zeros(n)\n",
    "dp = d.copy()\n",
    "\n",
    "for k in range(1,n):    # 1, 2, ... n 두번째 행부터 끝까지\n",
    "    lam = c[k-1]/dp[k-1]\n",
    "    dp[k] = d[k] - lam*e[k-1]\n",
    "    cp[k-1] = lam\n",
    "    \n",
    "# 전진대입\n",
    "y[0] = b[0]\n",
    "for k in range(1,n):    # 1, 2, ... n 두번째 행부터 끝까지\n",
    "    y[k] = b[k] - cp[k-1]*y[k-1]\n",
    "    \n",
    "# 후진대입\n",
    "x[n-1] = y[n-1]/dp[n-1] \n",
    "for k in range(n-2,-1,-1):\n",
    "    x[k] = ( y[k] - e[k]*x[k+1] )/ dp[k]"
   ]
  },
  {
   "cell_type": "code",
   "execution_count": 144,
   "metadata": {},
   "outputs": [
    {
     "data": {
      "text/plain": [
       "array([4.        , 3.34375   , 3.20862384, 3.18190932, 3.17701632,\n",
       "       3.17615553, 3.17600653, 3.17598089, 3.17597649, 3.17597573])"
      ]
     },
     "execution_count": 144,
     "metadata": {},
     "output_type": "execute_result"
    }
   ],
   "source": [
    "dp"
   ]
  },
  {
   "cell_type": "code",
   "execution_count": 145,
   "metadata": {},
   "outputs": [
    {
     "data": {
      "text/plain": [
       "(array([ 0.00323896,  0.01060463, -0.00612762,  0.01956298, -0.01415944,\n",
       "         0.02739981, -0.02102818,  0.03149379, -0.01960827,  0.0215362 ]),\n",
       " array([ 0.00472655,  0.00762943, -0.00575324,  0.01771787, -0.01532331,\n",
       "         0.02717707, -0.02406774,  0.03328922, -0.02419516,  0.02301146]))"
      ]
     },
     "execution_count": 145,
     "metadata": {},
     "output_type": "execute_result"
    }
   ],
   "source": [
    "x,np.linalg.solve(A,b)"
   ]
  },
  {
   "cell_type": "code",
   "execution_count": 142,
   "metadata": {},
   "outputs": [
    {
     "data": {
      "text/plain": [
       "array([ 0.03416509,  0.02373781,  0.02005221,  0.03447162,  0.01077877,\n",
       "        0.04524948, -0.00251545,  0.06069882, -0.01746848,  0.06785069])"
      ]
     },
     "execution_count": 142,
     "metadata": {},
     "output_type": "execute_result"
    }
   ],
   "source": [
    "cc, dd, ee = LUdecomp3(c,d,e)\n",
    "LUsolve3(cc,dd,ee,b)"
   ]
  },
  {
   "cell_type": "code",
   "execution_count": 174,
   "metadata": {},
   "outputs": [
    {
     "name": "stdout",
     "output_type": "stream",
     "text": [
      "A -> \n",
      " [[2. 1. 0. 0. 0.]\n",
      " [1. 2. 1. 0. 0.]\n",
      " [0. 1. 2. 1. 0.]\n",
      " [0. 0. 1. 2. 1.]\n",
      " [0. 0. 0. 1. 2.]]\n",
      "\n",
      "L -> \n",
      " [[1.         0.         0.         0.         0.        ]\n",
      " [0.5        1.         0.         0.         0.        ]\n",
      " [0.         0.66666667 1.         0.         0.        ]\n",
      " [0.         0.         0.75       1.         0.        ]\n",
      " [0.         0.         0.         0.8        1.        ]]\n",
      "\n",
      "U -> \n",
      " [[2.         1.         0.         0.         0.        ]\n",
      " [0.         1.5        1.         0.         0.        ]\n",
      " [0.         0.         1.33333333 1.         0.        ]\n",
      " [0.         0.         0.         1.25       1.        ]\n",
      " [0.         0.         0.         0.         1.2       ]]\n",
      "\n",
      "x                : [0.5 0.  0.5 0.  0.5]\n",
      "np.linalg.solve  : [0.5 0.  0.5 0.  0.5]\n"
     ]
    }
   ],
   "source": [
    "# [2, 1, 0, 0, 0]\n",
    "# [1, 2, 1, 0, 0]\n",
    "# [0, 1, 2, 1, 0]\n",
    "# [0, 0, 1, 2, 1]\n",
    "# [0, 0, 0, 1, 2]\n",
    "\n",
    "# b = [1, 1, 1, 1, 1]\n",
    "\n",
    "# Solve using the tridiagonal matrix solver:\n",
    "# Find U, L, x\n",
    "# In A*x = b\n",
    "\n",
    "A = np.diag(2*np.ones(5)) + np.diag(np.ones(4),k=-1) + np.diag(np.ones(4),k=1)\n",
    "b = np.ones(5)\n",
    "\n",
    "ans = np.linalg.solve(A,b)\n",
    "\n",
    "def LU(a,b):\n",
    "    n = len(b)\n",
    "    x = np.zeros([n])\n",
    "    y = np.zeros([n])\n",
    "    L = np.eye(n)\n",
    "    U = a.copy()\n",
    "    B = b.copy()\n",
    "    for k in range(0,n-1):                             \n",
    "        for i in range(k+1,n):                         \n",
    "            if a[i,k] != 0.:\n",
    "                lam = U[i,k]/U[k,k]    \n",
    "                U[i,k:n] = U[i,k:n] - lam*U[k,k:n]     \n",
    "                B[i] = B[i] - lam*B[k]\n",
    "                L[i,k]=lam\n",
    "    \n",
    "    y[0] = B[0]\n",
    "    for k in range(1,n):    # Forward substitution\n",
    "        y[k] = b[k] - np.dot(L[k,0:k],y[0:k])\n",
    "    \n",
    "    # U@x = y\n",
    "    b = y.copy()\n",
    "    for k in range(n-1,-1,-1):    # Back substitution\n",
    "        x[k] = (B[k] - np.dot(U[k,k+1:n],x[k+1:n]))/U[k,k]\n",
    "    \n",
    "    return L, U, x, y\n",
    "\n",
    "print('A -> \\n',A)\n",
    "print('\\nL -> \\n',LU(A,b)[0])\n",
    "print('\\nU -> \\n',LU(A,b)[1])\n",
    "print('\\nx                :',LU(A,b)[2])\n",
    "print('np.linalg.solve  :',ans)"
   ]
  },
  {
   "cell_type": "code",
   "execution_count": 179,
   "metadata": {},
   "outputs": [
    {
     "data": {
      "text/plain": [
       "array([0.5, 0. , 0.5, 0. , 0.5])"
      ]
     },
     "execution_count": 179,
     "metadata": {},
     "output_type": "execute_result"
    }
   ],
   "source": [
    "e = np.ones(4)\n",
    "d = 2*np.ones(5)\n",
    "c = np.ones(4)\n",
    "b = np.ones(5)\n",
    "\n",
    "cc, dd, ee = LUdecomp3(c,d,e)\n",
    "LUsolve3(cc,dd,ee,b)"
   ]
  },
  {
   "cell_type": "code",
   "execution_count": 180,
   "metadata": {},
   "outputs": [],
   "source": [
    "# Find U, L, x\n",
    "\n",
    "cmat = np.diag(cc,k=-1)\n",
    "dmat = np.diag(dd)\n",
    "emat = np.diag(ee,k=1)"
   ]
  },
  {
   "cell_type": "code",
   "execution_count": 181,
   "metadata": {},
   "outputs": [],
   "source": [
    "L = cmat + np.eye(5)"
   ]
  },
  {
   "cell_type": "code",
   "execution_count": 182,
   "metadata": {},
   "outputs": [
    {
     "data": {
      "text/plain": [
       "array([[1.        , 0.        , 0.        , 0.        , 0.        ],\n",
       "       [0.5       , 1.        , 0.        , 0.        , 0.        ],\n",
       "       [0.        , 0.66666667, 1.        , 0.        , 0.        ],\n",
       "       [0.        , 0.        , 0.75      , 1.        , 0.        ],\n",
       "       [0.        , 0.        , 0.        , 0.8       , 1.        ]])"
      ]
     },
     "execution_count": 182,
     "metadata": {},
     "output_type": "execute_result"
    }
   ],
   "source": [
    "L"
   ]
  },
  {
   "cell_type": "code",
   "execution_count": 184,
   "metadata": {},
   "outputs": [],
   "source": [
    "U = dmat + emat"
   ]
  },
  {
   "cell_type": "code",
   "execution_count": 185,
   "metadata": {},
   "outputs": [
    {
     "data": {
      "text/plain": [
       "array([[2., 1., 0., 0., 0.],\n",
       "       [1., 2., 1., 0., 0.],\n",
       "       [0., 1., 2., 1., 0.],\n",
       "       [0., 0., 1., 2., 1.],\n",
       "       [0., 0., 0., 1., 2.]])"
      ]
     },
     "execution_count": 185,
     "metadata": {},
     "output_type": "execute_result"
    }
   ],
   "source": [
    "L@U"
   ]
  },
  {
   "cell_type": "code",
   "execution_count": 187,
   "metadata": {},
   "outputs": [
    {
     "data": {
      "text/plain": [
       "array([[ 2, -2,  0,  0,  0],\n",
       "       [-2,  5, -6,  0,  0],\n",
       "       [ 0, -6, 16, 12,  0],\n",
       "       [ 0,  0, 12, 39, -6],\n",
       "       [ 0,  0,  0, -6, 14]])"
      ]
     },
     "execution_count": 187,
     "metadata": {},
     "output_type": "execute_result"
    }
   ],
   "source": [
    "ad = np.array([-2,-6,12,-6])\n",
    "a = np.array([2,5,16,39,14])\n",
    "A = np.diag(a)+np.diag(ad,k=-1)+np.diag(ad,k=1)\n",
    "A"
   ]
  },
  {
   "cell_type": "code",
   "execution_count": null,
   "metadata": {},
   "outputs": [],
   "source": []
  }
 ],
 "metadata": {
  "kernelspec": {
   "display_name": "Python 3",
   "language": "python",
   "name": "python3"
  },
  "language_info": {
   "codemirror_mode": {
    "name": "ipython",
    "version": 3
   },
   "file_extension": ".py",
   "mimetype": "text/x-python",
   "name": "python",
   "nbconvert_exporter": "python",
   "pygments_lexer": "ipython3",
   "version": "3.6.8"
  }
 },
 "nbformat": 4,
 "nbformat_minor": 4
}
