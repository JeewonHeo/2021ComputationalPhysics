{
 "cells": [
  {
   "cell_type": "code",
   "execution_count": 5,
   "metadata": {},
   "outputs": [],
   "source": [
    "from ch2 import *"
   ]
  },
  {
   "cell_type": "code",
   "execution_count": 26,
   "metadata": {},
   "outputs": [],
   "source": [
    "c = np.array([-2.,-6.,12.,-6.])\n",
    "d = np.array([2.,5.,16,39,14])\n",
    "e = c.copy()\n",
    "\n",
    "bv = np.array([1.,0.,0.,0.,0.])\n",
    "amat = np.diag(c,k=-1) + np.diag(d) + np.diag(e,k=1)\n",
    "amat\n",
    "am = amat.copy()\n",
    "b = bv.copy()"
   ]
  },
  {
   "cell_type": "code",
   "execution_count": 13,
   "metadata": {},
   "outputs": [
    {
     "data": {
      "text/plain": [
       "array([ 85.83333333,  85.33333333,  42.5       , -14.        ,\n",
       "        -6.        ])"
      ]
     },
     "execution_count": 13,
     "metadata": {},
     "output_type": "execute_result"
    }
   ],
   "source": [
    "np.linalg.solve(amat,bv)"
   ]
  },
  {
   "cell_type": "code",
   "execution_count": 15,
   "metadata": {},
   "outputs": [
    {
     "data": {
      "text/plain": [
       "array([ 85.83333333,  85.33333333,  42.5       , -14.        ,\n",
       "        -6.        ])"
      ]
     },
     "execution_count": 15,
     "metadata": {},
     "output_type": "execute_result"
    }
   ],
   "source": [
    "gaussElimin(amat,bv)"
   ]
  },
  {
   "cell_type": "code",
   "execution_count": 21,
   "metadata": {},
   "outputs": [
    {
     "data": {
      "text/plain": [
       "array([ 85.83333333,  85.33333333,  42.5       , -14.        ,\n",
       "        -6.        ])"
      ]
     },
     "execution_count": 21,
     "metadata": {},
     "output_type": "execute_result"
    }
   ],
   "source": [
    "am = amat.copy()\n",
    "b = bv.copy()\n",
    "\n",
    "LU = LUdecomp(am)\n",
    "LUsolve(LU,b)"
   ]
  },
  {
   "cell_type": "code",
   "execution_count": 25,
   "metadata": {},
   "outputs": [
    {
     "data": {
      "text/plain": [
       "array([ 85.83333333,  85.33333333,  42.5       , -14.        ,\n",
       "        -6.        ])"
      ]
     },
     "execution_count": 25,
     "metadata": {},
     "output_type": "execute_result"
    }
   ],
   "source": [
    "# 삼중대각\n",
    "am = amat.copy()\n",
    "b = bv.copy()\n",
    "\n",
    "cc,dd,ee = LUdecomp3(c,d,e)\n",
    "LUsolve3(cc,dd,ee,b)\n"
   ]
  },
  {
   "cell_type": "code",
   "execution_count": 28,
   "metadata": {},
   "outputs": [
    {
     "name": "stdout",
     "output_type": "stream",
     "text": [
      "ch2.py:def LUsolvee(a,b,seq):\n",
      "grep: +1: No such file or directory\n"
     ]
    }
   ],
   "source": [
    "# 대칭행렬일때"
   ]
  },
  {
   "cell_type": "code",
   "execution_count": null,
   "metadata": {},
   "outputs": [],
   "source": [
    "A = np.array([[3.,-3,3],[-3.,5,1],[3.,1,10]])\n",
    "\n",
    "# L, D, U 를 찾으시오\n",
    "# A = L @ U = L @ D @ LT    성질이 있다는 것을 기억하시오.\n"
   ]
  }
 ],
 "metadata": {
  "kernelspec": {
   "display_name": "Python 3",
   "language": "python",
   "name": "python3"
  },
  "language_info": {
   "codemirror_mode": {
    "name": "ipython",
    "version": 3
   },
   "file_extension": ".py",
   "mimetype": "text/x-python",
   "name": "python",
   "nbconvert_exporter": "python",
   "pygments_lexer": "ipython3",
   "version": "3.6.8"
  }
 },
 "nbformat": 4,
 "nbformat_minor": 4
}
