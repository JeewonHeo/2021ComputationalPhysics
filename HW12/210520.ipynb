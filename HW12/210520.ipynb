{
 "cells": [
  {
   "cell_type": "code",
   "execution_count": 1,
   "metadata": {},
   "outputs": [],
   "source": [
    "# Inital value problems. \n",
    "# Boundary value problms."
   ]
  },
  {
   "cell_type": "code",
   "execution_count": 2,
   "metadata": {},
   "outputs": [],
   "source": [
    "# Order n equations."
   ]
  },
  {
   "cell_type": "code",
   "execution_count": 3,
   "metadata": {},
   "outputs": [],
   "source": [
    "# 예시\n",
    "# y' + 4y = x**2 "
   ]
  },
  {
   "cell_type": "code",
   "execution_count": 4,
   "metadata": {},
   "outputs": [],
   "source": [
    "# ydd = x - 2y    xdd = y - x\n",
    "# y'' = f(x,y,y')\n",
    "# y0 = y, y1 = y'\n",
    "\n",
    "# y0' = y1\n",
    "# y1' = f(x,y0,y1)\n",
    "\n",
    "# 2차 미분방정식 2개를 4개의 일차미분방정식으로 둔갑함\n",
    "# y'' = x - 2y\n",
    "# x'' = y - x\n",
    "\n",
    "# y0 = y, y1 = y', x0 = x, x1 = x'    -> notation\n",
    "\n",
    "# y0' = y1\n",
    "# y1' = x0 - 2y0\n",
    "# x0' = x1\n",
    "# x1' = y0 - x0\n",
    "\n",
    "\n",
    "from scipy.integrate import solve_ivp\n",
    "\n",
    "def f(t,y):    \n",
    "    y0, y1, x0, x1 = y\n",
    "    \n",
    "    # y' = F(t,y,y',x,x')\n",
    "    f1 = y1\n",
    "    f2 = x0 - 2*y0\n",
    "    f3 = x1\n",
    "    f4 = y0 - x0\n",
    "    return [f1,f2,f3,f4]\n",
    "# solve_ivp(f())\n"
   ]
  },
  {
   "cell_type": "code",
   "execution_count": 8,
   "metadata": {},
   "outputs": [
    {
     "name": "stdout",
     "output_type": "stream",
     "text": [
      "  message: 'The solver successfully reached the end of the integration interval.'\n",
      "     nfev: 86\n",
      "     njev: 0\n",
      "      nlu: 0\n",
      "      sol: None\n",
      "   status: 0\n",
      "  success: True\n",
      "        t: array([0.00000000e+00, 1.00000000e-04, 1.10000000e-03, 1.11000000e-02,\n",
      "       1.11100000e-01, 1.11110000e+00, 4.91835395e+00, 8.89543101e+00,\n",
      "       1.28725081e+01, 1.75533879e+01, 2.32189517e+01, 3.05879088e+01,\n",
      "       4.05918898e+01, 5.00000000e+01])\n",
      " t_events: None\n",
      "        y: array([[0.00000000e+00, 4.90332500e-08, 5.93302322e-06, 6.04138365e-04,\n",
      "        6.05196752e-02, 6.02265471e+00, 1.08336867e+02, 3.03069238e+02,\n",
      "        5.34073975e+02, 8.20058921e+02, 1.17116283e+03, 1.62925968e+03,\n",
      "        2.25146643e+03, 2.83660509e+03],\n",
      "       [0.00000000e+00, 9.80665000e-04, 1.07873149e-02, 1.08853704e-01,\n",
      "        1.08940739e+00, 1.07860506e+01, 4.04351189e+01, 5.51095863e+01,\n",
      "        6.00888868e+01, 6.17022082e+01, 6.21058098e+01, 6.21792794e+01,\n",
      "        6.21836253e+01, 6.21900099e+01]])\n",
      " y_events: None\n"
     ]
    }
   ],
   "source": [
    "from scipy.integrate import solve_ivp\n",
    "def f(t,y):\n",
    "    g = 9.80665; cd = 0.2028; m = 80\n",
    "    f1 = y[1]\n",
    "    f2 = g - cd/m*y[1]**2\n",
    "    return [f1,f2]\n",
    "y0 = [0,0]\n",
    "tspan = [0,50]\n",
    "sol = solve_ivp(f,tspan,y0)"
   ]
  },
  {
   "cell_type": "code",
   "execution_count": 11,
   "metadata": {},
   "outputs": [
    {
     "data": {
      "text/plain": [
       "<matplotlib.collections.PathCollection at 0x7f6103665978>"
      ]
     },
     "execution_count": 11,
     "metadata": {},
     "output_type": "execute_result"
    },
    {
     "data": {
      "image/png": "[encoded data removed]",
      "text/plain": [
       "<Figure size 432x288 with 1 Axes>"
      ]
     },
     "metadata": {
      "needs_background": "light"
     },
     "output_type": "display_data"
    }
   ],
   "source": [
    "import matplotlib.pyplot as plt\n",
    "plt.scatter(sol.t,sol.y[0])"
   ]
  },
  {
   "cell_type": "code",
   "execution_count": null,
   "metadata": {},
   "outputs": [],
   "source": []
  }
 ],
 "metadata": {
  "kernelspec": {
   "display_name": "Python 3",
   "language": "python",
   "name": "python3"
  },
  "language_info": {
   "codemirror_mode": {
    "name": "ipython",
    "version": 3
   },
   "file_extension": ".py",
   "mimetype": "text/x-python",
   "name": "python",
   "nbconvert_exporter": "python",
   "pygments_lexer": "ipython3",
   "version": "3.6.8"
  }
 },
 "nbformat": 4,
 "nbformat_minor": 4
}
