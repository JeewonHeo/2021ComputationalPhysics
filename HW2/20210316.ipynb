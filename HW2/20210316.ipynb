{
 "cells": [
  {
   "cell_type": "code",
   "execution_count": 1,
   "metadata": {},
   "outputs": [],
   "source": [
    "# 1. 복습\n",
    "# 2. 가우스 소거법 -> LU 분해법\n",
    "# 3. 응용문제\n",
    "# 4. (숄래스키)\n",
    "#"
   ]
  },
  {
   "cell_type": "code",
   "execution_count": null,
   "metadata": {},
   "outputs": [],
   "source": [
    "# 화요일 과제. -> 월요일 제출.개선점.\n",
    "# 목요일 퀴즈 하되, 퀴즈 길이를 줄이기."
   ]
  },
  {
   "cell_type": "code",
   "execution_count": 5,
   "metadata": {},
   "outputs": [],
   "source": [
    "import numpy as np"
   ]
  },
  {
   "cell_type": "code",
   "execution_count": 2,
   "metadata": {},
   "outputs": [
    {
     "ename": "NameError",
     "evalue": "name 'matrix' is not defined",
     "output_type": "error",
     "traceback": [
      "\u001b[0;31m---------------------------------------------------------------------------\u001b[0m",
      "\u001b[0;31mNameError\u001b[0m                                 Traceback (most recent call last)",
      "\u001b[0;32m<ipython-input-2-7bb7ea9b27a8>\u001b[0m in \u001b[0;36m<module>\u001b[0;34m\u001b[0m\n\u001b[1;32m      6\u001b[0m \u001b[0ma31\u001b[0m\u001b[0;34m,\u001b[0m \u001b[0ma32\u001b[0m\u001b[0;34m,\u001b[0m \u001b[0ma33\u001b[0m \u001b[0;34m=\u001b[0m \u001b[0msymbols\u001b[0m\u001b[0;34m(\u001b[0m\u001b[0;34m'A_{31} A_{32} A_{33}'\u001b[0m\u001b[0;34m)\u001b[0m\u001b[0;34m\u001b[0m\u001b[0;34m\u001b[0m\u001b[0m\n\u001b[1;32m      7\u001b[0m \u001b[0;34m\u001b[0m\u001b[0m\n\u001b[0;32m----> 8\u001b[0;31m \u001b[0mA\u001b[0m \u001b[0;34m=\u001b[0m \u001b[0mmatrix\u001b[0m\u001b[0;34m(\u001b[0m\u001b[0;34m(\u001b[0m\u001b[0;34m[\u001b[0m\u001b[0ma11\u001b[0m\u001b[0;34m,\u001b[0m\u001b[0ma12\u001b[0m\u001b[0;34m,\u001b[0m\u001b[0ma13\u001b[0m\u001b[0;34m]\u001b[0m\u001b[0;34m,\u001b[0m\u001b[0;34m[\u001b[0m\u001b[0ma21\u001b[0m\u001b[0;34m,\u001b[0m\u001b[0ma22\u001b[0m\u001b[0;34m,\u001b[0m\u001b[0ma23\u001b[0m\u001b[0;34m]\u001b[0m\u001b[0;34m,\u001b[0m\u001b[0;34m[\u001b[0m\u001b[0ma31\u001b[0m\u001b[0;34m,\u001b[0m\u001b[0ma32\u001b[0m\u001b[0;34m,\u001b[0m\u001b[0ma33\u001b[0m\u001b[0;34m]\u001b[0m\u001b[0;34m)\u001b[0m\u001b[0;34m)\u001b[0m\u001b[0;34m\u001b[0m\u001b[0;34m\u001b[0m\u001b[0m\n\u001b[0m\u001b[1;32m      9\u001b[0m \u001b[0;34m\u001b[0m\u001b[0m\n\u001b[1;32m     10\u001b[0m \u001b[0;31m#Aug = A.col_insult\u001b[0m\u001b[0;34m\u001b[0m\u001b[0;34m\u001b[0m\u001b[0;34m\u001b[0m\u001b[0m\n",
      "\u001b[0;31mNameError\u001b[0m: name 'matrix' is not defined"
     ]
    }
   ],
   "source": [
    "from sympy import *\n",
    "init_printing()\n",
    "\n",
    "a11, a12, a13 = symbols('A_{11} A_{12} A_{13}')\n",
    "a21, a22, a23 = symbols('A_{21} A_{22} A_{23}')\n",
    "a31, a32, a33 = symbols('A_{31} A_{32} A_{33}')\n",
    "\n",
    "A = matrix(([a11,a12,a13],[a21,a22,a23],[a31,a32,a33]))\n",
    "\n",
    "#Aug = A.col_insult"
   ]
  },
  {
   "cell_type": "code",
   "execution_count": null,
   "metadata": {},
   "outputs": [],
   "source": []
  },
  {
   "cell_type": "code",
   "execution_count": 34,
   "metadata": {},
   "outputs": [
    {
     "name": "stdout",
     "output_type": "stream",
     "text": [
      "[[10.  17.4]\n",
      " [22.  24.2]\n",
      " [14.  14.4]]\n",
      "Lam  0.16666666666666666\n",
      "[[ 6 -4  1]\n",
      " [ 0  3 -3]\n",
      " [ 0  0  2]]\n"
     ]
    }
   ],
   "source": [
    "# Example 2.3 from the book\n",
    "\n",
    "A = np.array([[ 6, -4,  1],\n",
    "              [-4,  6, -4],\n",
    "              [ 1, -4,  6]])\n",
    "\n",
    "B = np.array([[-14,22],\n",
    "              [ 36,18],\n",
    "              [  6, 7]])\n",
    "\n",
    "print(np.linalg.solve(A,B))\n",
    "\n",
    "# 1. A와 B를 합치는 행렬을 만드시오. np.hstack(a,b) np.concatenate(a,b)\n",
    "# 2. Gaussian elimination. 가우시안 소거법.\n",
    "    # lambda구하기\n",
    "    # 피벗 축을 기준으로 나머지 행의 요소들을 제겋하기\n",
    "# 3. 후진대입.\n"
   ]
  },
  {
   "cell_type": "code",
   "execution_count": 37,
   "metadata": {},
   "outputs": [
    {
     "name": "stdout",
     "output_type": "stream",
     "text": [
      "Lam  0.0\n",
      "[[ 6 -4  1]\n",
      " [ 0  3 -3]\n",
      " [ 0  0  2]]\n"
     ]
    }
   ],
   "source": [
    "\n",
    "# row2 -> row2 - (-2/3)*row1\n",
    "lam = A[1,0]/A[0,0]\n",
    "#A[1,0] = A[1,0] - A[0,0]*lam\n",
    "\n",
    "#print(A[1,0])\n",
    "\n",
    "A[1,:] = A[1,:] - lam*A[0,:]\n",
    "\n",
    "# row3 -> row3 - lam2*row1\n",
    "lam2 = A[2,0]/A[0,0]\n",
    "A[2,:] = A[2,:] - lam2*A[0,:]\n",
    "\n",
    "\n",
    "\n",
    "# row3 -> row3 - lam3*row2\n",
    "lam3 = A[2,1]/A[1,1]\n",
    "A[2,:] = A[2,:] - lam3*A[1,:]\n",
    "\n",
    "print('Lam ',lam2)\n",
    "print(A)\n",
    "\n",
    "# back substitution"
   ]
  },
  {
   "cell_type": "code",
   "execution_count": 52,
   "metadata": {},
   "outputs": [
    {
     "name": "stdout",
     "output_type": "stream",
     "text": [
      "Lam  0.0\n",
      "[[ 6 -4  1]\n",
      " [ 0  3 -3]\n",
      " [ 0  0  2]]\n"
     ]
    },
    {
     "ename": "IndexError",
     "evalue": "index 2 is out of bounds for axis 1 with size 2",
     "output_type": "error",
     "traceback": [
      "\u001b[0;31m---------------------------------------------------------------------------\u001b[0m",
      "\u001b[0;31mIndexError\u001b[0m                                Traceback (most recent call last)",
      "\u001b[0;32m<ipython-input-52-823ee7bab79f>\u001b[0m in \u001b[0;36m<module>\u001b[0;34m\u001b[0m\n\u001b[1;32m     27\u001b[0m \u001b[0mx\u001b[0m \u001b[0;34m=\u001b[0m \u001b[0mnp\u001b[0m\u001b[0;34m.\u001b[0m\u001b[0mzeros\u001b[0m\u001b[0;34m(\u001b[0m\u001b[0;34m[\u001b[0m\u001b[0;36m3\u001b[0m\u001b[0;34m,\u001b[0m\u001b[0;36m2\u001b[0m\u001b[0;34m]\u001b[0m\u001b[0;34m)\u001b[0m\u001b[0;34m\u001b[0m\u001b[0;34m\u001b[0m\u001b[0m\n\u001b[1;32m     28\u001b[0m \u001b[0;34m\u001b[0m\u001b[0m\n\u001b[0;32m---> 29\u001b[0;31m \u001b[0mx\u001b[0m\u001b[0;34m[\u001b[0m\u001b[0;36m0\u001b[0m\u001b[0;34m,\u001b[0m\u001b[0;36m2\u001b[0m\u001b[0;34m]\u001b[0m \u001b[0;34m=\u001b[0m \u001b[0mB\u001b[0m\u001b[0;34m[\u001b[0m\u001b[0;36m0\u001b[0m\u001b[0;34m,\u001b[0m\u001b[0;36m2\u001b[0m\u001b[0;34m]\u001b[0m\u001b[0;34m/\u001b[0m\u001b[0mA\u001b[0m\u001b[0;34m[\u001b[0m\u001b[0;36m2\u001b[0m\u001b[0;34m,\u001b[0m\u001b[0;36m2\u001b[0m\u001b[0;34m]\u001b[0m\u001b[0;34m\u001b[0m\u001b[0;34m\u001b[0m\u001b[0m\n\u001b[0m",
      "\u001b[0;31mIndexError\u001b[0m: index 2 is out of bounds for axis 1 with size 2"
     ]
    }
   ],
   "source": [
    "# 실습 \n",
    "\n",
    "\n",
    "# row2 -> row2 - (-2/3)*row1\n",
    "lam = A[1,0]/A[0,0]\n",
    "#A[1,0] = A[1,0] - A[0,0]*lam\n",
    "\n",
    "#print(A[1,0])\n",
    "\n",
    "A[1,:] = A[1,:] - lam*A[0,:]\n",
    "\n",
    "# row3 -> row3 - lam2*row1\n",
    "lam2 = A[2,0]/A[0,0]\n",
    "A[2,:] = A[2,:] - lam2*A[0,:]\n",
    "\n",
    "\n",
    "\n",
    "# row3 -> row3 - lam3*row2\n",
    "lam3 = A[2,1]/A[1,1]\n",
    "A[2,:] = A[2,:] - lam3*A[1,:]\n",
    "\n",
    "print('Lam ',lam2)\n",
    "print(A)\n",
    "\n",
    "# back substitution\n",
    "\n",
    "x = np.zeros([3,2])\n",
    "\n",
    "x[0,2] = B[0,2]/A[2,2]"
   ]
  },
  {
   "cell_type": "code",
   "execution_count": 9,
   "metadata": {},
   "outputs": [],
   "source": [
    "B = A.copy()"
   ]
  },
  {
   "cell_type": "code",
   "execution_count": 10,
   "metadata": {},
   "outputs": [
    {
     "data": {
      "text/plain": [
       "array([[ 6, -4,  1],\n",
       "       [-4,  6, -4],\n",
       "       [ 1, -4,  6]])"
      ]
     },
     "execution_count": 10,
     "metadata": {},
     "output_type": "execute_result"
    }
   ],
   "source": [
    "B"
   ]
  },
  {
   "cell_type": "code",
   "execution_count": 13,
   "metadata": {},
   "outputs": [
    {
     "data": {
      "text/plain": [
       "array([ 6, -4,  1])"
      ]
     },
     "execution_count": 13,
     "metadata": {},
     "output_type": "execute_result"
    }
   ],
   "source": [
    "B[0]"
   ]
  },
  {
   "cell_type": "code",
   "execution_count": 15,
   "metadata": {},
   "outputs": [
    {
     "data": {
      "text/plain": [
       "array([-4,  6, -4])"
      ]
     },
     "execution_count": 15,
     "metadata": {},
     "output_type": "execute_result"
    }
   ],
   "source": [
    "B[1]"
   ]
  },
  {
   "cell_type": "code",
   "execution_count": 18,
   "metadata": {},
   "outputs": [
    {
     "data": {
      "text/plain": [
       "array([[ 1, -4,  6],\n",
       "       [ 6, -4,  1]])"
      ]
     },
     "execution_count": 18,
     "metadata": {},
     "output_type": "execute_result"
    }
   ],
   "source": [
    "B[[0,2],:]"
   ]
  },
  {
   "cell_type": "code",
   "execution_count": 19,
   "metadata": {},
   "outputs": [],
   "source": [
    "a = 1\n",
    "b = 2\n",
    "\n",
    "temp = a\n",
    "b = a\n",
    "b = temp\n",
    "\n",
    "a, b = b, a"
   ]
  },
  {
   "cell_type": "code",
   "execution_count": 20,
   "metadata": {},
   "outputs": [],
   "source": [
    "B[[0,2]] = B[[2,0]]    # Row swap"
   ]
  },
  {
   "cell_type": "code",
   "execution_count": 21,
   "metadata": {},
   "outputs": [
    {
     "data": {
      "text/plain": [
       "array([[ 6, -4,  1],\n",
       "       [-4,  6, -4],\n",
       "       [ 1, -4,  6]])"
      ]
     },
     "execution_count": 21,
     "metadata": {},
     "output_type": "execute_result"
    }
   ],
   "source": [
    "B"
   ]
  },
  {
   "cell_type": "code",
   "execution_count": 22,
   "metadata": {},
   "outputs": [],
   "source": [
    "B[:,[0,2]] = B[:,[2,0]]  # Column swap"
   ]
  },
  {
   "cell_type": "code",
   "execution_count": 66,
   "metadata": {},
   "outputs": [
    {
     "data": {
      "text/plain": [
       "array([[ 7.16666667,  9.41666667],\n",
       "       [15.        ,  9.5       ],\n",
       "       [ 3.        ,  3.5       ]])"
      ]
     },
     "execution_count": 66,
     "metadata": {},
     "output_type": "execute_result"
    }
   ],
   "source": [
    "n = 3\n",
    "a = A.copy()\n",
    "b = B.copy()\n",
    "\n",
    "# Eliminiation phase\n",
    "for k in range(0,n-1):                              # pivot rows   k = 0, 1, ...\n",
    "    for i in range(k+1,n):                          #range i = 0, 1\n",
    "        if a[i,k] != 0.:\n",
    "#            print('We are in the loop',i,k)\n",
    "            lam = a[i,k]/a[k,k]                     # Definition of lambda\n",
    "#            a[i,k] = 0.                            # 소거\n",
    "            a[i,k:n] = a[i,k:n] - lam*a[k,k:n]      # a[i,k+1:n] 까지 변경\n",
    "            b[i] = b[i] - lam*b[k]\n",
    "            \n",
    "# Back substitution\n",
    "for k in range(n-1,-1,-1):                          # From end to beginning\n",
    "    x[k] = ( b[k] - np.dot(a[k,k+1:n],x[k+1:n]) )/a[k,k]                     # j = k+1, ... , n        \n",
    "x"
   ]
  },
  {
   "cell_type": "code",
   "execution_count": 67,
   "metadata": {},
   "outputs": [],
   "source": [
    "# A = L*U"
   ]
  },
  {
   "cell_type": "code",
   "execution_count": 68,
   "metadata": {},
   "outputs": [],
   "source": [
    "A = np.array([[ 6, -4,  1],\n",
    "              [-4,  6, -4],\n",
    "              [ 1, -4,  6]])"
   ]
  },
  {
   "cell_type": "code",
   "execution_count": 69,
   "metadata": {},
   "outputs": [
    {
     "data": {
      "text/plain": [
       "array([[36, 16,  1],\n",
       "       [16, 36, 16],\n",
       "       [ 1, 16, 36]])"
      ]
     },
     "execution_count": 69,
     "metadata": {},
     "output_type": "execute_result"
    }
   ],
   "source": [
    "A*A"
   ]
  },
  {
   "cell_type": "code",
   "execution_count": 70,
   "metadata": {},
   "outputs": [
    {
     "data": {
      "text/plain": [
       "array([[ 53, -52,  28],\n",
       "       [-52,  68, -52],\n",
       "       [ 28, -52,  53]])"
      ]
     },
     "execution_count": 70,
     "metadata": {},
     "output_type": "execute_result"
    }
   ],
   "source": [
    "A@A"
   ]
  },
  {
   "cell_type": "code",
   "execution_count": 72,
   "metadata": {},
   "outputs": [
    {
     "data": {
      "text/plain": [
       "array([[ 53, -52,  28],\n",
       "       [-52,  68, -52],\n",
       "       [ 28, -52,  53]])"
      ]
     },
     "execution_count": 72,
     "metadata": {},
     "output_type": "execute_result"
    }
   ],
   "source": [
    "np.dot(A,A)"
   ]
  },
  {
   "cell_type": "code",
   "execution_count": null,
   "metadata": {},
   "outputs": [],
   "source": [
    "#전진대입법 후진대입법"
   ]
  },
  {
   "cell_type": "code",
   "execution_count": null,
   "metadata": {},
   "outputs": [],
   "source": [
    "# A = LU\n",
    "# A@x = b\n",
    "# L@U@x = b\n",
    "\n",
    "# L@y = b    -> 전진대입\n",
    "# y = U@x    -> 후진대입\n",
    "\n"
   ]
  },
  {
   "cell_type": "code",
   "execution_count": 75,
   "metadata": {},
   "outputs": [
    {
     "name": "stdout",
     "output_type": "stream",
     "text": [
      "[[ 6 -4  1]\n",
      " [ 0  6 -4]\n",
      " [ 1 -4  6]]\n"
     ]
    }
   ],
   "source": [
    "LU = A.copy()\n",
    "LU[1,0] = lam\n",
    "#LU[2,0] = lam1\n",
    "#LU[2,1] = lam2\n",
    "\n",
    "print(LU)"
   ]
  },
  {
   "cell_type": "code",
   "execution_count": null,
   "metadata": {},
   "outputs": [],
   "source": []
  }
 ],
 "metadata": {
  "kernelspec": {
   "display_name": "Python 3",
   "language": "python",
   "name": "python3"
  },
  "language_info": {
   "codemirror_mode": {
    "name": "ipython",
    "version": 3
   },
   "file_extension": ".py",
   "mimetype": "text/x-python",
   "name": "python",
   "nbconvert_exporter": "python",
   "pygments_lexer": "ipython3",
   "version": "3.6.8"
  }
 },
 "nbformat": 4,
 "nbformat_minor": 4
}
