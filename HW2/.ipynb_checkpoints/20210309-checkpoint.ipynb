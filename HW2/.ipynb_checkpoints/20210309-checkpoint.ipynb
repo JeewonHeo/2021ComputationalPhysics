{
 "cells": [
  {
   "cell_type": "code",
   "execution_count": 2,
   "metadata": {},
   "outputs": [],
   "source": [
    "import numpy as np \n",
    "                `\n",
    "A = np.random.rand(3,4)"
   ]
  },
  {
   "cell_type": "code",
   "execution_count": 3,
   "metadata": {},
   "outputs": [
    {
     "data": {
      "text/plain": [
       "array([[0.1986194 , 0.27899653, 0.97985278, 0.07771681],\n",
       "       [0.19314878, 0.97817227, 0.3596591 , 0.94085115],\n",
       "       [0.39965286, 0.54901502, 0.56690873, 0.05843375]])"
      ]
     },
     "execution_count": 3,
     "metadata": {},
     "output_type": "execute_result"
    }
   ],
   "source": [
    "A"
   ]
  },
  {
   "cell_type": "code",
   "execution_count": 4,
   "metadata": {},
   "outputs": [
    {
     "name": "stdout",
     "output_type": "stream",
     "text": [
      "[[0.1986194  0.27899653 0.97985278]\n",
      " [0.19314878 0.97817227 0.3596591 ]\n",
      " [0.39965286 0.54901502 0.56690873]]\n"
     ]
    }
   ],
   "source": [
    "a = A[0:3, 0:3]\n",
    "print(a)"
   ]
  },
  {
   "cell_type": "code",
   "execution_count": 7,
   "metadata": {},
   "outputs": [
    {
     "name": "stdout",
     "output_type": "stream",
     "text": [
      "[0.07771681 0.94085115 0.05843375]\n"
     ]
    }
   ],
   "source": [
    "b = A[:,3]\n",
    "print(b)"
   ]
  },
  {
   "cell_type": "code",
   "execution_count": 8,
   "metadata": {},
   "outputs": [
    {
     "data": {
      "text/plain": [
       "(3, 3)"
      ]
     },
     "execution_count": 8,
     "metadata": {},
     "output_type": "execute_result"
    }
   ],
   "source": [
    "a.shape"
   ]
  },
  {
   "cell_type": "code",
   "execution_count": 9,
   "metadata": {},
   "outputs": [
    {
     "data": {
      "text/plain": [
       "3"
      ]
     },
     "execution_count": 9,
     "metadata": {},
     "output_type": "execute_result"
    }
   ],
   "source": [
    "len(a)"
   ]
  },
  {
   "cell_type": "code",
   "execution_count": 11,
   "metadata": {},
   "outputs": [],
   "source": [
    "aa = a.copy()"
   ]
  },
  {
   "cell_type": "code",
   "execution_count": 12,
   "metadata": {},
   "outputs": [
    {
     "data": {
      "text/plain": [
       "array([[0.1986194 , 0.27899653, 0.97985278],\n",
       "       [0.19314878, 0.97817227, 0.3596591 ],\n",
       "       [0.39965286, 0.54901502, 0.56690873]])"
      ]
     },
     "execution_count": 12,
     "metadata": {},
     "output_type": "execute_result"
    }
   ],
   "source": [
    "aa"
   ]
  },
  {
   "cell_type": "markdown",
   "metadata": {},
   "source": [
    "### why copy?"
   ]
  },
  {
   "cell_type": "code",
   "execution_count": 13,
   "metadata": {},
   "outputs": [],
   "source": [
    "a1 = [1,2,3]"
   ]
  },
  {
   "cell_type": "code",
   "execution_count": 14,
   "metadata": {},
   "outputs": [],
   "source": [
    "b1 = a1"
   ]
  },
  {
   "cell_type": "code",
   "execution_count": 15,
   "metadata": {},
   "outputs": [
    {
     "data": {
      "text/plain": [
       "[1, 2, 3]"
      ]
     },
     "execution_count": 15,
     "metadata": {},
     "output_type": "execute_result"
    }
   ],
   "source": [
    "a1"
   ]
  },
  {
   "cell_type": "code",
   "execution_count": 16,
   "metadata": {},
   "outputs": [
    {
     "data": {
      "text/plain": [
       "[1, 2, 3]"
      ]
     },
     "execution_count": 16,
     "metadata": {},
     "output_type": "execute_result"
    }
   ],
   "source": [
    "b1"
   ]
  },
  {
   "cell_type": "code",
   "execution_count": 17,
   "metadata": {},
   "outputs": [],
   "source": [
    "a1.append(2)"
   ]
  },
  {
   "cell_type": "code",
   "execution_count": 18,
   "metadata": {},
   "outputs": [
    {
     "data": {
      "text/plain": [
       "[1, 2, 3, 2]"
      ]
     },
     "execution_count": 18,
     "metadata": {},
     "output_type": "execute_result"
    }
   ],
   "source": [
    "a1"
   ]
  },
  {
   "cell_type": "code",
   "execution_count": 19,
   "metadata": {},
   "outputs": [
    {
     "data": {
      "text/plain": [
       "[1, 2, 3, 2]"
      ]
     },
     "execution_count": 19,
     "metadata": {},
     "output_type": "execute_result"
    }
   ],
   "source": [
    "b1"
   ]
  },
  {
   "cell_type": "markdown",
   "metadata": {},
   "source": [
    "###### why copy? [END]"
   ]
  },
  {
   "cell_type": "code",
   "execution_count": 40,
   "metadata": {},
   "outputs": [
    {
     "name": "stdout",
     "output_type": "stream",
     "text": [
      "[[1. 1. 1.]\n",
      " [2. 1. 2.]\n",
      " [3. 1. 4.]]\n"
     ]
    }
   ],
   "source": [
    "a = np.array([[1.,1.,1.],\n",
    "              [2.,1.,2.],\n",
    "              [3.,1.,4.]])\n",
    "\n",
    "n = 3\n",
    "\n",
    "print(a)"
   ]
  },
  {
   "cell_type": "code",
   "execution_count": 101,
   "metadata": {},
   "outputs": [],
   "source": [
    "import numpy as np\n",
    "\n",
    "A = np.random.rand(3,4)\n",
    "a = A[0:3,0:3]\n",
    "aa = a.copy()\n",
    "\n",
    "b = A[:,3]\n",
    "bb = b.copy()\n",
    "x = np.zeros(len(b))\n",
    "\n",
    "n = len(a)"
   ]
  },
  {
   "cell_type": "code",
   "execution_count": 82,
   "metadata": {},
   "outputs": [],
   "source": [
    "# Eliminiation phase\n",
    "for k in range(0,n-1):                              # pivot rows   k = 0, 1, ...\n",
    "    for i in range(k+1,n):                          #range i = 0, 1\n",
    "        if a[i,k] != 0.:\n",
    "#            print('We are in the loop',i,k)\n",
    "            lam = a[i,k]/a[k,k]                     # Definition of lambda\n",
    "#            a[i,k] = 0.                            # 소거\n",
    "            a[i,k:n] = a[i,k:n] - lam*a[k,k:n]      # a[i,k+1:n] 까지 변경\n",
    "            b[i] = b[i] - lam*b[k]\n",
    "            \n",
    "\n",
    "# Back substitution\n",
    "\n",
    "for k in range(n-1,-1,-1):                          # From end to beginning\n",
    "    x[k] = ( b[k] - np.dot(a[k,k+1:n],x[k+1:n]) )/a[k,k]                     # j = k+1, ... , n        "
   ]
  },
  {
   "cell_type": "code",
   "execution_count": 98,
   "metadata": {},
   "outputs": [],
   "source": [
    "def gauss(a,b):\n",
    "    # Eliminiation phase\n",
    "    for k in range(0,n-1):                              # pivot rows   k = 0, 1, ...\n",
    "        for i in range(k+1,n):                          #range i = 0, 1\n",
    "            if a[i,k] != 0.:\n",
    "    #            print('We are in the loop',i,k)\n",
    "                lam = a[i,k]/a[k,k]                     # Definition of lambda\n",
    "    #            a[i,k] = 0.                            # 소거\n",
    "                a[i,k:n] = a[i,k:n] - lam*a[k,k:n]      # a[i,k+1:n] 까지 변경\n",
    "                b[i] = b[i] - lam*b[k]\n",
    "    print(a)\n",
    "\n",
    "\n",
    "    # Back substitution\n",
    "\n",
    "    for k in range(n-1,-1,-1):                          # From end to beginning\n",
    "        x[k] = ( b[k] - np.dot(a[k,k+1:n],x[k+1:n]) )/a[k,k]                     # j = k+1, ... , n       \n",
    "    return x"
   ]
  },
  {
   "cell_type": "markdown",
   "metadata": {},
   "source": [
    "### 실습문제:\n",
    "######      가우스 소거법을 활용해서 하삼각 행렬을 만들어 봅시다."
   ]
  },
  {
   "cell_type": "code",
   "execution_count": 102,
   "metadata": {},
   "outputs": [],
   "source": [
    "def gaussupper(a,b):\n",
    "    # Eliminiation phase\n",
    "    for k in range(0,n-1):                              # pivot rows   k = 0, 1, ...\n",
    "        for i in range(k+1,n):                          #range i = 0, 1\n",
    "            if a[k,i] != 0.:\n",
    "    #            print('We are in the loop',i,k)\n",
    "                lam = a[k,i]/a[k,k]                     # Definition of lambda\n",
    "    #            a[i,k] = 0.                            # 소거\n",
    "                a[k:n,i] = a[k:n,i] - lam*a[k:n,k]      # a[i,k+1:n] 까지 변경\n",
    "                b[i] = b[i] - lam*b[k]\n",
    "    print(a)\n",
    "    # Back substitution\n",
    "\n",
    "    for k in range(n-1,-1,-1):                          # From end to beginning\n",
    "        x[k] = ( b[k] - np.dot(a[k,k+1:n],x[k+1:n]) )/a[k,k]                     # j = k+1, ... , n       \n",
    "    return x"
   ]
  },
  {
   "cell_type": "code",
   "execution_count": 103,
   "metadata": {},
   "outputs": [
    {
     "name": "stdout",
     "output_type": "stream",
     "text": [
      "[[ 0.34986199  0.          0.        ]\n",
      " [ 0.66326068 -0.23233295  0.        ]\n",
      " [ 0.50363688  0.55158869 -1.88444192]]\n"
     ]
    },
    {
     "data": {
      "text/plain": [
       "array([ 1.92862076, -1.48208891,  0.90851844])"
      ]
     },
     "execution_count": 103,
     "metadata": {},
     "output_type": "execute_result"
    }
   ],
   "source": [
    "gaussupper(aa,bb)"
   ]
  },
  {
   "cell_type": "code",
   "execution_count": 88,
   "metadata": {},
   "outputs": [
    {
     "name": "stdout",
     "output_type": "stream",
     "text": [
      "[[ 0.39944418  0.6675161   0.19807147]\n",
      " [ 0.         -1.12376488 -0.22397474]\n",
      " [ 0.          0.         -0.08342406]]\n"
     ]
    }
   ],
   "source": [
    "print(a)"
   ]
  },
  {
   "cell_type": "code",
   "execution_count": 84,
   "metadata": {},
   "outputs": [
    {
     "name": "stdout",
     "output_type": "stream",
     "text": [
      "x  [-0.81938043 -1.05601789  9.04969399]\n"
     ]
    }
   ],
   "source": [
    "print('x ',x)\n",
    "# BLAS "
   ]
  },
  {
   "cell_type": "code",
   "execution_count": 104,
   "metadata": {},
   "outputs": [
    {
     "data": {
      "text/plain": [
       "array([1.92862076, 4.02370925, 2.60172906])"
      ]
     },
     "execution_count": 104,
     "metadata": {},
     "output_type": "execute_result"
    }
   ],
   "source": [
    "np.linalg.solve(aa,bb)"
   ]
  },
  {
   "cell_type": "code",
   "execution_count": 99,
   "metadata": {},
   "outputs": [
    {
     "name": "stdout",
     "output_type": "stream",
     "text": [
      "[[ 0.33601512  0.          0.        ]\n",
      " [ 0.         -1.35527803  0.        ]\n",
      " [ 0.          0.         -0.24514449]]\n"
     ]
    },
    {
     "data": {
      "text/plain": [
       "array([ 2.16340766,  2.28597689, -1.95899873])"
      ]
     },
     "execution_count": 99,
     "metadata": {},
     "output_type": "execute_result"
    }
   ],
   "source": [
    "gauss(aa,bb)"
   ]
  },
  {
   "cell_type": "code",
   "execution_count": null,
   "metadata": {},
   "outputs": [],
   "source": []
  },
  {
   "cell_type": "code",
   "execution_count": 67,
   "metadata": {},
   "outputs": [
    {
     "name": "stdout",
     "output_type": "stream",
     "text": [
      " Before\n",
      " [[0.64252804 0.9551093  0.77003828]\n",
      " [0.14181404 0.33287328 0.41204877]\n",
      " [0.30078486 0.00320538 0.54747929]] \n",
      "\n",
      " After \n",
      " [[0.64252804 0.9551093  0.77003828]\n",
      " [0.         0.12206861 0.24209161]\n",
      " [0.         0.         1.06737901]]\n",
      "\n",
      "\n",
      " Before\n",
      " [0.31800524 0.4566208  0.09336716] \n",
      "\n",
      " After \n",
      " [0.31800524 0.38643303 1.34977906]\n"
     ]
    }
   ],
   "source": [
    "print(' Before\\n', aa, '\\n\\n', 'After \\n', a)\n",
    "print('\\n\\n Before\\n', bb, '\\n\\n', 'After \\n', b)"
   ]
  },
  {
   "cell_type": "code",
   "execution_count": null,
   "metadata": {},
   "outputs": [],
   "source": []
  },
  {
   "cell_type": "code",
   "execution_count": null,
   "metadata": {},
   "outputs": [],
   "source": []
  },
  {
   "cell_type": "markdown",
   "metadata": {},
   "source": [
    "### for loop 문제점"
   ]
  },
  {
   "cell_type": "code",
   "execution_count": 27,
   "metadata": {},
   "outputs": [
    {
     "name": "stdout",
     "output_type": "stream",
     "text": [
      "Total elapsed time  14.755205392837524\n"
     ]
    }
   ],
   "source": [
    "import time\n",
    "time_start = time.time()\n",
    "\n",
    "A = np.zeros((4000,4000))\n",
    "\n",
    "for i in range(4000):\n",
    "    for j in range(4000):\n",
    "        A[i,j] = A[i,j] + 1\n",
    "        \n",
    "time_finish = time.time()\n",
    "\n",
    "print('Total elapsed time ', time_finish - time_start)"
   ]
  },
  {
   "cell_type": "code",
   "execution_count": 28,
   "metadata": {},
   "outputs": [
    {
     "name": "stdout",
     "output_type": "stream",
     "text": [
      "Total elapsed time  0.16604852676391602\n"
     ]
    }
   ],
   "source": [
    "time_start = time.time()\n",
    "\n",
    "A = np.zeros((4000,4000))\n",
    "A = A + np.ones((4000,4000))\n",
    "\n",
    "\n",
    "time_finish = time.time()\n",
    "\n",
    "print('Total elapsed time ', time_finish - time_start)"
   ]
  },
  {
   "cell_type": "markdown",
   "metadata": {},
   "source": [
    "###### for loop 문제점 [END]"
   ]
  },
  {
   "cell_type": "code",
   "execution_count": null,
   "metadata": {},
   "outputs": [],
   "source": []
  }
 ],
 "metadata": {
  "kernelspec": {
   "display_name": "Python 3",
   "language": "python",
   "name": "python3"
  },
  "language_info": {
   "codemirror_mode": {
    "name": "ipython",
    "version": 3
   },
   "file_extension": ".py",
   "mimetype": "text/x-python",
   "name": "python",
   "nbconvert_exporter": "python",
   "pygments_lexer": "ipython3",
   "version": "3.6.8"
  }
 },
 "nbformat": 4,
 "nbformat_minor": 4
}
