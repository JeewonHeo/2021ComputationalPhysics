{
 "cells": [
  {
   "cell_type": "markdown",
   "metadata": {},
   "source": [
    " ![p1](./hwp1.png)"
   ]
  },
  {
   "cell_type": "code",
   "execution_count": 46,
   "metadata": {},
   "outputs": [
    {
     "name": "stdout",
     "output_type": "stream",
     "text": [
      "Upper triangular matrix ->\n",
      " [[1 2 4]\n",
      " [0 2 2]\n",
      " [0 0 3]]\n",
      "\n",
      "Back substitution : [ 3.  4. -2.]\n",
      "linalg.solve      : [ 3.  4. -2.]\n"
     ]
    }
   ],
   "source": [
    "import numpy as np\n",
    "\n",
    "A = np.array([[1,2,4],\n",
    "              [3,8,14],\n",
    "              [2,6,13]])\n",
    "\n",
    "B = np.array([3,13,4])\n",
    "x = np.zeros([3])\n",
    "n = len(B)\n",
    "ans = np.linalg.solve(A,B)\n",
    "\n",
    "lam1 = A[1,0]/A[0,0]\n",
    "A[1,:] = A[1,:] - lam1 * A[0,:]\n",
    "B[1] = B[1] - lam1 * B[0]\n",
    "\n",
    "lam2 = A[2,0]/A[0,0]\n",
    "A[2,:] = A[2,:] - lam2 * A[0,:]\n",
    "B[2] = B[2] - lam2 * B[0]\n",
    "  \n",
    "lam3 = A[2,1]/A[1,1]\n",
    "A[2,:] = A[2,:] - lam3 * A[1,:]\n",
    "B[2] = B[2] - lam3 * B[1]\n",
    "\n",
    "print('Upper triangular matrix ->\\n',A)\n",
    "\n",
    "# back substitution\n",
    "for k in range(n-1,-1,-1):                          # From end to beginning\n",
    "    x[k] = ( B[k] - np.dot(A[k,k+1:n],x[k+1:n]) )/A[k,k] \n",
    "\n",
    "print('\\nBack substitution :',x)\n",
    "print('linalg.solve      :',ans)"
   ]
  },
  {
   "cell_type": "markdown",
   "metadata": {},
   "source": [
    "![p1](./hwp2.png)"
   ]
  },
  {
   "cell_type": "code",
   "execution_count": 2,
   "metadata": {},
   "outputs": [
    {
     "name": "stdout",
     "output_type": "stream",
     "text": [
      "Rearranged matrix ->\n",
      " [[ 1  2  0 -2  0]\n",
      " [ 0  1 -1  1 -1]\n",
      " [ 0  1  0  2 -1]\n",
      " [ 0  0  2  1  2]\n",
      " [ 0  0  0 -1  1]]\n",
      "\n",
      "Upper matrix ->\n",
      " [[ 1  2  0 -2  0]\n",
      " [ 0  1 -1  1 -1]\n",
      " [ 0  0  1  1  0]\n",
      " [ 0  0  0 -1  2]\n",
      " [ 0  0  0  0 -1]]\n",
      "\n",
      "Back substitution : [ 2. -2.  1.  1. -1.]\n",
      "linalg.solve      : [ 2. -2.  1.  1. -1.]\n"
     ]
    }
   ],
   "source": [
    "import numpy as np\n",
    "\n",
    "A = np.array([[ 0,  0,  2,  1,  2],\n",
    "              [ 0,  1,  0,  2, -1],\n",
    "              [ 1,  2,  0, -2,  0],\n",
    "              [ 0,  0,  0, -1,  1],\n",
    "              [ 0,  1, -1,  1, -1]])\n",
    "\n",
    "b = np.array([1,1,-4,-2,-1])\n",
    "x = np.zeros([5])\n",
    "n = len(b)\n",
    "ans = np.linalg.solve(A,b)\n",
    "a = np.array([A[2],A[4],A[1],A[0],A[3]])\n",
    "b = np.array([b[2],b[4],b[1],b[0],b[3]])\n",
    "print('Rearranged matrix ->\\n',a)\n",
    "\n",
    "lam1 = a[2,1]/a[1,1]\n",
    "a[2,:] = a[2,:] - lam1 * a[1,:]\n",
    "b[2] = b[2] - lam1 * b[1]\n",
    "\n",
    "lam2 = a[3,2]/a[2,2]\n",
    "a[3,:] = a[3,:] - lam2 * a[2,:]\n",
    "b[3] = b[3] - lam2 * b[2]\n",
    "\n",
    "lam3 = a[4,3]/a[3,3]\n",
    "a[4,:] = a[4,:] - lam3 * a[3,:]\n",
    "b[4] = b[4] - lam3 * b[3]\n",
    "\n",
    "print('\\nUpper matrix ->\\n',a)\n",
    "\n",
    "for k in range(n-1,-1,-1):                          # From end to beginning\n",
    "    x[k] = (b[k] - np.dot(a[k,k+1:n],x[k+1:n]) )/a[k,k] \n",
    "\n",
    "print('\\nBack substitution :',x)\n",
    "print('linalg.solve      :',ans)"
   ]
  },
  {
   "cell_type": "markdown",
   "metadata": {},
   "source": [
    "![p1](./hwp3.png)"
   ]
  },
  {
   "cell_type": "code",
   "execution_count": 7,
   "metadata": {},
   "outputs": [
    {
     "name": "stdout",
     "output_type": "stream",
     "text": [
      "Lower triangular matrix -> \n",
      " [[ 0.3         0.          0.        ]\n",
      " [ 0.84615385  1.53846154  0.        ]\n",
      " [ 2.          6.         13.        ]]\n",
      "\n",
      "Forward substitution    : [ 3.  4. -2.]\n",
      "np.linalg.solve         : [ 3.  4. -2.]\n"
     ]
    }
   ],
   "source": [
    "A = np.array([[1.,2.,4.],\n",
    "              [3.,8.,14.],\n",
    "              [2.,6.,13.]])\n",
    "\n",
    "B = np.array([3.,13.,4.])\n",
    "\n",
    "ans = np.linalg.solve(A,B)\n",
    "\n",
    "def gausslower(a,b):\n",
    "    n = len(b)\n",
    "    x = np.zeros([n])\n",
    "    # Eliminiation phase\n",
    "    for k in range(n-1,-1,-1):                     \n",
    "        for i in range(k-1,-1,-1):                    \n",
    "            if a[i,k] != 0:\n",
    "                lam = a[i,k]/a[k,k]                     # Definition of lambda\n",
    "                a[i,:] = a[i,:] - lam*a[k,:]   \n",
    "\n",
    "                b[i] = b[i] - lam*b[k]\n",
    "\n",
    "    # Forward substitution\n",
    "    for k in range(0,n):\n",
    "        x[k] = ( b[k] - np.dot(a[k,0:k],x[0:k]) )/a[k,k]    \n",
    "    return a, x\n",
    "\n",
    "print('Lower triangular matrix -> \\n',gausslower(A,B)[0])\n",
    "print('\\nForward substitution    :',gausslower(A,B)[1])\n",
    "print('np.linalg.solve         :',ans)"
   ]
  },
  {
   "cell_type": "markdown",
   "metadata": {},
   "source": [
    "![p1](./hwp4.png)"
   ]
  },
  {
   "cell_type": "code",
   "execution_count": 56,
   "metadata": {},
   "outputs": [
    {
     "name": "stdout",
     "output_type": "stream",
     "text": [
      "y  [ 3.  4. -6.]\n",
      "x [ 3.  4. -2.]\n"
     ]
    },
    {
     "data": {
      "text/plain": [
       "array([ 3., 13.,  4.])"
      ]
     },
     "execution_count": 56,
     "metadata": {},
     "output_type": "execute_result"
    }
   ],
   "source": [
    "import numpy as np\n",
    "A = np.array([[1.,2.,4.],\n",
    "              [3.,8.,14.],\n",
    "              [2.,6.,13.]])\n",
    "\n",
    "B = np.array([3.,13.,4.])\n",
    "\n",
    "def LU(a,b):\n",
    "    n = len(b)\n",
    "    x = np.zeros([n])\n",
    "    y = np.zeros([n])\n",
    "    L = np.eye(n)\n",
    "    U = a.copy()\n",
    "    B = b.copy()\n",
    "    for k in range(0,n-1):                             \n",
    "        for i in range(k+1,n):                         \n",
    "            if a[i,k] != 0.:\n",
    "                lam = U[i,k]/U[k,k]    \n",
    "                U[i,k:n] = U[i,k:n] - lam*U[k,k:n]     \n",
    "                B[i] = B[i] - lam*B[k]\n",
    "                L[i,k]=lam\n",
    "    \n",
    "    y[0] = B[0]\n",
    "    for k in range(1,n):    # Forward substitution\n",
    "        y[k] = b[k] - np.dot(L[k,0:k],y[0:k])\n",
    "    print('y ',y)\n",
    "    \n",
    "    # U@x = y\n",
    "    b = y.copy()\n",
    "    for k in range(n-1,-1,-1):\n",
    "        x[k] = (B[k] - np.dot(U[k,k+1:n],x[k+1:n]))/U[k,k]\n",
    "    print('x',x)\n",
    "    \n",
    "    return L, U, x, y\n",
    "\n",
    "#LU(A,B)[0]@LU(A,B)[3]\n",
    "#LU(A,B)[0]@LU(A,B)[1]@LU(A,B)[3]\n",
    "#LU(A,B)[2]\n",
    "A@LU(A,B)[2]"
   ]
  },
  {
   "cell_type": "markdown",
   "metadata": {},
   "source": [
    "![p1](./hwp5.png)"
   ]
  },
  {
   "cell_type": "code",
   "execution_count": 82,
   "metadata": {},
   "outputs": [
    {
     "name": "stdout",
     "output_type": "stream",
     "text": [
      "T_{1} = 34.67742708513928 N\n",
      "T_{2} = 47.01630903295704 N\n",
      "T_{3} = 66.27013368332412 N\n",
      "a     = 1.04502228055402 m/s^2\n"
     ]
    }
   ],
   "source": [
    "import numpy as np\n",
    "\n",
    "g = 10\n",
    "theta = 40*np.pi/180\n",
    "m = np.array([ 10, 4, 5, 6]).T    # m[0] = m_1, m[1] = m_2, m[2] = m_3, m[3] = m_4\n",
    "mu = np.array([ 0.25, 0.3, 0.2]).T    # mu[0] = mu_1, mu[1] = mu_2, mu[2] = mu_3\n",
    "\n",
    "A = np.array([[ 1, 0, 0, m[0]],\n",
    "              [-1, 1, 0, m[1]],\n",
    "              [ 0,-1, 1, m[2]],\n",
    "              [ 0, 0,-1, m[3]]])\n",
    "\n",
    "B = np.array([[m[0]*g*(np.sin(theta) - mu[0]*np.cos(theta))],\n",
    "              [m[1]*g*(np.sin(theta) - mu[1]*np.cos(theta))],\n",
    "              [m[2]*g*(np.sin(theta) - mu[2]*np.cos(theta))],\n",
    "              [-m[3]*g]])\n",
    "\n",
    "x = np.linalg.solve(A,B)\n",
    "print('T_{1} =',x[0][0],'N\\nT_{2} =',x[1][0],'N\\nT_{3} =',x[2][0],'N\\na     =',x[3][0],'m/s^2')"
   ]
  },
  {
   "cell_type": "code",
   "execution_count": null,
   "metadata": {},
   "outputs": [],
   "source": []
  }
 ],
 "metadata": {
  "kernelspec": {
   "display_name": "Python 3",
   "language": "python",
   "name": "python3"
  },
  "language_info": {
   "codemirror_mode": {
    "name": "ipython",
    "version": 3
   },
   "file_extension": ".py",
   "mimetype": "text/x-python",
   "name": "python",
   "nbconvert_exporter": "python",
   "pygments_lexer": "ipython3",
   "version": "3.6.8"
  }
 },
 "nbformat": 4,
 "nbformat_minor": 4
}
