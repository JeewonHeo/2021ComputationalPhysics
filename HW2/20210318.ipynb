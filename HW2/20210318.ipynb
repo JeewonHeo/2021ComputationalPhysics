{
 "cells": [
  {
   "cell_type": "code",
   "execution_count": 1,
   "metadata": {},
   "outputs": [],
   "source": [
    "# LU 분해\n",
    "# 응용문제\n",
    "# 물리응용문제 몇가지\n",
    "# 숄레스키 분해"
   ]
  },
  {
   "cell_type": "code",
   "execution_count": 2,
   "metadata": {},
   "outputs": [
    {
     "data": {
      "text/plain": [
       "array([[ 1.00000000e+00, -1.00000000e+00],\n",
       "       [ 1.00000000e+00,  1.00000000e+00],\n",
       "       [ 1.00000000e+00,  3.74880502e-17]])"
      ]
     },
     "execution_count": 2,
     "metadata": {},
     "output_type": "execute_result"
    }
   ],
   "source": [
    "from ch2 import *\n",
    "from scipy.linalg import *\n",
    "import numpy as np\n",
    "\n",
    "# Example 2.7\n",
    "\n",
    "a = np.array([[ 3.0, -1.0,  4.0],\n",
    "              [-2.0,  0.0,  5.0],\n",
    "              [ 7.0,  2.0, -2.0]])\n",
    "\n",
    "b = np.array([[ 6.0,  3.0,  7.0],\n",
    "              [-4.0,  2.0, -5.0]])\n",
    "\n",
    "np.linalg.solve(a,b.T)"
   ]
  },
  {
   "cell_type": "code",
   "execution_count": 3,
   "metadata": {},
   "outputs": [
    {
     "data": {
      "text/plain": [
       "array([1., 1., 1.])"
      ]
     },
     "execution_count": 3,
     "metadata": {},
     "output_type": "execute_result"
    }
   ],
   "source": [
    "lu, piv = lu_factor(a)\n",
    "lu_solve((lu,piv),b[0])"
   ]
  },
  {
   "cell_type": "code",
   "execution_count": 4,
   "metadata": {},
   "outputs": [],
   "source": [
    "amat = np.array([[ 3.0, -1.0,  4.0],\n",
    "                 [-2.0,  0.0,  5.0],\n",
    "                 [ 7.0,  2.0, -2.0]])"
   ]
  },
  {
   "cell_type": "code",
   "execution_count": 5,
   "metadata": {},
   "outputs": [
    {
     "data": {
      "text/plain": [
       "array([[ 3., -1.,  4.],\n",
       "       [-2.,  0.,  5.],\n",
       "       [ 7.,  2., -2.]])"
      ]
     },
     "execution_count": 5,
     "metadata": {},
     "output_type": "execute_result"
    }
   ],
   "source": [
    "a"
   ]
  },
  {
   "cell_type": "code",
   "execution_count": 6,
   "metadata": {},
   "outputs": [
    {
     "name": "stdout",
     "output_type": "stream",
     "text": [
      "U \n",
      " [[ 3.         -1.          4.        ]\n",
      " [ 0.         -0.66666667  7.66666667]\n",
      " [ 0.          0.         38.5       ]]\n",
      "\n",
      " L \n",
      " [[ 1.          0.          0.        ]\n",
      " [-0.66666667  1.          0.        ]\n",
      " [ 2.33333333 -6.5         1.        ]]\n"
     ]
    },
    {
     "data": {
      "text/plain": [
       "array([[ 3., -1.,  4.],\n",
       "       [-2.,  0.,  5.],\n",
       "       [ 7.,  2., -2.]])"
      ]
     },
     "execution_count": 6,
     "metadata": {},
     "output_type": "execute_result"
    }
   ],
   "source": [
    "a = amat.copy()\n",
    "\n",
    "# 2nd row, 1 col\n",
    "lam1 = a[1,0]/a[0,0]    #Define first lambda\n",
    "#a[1,:] = a[1,:] - lam1*a[0,:]    # Modify second row\n",
    "a[1] = a[1] - lam1*a[0]    # Modify second row\n",
    "\n",
    "\n",
    "# 3rd row, 1 col\n",
    "lam2 = a[2,0]/a[0,0]\n",
    "a[2] = a[2] - lam2*a[0]\n",
    "\n",
    "\n",
    "\n",
    "# 3rd row, 2 col\n",
    "lam3 = a[2,1]/a[1,1]\n",
    "a[2] = a[2] - lam3*a[1]\n",
    "\n",
    "\n",
    "\n",
    "U = a.copy()\n",
    "L = np.zeros([3,3])\n",
    "\n",
    "L = L + np.diag([1,1,1])    # numpy eye 써도 됨\n",
    "L[1,0] = lam1\n",
    "L[2,0] = lam2\n",
    "L[2,1] = lam3\n",
    "\n",
    "print('U \\n', U)\n",
    "print('\\n L \\n', L)\n",
    "\n",
    "L@U"
   ]
  },
  {
   "cell_type": "markdown",
   "metadata": {},
   "source": [
    "A@x = b = L@U@x\n",
    "A = L@U\n",
    "\n",
    "L@y = b\n",
    "U@X = y\n",
    "\n",
    "L@U@x = b = A@x"
   ]
  },
  {
   "cell_type": "code",
   "execution_count": 7,
   "metadata": {},
   "outputs": [
    {
     "data": {
      "text/plain": [
       "array([[ 7.        ,  2.        , -2.        ],\n",
       "       [ 0.42857143, -1.85714286,  4.85714286],\n",
       "       [-0.28571429, -0.30769231,  5.92307692]])"
      ]
     },
     "execution_count": 7,
     "metadata": {},
     "output_type": "execute_result"
    }
   ],
   "source": [
    "lu"
   ]
  },
  {
   "cell_type": "code",
   "execution_count": 8,
   "metadata": {},
   "outputs": [
    {
     "name": "stdout",
     "output_type": "stream",
     "text": [
      "y  [ 6.   7.  38.5]\n",
      "x  [1. 1. 1.]\n"
     ]
    },
    {
     "data": {
      "text/plain": [
       "array([6., 3., 7.])"
      ]
     },
     "execution_count": 8,
     "metadata": {},
     "output_type": "execute_result"
    }
   ],
   "source": [
    "# 전진대입으로 y를 구함    L@y = b\n",
    "\n",
    "b = np.array([ 6.0,  3.0,  7.0])\n",
    "n = len(b)\n",
    "y = np.zeros(n) \n",
    "x = np.zeros(n)\n",
    "\n",
    "y[0] = b[0]\n",
    "for k in range(1,n):    # Forward substitution\n",
    "    y[k] = b[k] - np.dot(L[k,0:k],y[0:k])\n",
    "print('y ', y)\n",
    "\n",
    "# U@x = y\n",
    "b = y.copy()\n",
    "for k in range(n-1,-1,-1):\n",
    "    x[k] = (b[k] - np.dot(U[k,k+1:n],x[k+1:n]))/U[k,k]\n",
    "\n",
    "print('x ', x)\n",
    "L@U@x"
   ]
  },
  {
   "cell_type": "markdown",
   "metadata": {},
   "source": [
    "# 실습"
   ]
  },
  {
   "cell_type": "code",
   "execution_count": 20,
   "metadata": {},
   "outputs": [
    {
     "data": {
      "text/plain": [
       "array([ 5.,  1., -2.])"
      ]
     },
     "execution_count": 20,
     "metadata": {},
     "output_type": "execute_result"
    }
   ],
   "source": [
    "A = np.array([[1., 4., 1.],\n",
    "              [1., 6.,-1.],\n",
    "              [2.,-1., 2.]])\n",
    "B = np.array([7.,13.,5.])\n",
    "\n",
    "np.linalg.solve(A,B)"
   ]
  },
  {
   "cell_type": "code",
   "execution_count": 21,
   "metadata": {},
   "outputs": [
    {
     "name": "stdout",
     "output_type": "stream",
     "text": [
      "U \n",
      " [[ 1.  4.  1.]\n",
      " [ 0.  2. -2.]\n",
      " [ 0.  0. -9.]]\n",
      "\n",
      "L \n",
      " [[ 1.   0.   0. ]\n",
      " [ 1.   1.   0. ]\n",
      " [ 2.  -4.5  1. ]]\n"
     ]
    },
    {
     "data": {
      "text/plain": [
       "array([[ 1.,  4.,  1.],\n",
       "       [ 1.,  6., -1.],\n",
       "       [ 2., -1.,  2.]])"
      ]
     },
     "execution_count": 21,
     "metadata": {},
     "output_type": "execute_result"
    }
   ],
   "source": [
    "a = A.copy()\n",
    "\n",
    "# 2nd row, 1 col\n",
    "lam1 = a[1,0]/a[0,0]    #Define first lambda\n",
    "#a[1,:] = a[1,:] - lam1*a[0,:]    # Modify second row\n",
    "a[1] = a[1] - lam1*a[0]    # Modify second row\n",
    "\n",
    "# 3rd row, 1 col\n",
    "lam2 = a[2,0]/a[0,0]\n",
    "a[2] = a[2] - lam2*a[0]\n",
    "\n",
    "# 3rd row, 2 col\n",
    "lam3 = a[2,1]/a[1,1]\n",
    "a[2] = a[2] - lam3*a[1]\n",
    "\n",
    "U = a.copy()\n",
    "L = np.zeros([3,3])\n",
    "\n",
    "L = L + np.diag([1,1,1])    # numpy eye 써도 됨\n",
    "L[1,0] = lam1\n",
    "L[2,0] = lam2\n",
    "L[2,1] = lam3\n",
    "\n",
    "print('U \\n', U)\n",
    "print('\\nL \\n', L)\n",
    "\n",
    "L@U"
   ]
  },
  {
   "cell_type": "code",
   "execution_count": 22,
   "metadata": {},
   "outputs": [
    {
     "name": "stdout",
     "output_type": "stream",
     "text": [
      "y  [ 7.  6. 18.]\n",
      "x  [ 5.  1. -2.]\n"
     ]
    },
    {
     "data": {
      "text/plain": [
       "array([ 7., 13.,  5.])"
      ]
     },
     "execution_count": 22,
     "metadata": {},
     "output_type": "execute_result"
    }
   ],
   "source": [
    "# 전진대입으로 y를 구함    L@y = b\n",
    "\n",
    "b = B.copy()\n",
    "n = len(b)\n",
    "y = np.zeros(n) \n",
    "x = np.zeros(n)\n",
    "\n",
    "y[0] = b[0]\n",
    "for k in range(1,n):    # Forward substitution\n",
    "    y[k] = b[k] - np.dot(L[k,0:k],y[0:k])\n",
    "print('y ', y)\n",
    "\n",
    "# U@x = y\n",
    "b = y.copy()\n",
    "for k in range(n-1,-1,-1):\n",
    "    x[k] = (b[k] - np.dot(U[k,k+1:n],x[k+1:n]))/U[k,k]\n",
    "\n",
    "print('x ', x)\n",
    "L@U@x"
   ]
  },
  {
   "cell_type": "markdown",
   "metadata": {},
   "source": [
    "![img](./scr.png)"
   ]
  },
  {
   "cell_type": "code",
   "execution_count": 23,
   "metadata": {},
   "outputs": [],
   "source": [
    "def fw(A,b):\n",
    "    n = len(b)\n",
    "    y = np.zeros([n,n])\n",
    "    y[0] = b[0]\n",
    "    for k in range(1,n):\n",
    "        y[k] = b[k] - np.dot(A[k,0:k],y[0:k])\n",
    "    return y\n",
    "\n",
    "def bw(A,b):\n",
    "    n = len(b)\n",
    "    for k in range(n-1,-1,-1):\n",
    "        x[k] = (b[k] - np.dot(A[k,k+1:n,x[k+1:n]]))/A[k,k]\n",
    "    return(x)"
   ]
  },
  {
   "cell_type": "code",
   "execution_count": 24,
   "metadata": {},
   "outputs": [
    {
     "data": {
      "text/plain": [
       "array([[ 1. ,  4. ,  1. ],\n",
       "       [ 1. ,  2. , -2. ],\n",
       "       [ 2. , -4.5, -9. ]])"
      ]
     },
     "execution_count": 24,
     "metadata": {},
     "output_type": "execute_result"
    }
   ],
   "source": [
    "LU = LUdecomp(A)\n",
    "LU"
   ]
  },
  {
   "cell_type": "code",
   "execution_count": 25,
   "metadata": {},
   "outputs": [
    {
     "data": {
      "text/plain": [
       "array([ 5.,  1., -2.])"
      ]
     },
     "execution_count": 25,
     "metadata": {},
     "output_type": "execute_result"
    }
   ],
   "source": [
    "LUsolve(LU,B)"
   ]
  },
  {
   "cell_type": "markdown",
   "metadata": {},
   "source": [
    "![img](./pr1.png)"
   ]
  },
  {
   "cell_type": "markdown",
   "metadata": {},
   "source": [
    "![img](./pr2.png)"
   ]
  },
  {
   "cell_type": "markdown",
   "metadata": {},
   "source": [
    "\n",
    "m1*a1 = 3*T\n",
    "\n",
    "m2*a2 = F1 - 2*T\n",
    "\n",
    "m3*a3 = F2 - T\n",
    "\n",
    "0 = 2*a2 - 3*a1 + a3\n",
    "\n",
    "L = 2*x2 - 3*x1 + x3 + const\n",
    "\n",
    "x = [a1     a2     a3     T]\n",
    "   m1*a1                - 3*T = 0\n",
    "           m2*a2        + 2*T = F1\n",
    "                  m3*a3 +   T = F2\n",
    "   -3*a1  + 2*a2 +   a3       = 0\n",
    "           \n",
    "                      "
   ]
  },
  {
   "cell_type": "code",
   "execution_count": 27,
   "metadata": {},
   "outputs": [
    {
     "data": {
      "text/plain": [
       "array([0.5       , 0.41666667, 0.66666667, 3.33333333])"
      ]
     },
     "execution_count": 27,
     "metadata": {},
     "output_type": "execute_result"
    }
   ],
   "source": [
    "m1 = 20; m2 = 40; m3 = 10\n",
    "F1 = 10; F2 = 10\n",
    "\n",
    "\n",
    "A = np.array([[m1,  0,  0, -3],\n",
    "              [ 0, m2,  0, -2],\n",
    "              [ 0,  0, m3,  1],\n",
    "              [-3,  2,  1,  0]])\n",
    "\n",
    "b = np.array([0, F1, F2, 0])\n",
    "\n",
    "np.linalg.solve(A,b)\n",
    "\n"
   ]
  },
  {
   "cell_type": "code",
   "execution_count": null,
   "metadata": {},
   "outputs": [],
   "source": [
    "aa = LUdecomp(A)\n",
    "LUsolve(aa,b)\n"
   ]
  }
 ],
 "metadata": {
  "kernelspec": {
   "display_name": "Python 3",
   "language": "python",
   "name": "python3"
  },
  "language_info": {
   "codemirror_mode": {
    "name": "ipython",
    "version": 3
   },
   "file_extension": ".py",
   "mimetype": "text/x-python",
   "name": "python",
   "nbconvert_exporter": "python",
   "pygments_lexer": "ipython3",
   "version": "3.6.8"
  }
 },
 "nbformat": 4,
 "nbformat_minor": 4
}
