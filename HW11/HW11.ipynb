{
 "cells": [
  {
   "cell_type": "code",
   "execution_count": 117,
   "metadata": {},
   "outputs": [
    {
     "name": "stdout",
     "output_type": "stream",
     "text": [
      "\n",
      "R11             | 0.27219826128795027\n",
      "R21 R22         | 0.2721982612879502  0.27219826128795016\n",
      "R31 R32 R33     | 0.2721982612879502  0.2721982612879502  0.2721982612879502\n",
      "R41 R42 R43 R44 | 0.27219826128795027 0.27219826128795027 0.27219826128795027 0.27219826128795027\n",
      "Converged Integral Value : 0.27219826128795027\n",
      "\n"
     ]
    }
   ],
   "source": [
    "import numpy as np\n",
    "from scipy.integrate import quad\n",
    "\n",
    "def f(x):\n",
    "    return np.log(1+np.tan(x))\n",
    "    \n",
    "xs = 0\n",
    "xe = np.pi/4\n",
    "\n",
    "def trap(f,xs,xe,npanel):\n",
    "    a = np.linspace(xs,xe,2**(npanel-1)+1)\n",
    "    h = np.diff(a)[0]\n",
    "    return (2*sum(f(a))-f(a[0])-f(a[-1])) * h/2\n",
    "R11 = trap(f,xs,xe,1)\n",
    "\n",
    "R21 = trap(f,xs,xe,2)\n",
    "R22 = (2**2 * R21 - R11) / (2**2 - 1) \n",
    "\n",
    "R31 = trap(f,xs,xe,3)\n",
    "R32 = (2**2 * R31 - R21) / (2**2 - 1)\n",
    "R33 = (2**4 * R32 - R22) / (2**4 - 1)\n",
    "\n",
    "R41 = trap(f,xs,xe,4)\n",
    "R42 = (2**2 * R41 - R31) / (2**2 - 1)\n",
    "R43 = (2**4 * R42 - R32) / (2**4 - 1)\n",
    "R44 = (2**8 * R43 - R33) / (2**8 - 1)\n",
    "\n",
    "print(f'''\n",
    "R11             | {R11}\n",
    "R21 R22         | {R21}  {R22}\n",
    "R31 R32 R33     | {R31}  {R32}  {R33}\n",
    "R41 R42 R43 R44 | {R41} {R42} {R43} {R44}\n",
    "Converged Integral Value : {quad(f,0,np.pi/4)[0]}\n",
    "''')\n"
   ]
  },
  {
   "cell_type": "code",
   "execution_count": 114,
   "metadata": {},
   "outputs": [
    {
     "name": "stdout",
     "output_type": "stream",
     "text": [
      "trapezoid : 1.5206879239701392 + O(h^2)\n",
      "simpson   : 1.3730854291289791 + O(h^4)\n",
      "romberg   : 1.3599047026179174 + O(h^6)\n",
      "이 경우에는 romberg방법의 오차의 계수가 적으므로 romberg의 정확도가 가장 높다.\n"
     ]
    }
   ],
   "source": [
    "# trapezoid\n",
    "x = np.linspace(0,np.pi,5)\n",
    "fx = np.array([1.0,0.3431,0.25,0.3431,1.0])\n",
    "h = np.diff(x)[0]\n",
    "trapezoid = (2*sum(fx)-fx[0]-fx[-1])*h/2\n",
    "\n",
    "# simpson\n",
    "def simp(y,h):\n",
    "    I1 = h*(y[0] + y[-1])\n",
    "    I4 = 4*h*(sum(y[1::2]))\n",
    "    I2 = 2*h*sum(y[2:-2:2])\n",
    "    Itot = (I1 + I4 + I2)/3\n",
    "    return Itot\n",
    "\n",
    "# romberg\n",
    "R11 = (fx[0] + fx[4]) * (x[4] - x[0])/2\n",
    "\n",
    "R21 = (fx[0] + 2*fx[2] + fx[4]) * (x[2] - x[0])/2\n",
    "R22 = (2**2 * R21 - R11) / (2**2 - 1) \n",
    "\n",
    "R31 = (fx[0] + 2*fx[1] + 2*fx[2] + 2*fx[3] + fx[4]) * (x[1] - x[0])/2\n",
    "R32 = (2**2 * R31 - R21) / (2**2 - 1)\n",
    "R33 = (2**4 * R32 - R22) / (2**4 - 1)\n",
    "\n",
    "print(f'trapezoid : {trapezoid} + O(h^2)\\nsimpson   : {simp(fx,h)} + O(h^4)\\nromberg   : {R33} + O(h^6)')\n",
    "print('이 경우에는 romberg방법의 오차의 계수가 적으므로 romberg의 정확도가 가장 높다.')"
   ]
  },
  {
   "cell_type": "code",
   "execution_count": 105,
   "metadata": {},
   "outputs": [
    {
     "name": "stdout",
     "output_type": "stream",
     "text": [
      "\n",
      "gauss_Legendre sol nodes = 2 : 0.6067250072484867\n",
      "gauss_Legendre sol nodes = 4 : 0.5847680362120717 \n",
      "Converged Integral Value     : 0.5849428069312876\n",
      "\n"
     ]
    }
   ],
   "source": [
    "import numpy as np\n",
    "from scipy.integrate import quad\n",
    "def gaussNodes(m,tol=10e-9):\n",
    "\n",
    "    def legendre(t,m):\n",
    "        p0 = 1.0; p1 = t\n",
    "        for k in range(1,m):\n",
    "            p = ((2.0*k + 1.0)*t*p1 - k*p0)/(1.0 + k )\n",
    "            p0 = p1; p1 = p\n",
    "        dp = m*(p0 - t*p1)/(1.0 - t**2)\n",
    "        return p,dp\n",
    "    A = np.zeros(m)\n",
    "    x = np.zeros(m)\n",
    "    nRoots = int((m + 1)/2) # Number of non-neg. roots\n",
    "    for i in range(nRoots):\n",
    "        t = np.cos(np.pi*(i + 0.75)/(m + 0.5))# Approx. root\n",
    "        for j in range(30):\n",
    "            p,dp = legendre(t,m) # Newton-Raphson\n",
    "            dt = -p/dp; t = t + dt # method\n",
    "            if abs(dt) < tol:\n",
    "                x[i] = t; x[m-i-1] = -t\n",
    "                A[i] = 2.0/(1.0 - t**2)/(dp**2) # Eq.(6.25)\n",
    "                A[m-i-1] = A[i]\n",
    "                break\n",
    "    return x,A\n",
    "\n",
    "def gaussQuad(f,a,b,m):\n",
    "    c1 = (b + a)/2.0\n",
    "    c2 = (b - a)/2.0\n",
    "    x,A = gaussNodes(m)\n",
    "    sum = 0.0\n",
    "    for i in range(len(x)):\n",
    "        sum = sum + A[i]*f(c1 + c2*x[i])\n",
    "    return c2*sum\n",
    "def f(x):    return np.log(x)/(x**2 - 2*x + 2)\n",
    "\n",
    "print(f'''\n",
    "gauss_Legendre sol nodes = 2 : {gaussQuad(f,1,np.pi,2)}\n",
    "gauss_Legendre sol nodes = 4 : {gaussQuad(f,1,np.pi,4)} \n",
    "Converged Integral Value     : {quad(f,1,np.pi)[0]}\n",
    "''')"
   ]
  },
  {
   "cell_type": "code",
   "execution_count": null,
   "metadata": {},
   "outputs": [],
   "source": []
  }
 ],
 "metadata": {
  "kernelspec": {
   "display_name": "Python 3",
   "language": "python",
   "name": "python3"
  },
  "language_info": {
   "codemirror_mode": {
    "name": "ipython",
    "version": 3
   },
   "file_extension": ".py",
   "mimetype": "text/x-python",
   "name": "python",
   "nbconvert_exporter": "python",
   "pygments_lexer": "ipython3",
   "version": "3.6.8"
  }
 },
 "nbformat": 4,
 "nbformat_minor": 4
}
