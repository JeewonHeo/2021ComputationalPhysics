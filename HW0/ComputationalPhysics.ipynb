{
 "cells": [
  {
   "cell_type": "code",
   "execution_count": 1,
   "metadata": {},
   "outputs": [
    {
     "name": "stdout",
     "output_type": "stream",
     "text": [
      "a : 3\n",
      "b : 4\n",
      "diagonal length :  5.0\n"
     ]
    }
   ],
   "source": [
    "# 1\n",
    "\n",
    "a = float(input('a : '))\n",
    "b = float(input('b : '))\n",
    "\n",
    "print('diagonal length : ', (a**2+b**2)**0.5)"
   ]
  },
  {
   "cell_type": "code",
   "execution_count": 2,
   "metadata": {},
   "outputs": [
    {
     "name": "stdout",
     "output_type": "stream",
     "text": [
      "a : 22\n",
      "b : 33\n",
      "the least common multiple 66.0\n"
     ]
    }
   ],
   "source": [
    "# 2\n",
    "\n",
    "a = float(input('a : '))\n",
    "b = float(input('b : '))\n",
    "c = a*b\n",
    "\n",
    "while b:\n",
    "    a, b = b, a%b\n",
    "\n",
    "print('the least common multiple',c/a)"
   ]
  },
  {
   "cell_type": "code",
   "execution_count": 3,
   "metadata": {},
   "outputs": [
    {
     "name": "stdout",
     "output_type": "stream",
     "text": [
      "a : 22\n",
      "b : 33\n",
      "the greatest common measure 11.0\n"
     ]
    }
   ],
   "source": [
    "# 3\n",
    "\n",
    "a = float(input('a : '))\n",
    "b = float(input('b : '))\n",
    "\n",
    "while b:\n",
    "    a, b = b, a%b\n",
    "    \n",
    "print('the greatest common measure',a)"
   ]
  },
  {
   "cell_type": "code",
   "execution_count": 4,
   "metadata": {},
   "outputs": [
    {
     "name": "stdout",
     "output_type": "stream",
     "text": [
      "a : 19283\n",
      "sum : 23\n"
     ]
    }
   ],
   "source": [
    "# 4\n",
    "\n",
    "a    = input('a : ')\n",
    "suma = 0\n",
    "\n",
    "for i in list(a):\n",
    "    suma+=int(i)\n",
    "    \n",
    "print('sum :', suma)"
   ]
  },
  {
   "cell_type": "code",
   "execution_count": 5,
   "metadata": {},
   "outputs": [
    {
     "name": "stdout",
     "output_type": "stream",
     "text": [
      "even : 5 \n",
      "odd : 4\n"
     ]
    }
   ],
   "source": [
    "# 5\n",
    "\n",
    "oddeven = [3,5,6,42,65,88,102,201,66]\n",
    "even    = 0\n",
    "odd     = 0\n",
    "\n",
    "for i in oddeven:\n",
    "    if i%2==0:\n",
    "        even+=1\n",
    "    else:\n",
    "        odd+=1\n",
    "        \n",
    "print('even :',even,'\\nodd :',odd)"
   ]
  },
  {
   "cell_type": "code",
   "execution_count": 6,
   "metadata": {},
   "outputs": [
    {
     "name": "stdout",
     "output_type": "stream",
     "text": [
      "m1 a : -6.533333333333334 \n",
      "m2 a : 7.077777777777778 \n",
      "m3 a : 5.98888888888889\n"
     ]
    }
   ],
   "source": [
    "# 6 - (a)\n",
    "\n",
    "m1 = 1\n",
    "m2 = 3\n",
    "m3 = 2\n",
    "g  = 9.8\n",
    "\n",
    "a1 = (m1-m2-m3)*g/(m1+m2+m3)\n",
    "t1 = m1*g-m1*a1\n",
    "t2 = t1/2\n",
    "a2 = (m2*g-t2)/m2\n",
    "a3 = -a2 -2*a1\n",
    "\n",
    "print('m1 a :',a1,'\\nm2 a :',a2,'\\nm3 a :',a3)"
   ]
  },
  {
   "cell_type": "code",
   "execution_count": 7,
   "metadata": {},
   "outputs": [
    {
     "name": "stdout",
     "output_type": "stream",
     "text": [
      "m1 a : -5.880000000000001 \n",
      "m2 a : 5.880000000000001 \n",
      "m3 a : 5.880000000000001\n"
     ]
    }
   ],
   "source": [
    "# 6 - (b)\n",
    "\n",
    "m1 = 1\n",
    "m2 = 2\n",
    "m3 = 2\n",
    "g  = 9.8\n",
    "\n",
    "a1 = (m1-m2-m3)*g/(m1+m2+m3)\n",
    "t1 = m1*g-m1*a1\n",
    "t2 = t1/2\n",
    "a2 = (m2*g-t2)/m2\n",
    "a3 = -a2 -2*a1\n",
    "\n",
    "print('m1 a :',a1,'\\nm2 a :',a2,'\\nm3 a :',a3)"
   ]
  },
  {
   "cell_type": "code",
   "execution_count": 8,
   "metadata": {},
   "outputs": [
    {
     "name": "stdout",
     "output_type": "stream",
     "text": [
      "m1 a : -3.266666666666667 \n",
      "m2 a : 3.2666666666666666 \n",
      "m3 a : 3.2666666666666675\n"
     ]
    }
   ],
   "source": [
    "# 6 - (c)\n",
    "\n",
    "m1 = 1\n",
    "m2 = 1\n",
    "m3 = 1\n",
    "g  = 9.8\n",
    "\n",
    "a1 = (m1-m2-m3)*g/(m1+m2+m3)\n",
    "t1 = m1*g-m1*a1\n",
    "t2 = t1/2\n",
    "a2 = (m2*g-t2)/m2\n",
    "a3 = -a2 -2*a1\n",
    "\n",
    "print('m1 a :',a1,'\\nm2 a :',a2,'\\nm3 a :',a3)"
   ]
  },
  {
   "cell_type": "code",
   "execution_count": 12,
   "metadata": {
    "scrolled": false
   },
   "outputs": [
    {
     "name": "stdout",
     "output_type": "stream",
     "text": [
      "[1, 3, 5, 7, 9, 11, 13, 15, 17, 19, 21, 23, 25, 27, 29, 31, 33, 35, 37, 39, 41, 43, 45, 47, 49, 51, 53, 55, 57, 59, 61, 63, 65, 67, 69, 71, 73, 75, 77, 79, 81, 83, 85, 87, 89, 91, 93, 95, 97, 99]\n"
     ]
    }
   ],
   "source": [
    "odd=[]\n",
    "for i in range(1,101):\n",
    "    if i%2==1:\n",
    "        odd.append(i)\n",
    "print(odd)"
   ]
  },
  {
   "cell_type": "code",
   "execution_count": null,
   "metadata": {},
   "outputs": [],
   "source": []
  }
 ],
 "metadata": {
  "kernelspec": {
   "display_name": "Python 3",
   "language": "python",
   "name": "python3"
  },
  "language_info": {
   "codemirror_mode": {
    "name": "ipython",
    "version": 3
   },
   "file_extension": ".py",
   "mimetype": "text/x-python",
   "name": "python",
   "nbconvert_exporter": "python",
   "pygments_lexer": "ipython3",
   "version": "3.8.1"
  }
 },
 "nbformat": 4,
 "nbformat_minor": 4
}
