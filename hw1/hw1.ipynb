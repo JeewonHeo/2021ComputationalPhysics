{
 "cells": [
  {
   "cell_type": "markdown",
   "metadata": {},
   "source": [
    "# 문제 1"
   ]
  },
  {
   "cell_type": "markdown",
   "metadata": {},
   "source": [
    "https://github.com/JeewonHeo/2021ComputationalPhysics/blob/main/hw1/200304.ipynb"
   ]
  },
  {
   "cell_type": "markdown",
   "metadata": {},
   "source": [
    "# 문제 2\n",
    "https://github.com/JeewonHeo/2021ComputationalPhysics"
   ]
  },
  {
   "cell_type": "markdown",
   "metadata": {},
   "source": [
    "# 문제 3"
   ]
  },
  {
   "cell_type": "code",
   "execution_count": 1,
   "metadata": {},
   "outputs": [
    {
     "data": {
      "text/plain": [
       "<Figure size 640x480 with 1 Axes>"
      ]
     },
     "metadata": {},
     "output_type": "display_data"
    }
   ],
   "source": [
    "import numpy as np\n",
    "import matplotlib.pyplot as plt\n",
    "\n",
    "e_y = np.array([0,1])\n",
    "for a in np.arange(-2,2.1,0.1):\n",
    "    A = np.array([[0,a],\n",
    "                  [0,1]])\n",
    "    \n",
    "    v = np.dot(A,e_y)\n",
    "    \n",
    "    plt.arrow(0,0,v[0],v[1],color='b',head_width=0.05)\n",
    "\n",
    "plt.xlim(-2,2)\n",
    "plt.ylim(-2,2)\n",
    "plt.grid()\n",
    "plt.rcParams[\"figure.figsize\"] = (10,10)\n",
    "plt.show()"
   ]
  },
  {
   "cell_type": "markdown",
   "metadata": {},
   "source": [
    "# 문제 4"
   ]
  },
  {
   "cell_type": "code",
   "execution_count": 6,
   "metadata": {},
   "outputs": [
    {
     "name": "stdout",
     "output_type": "stream",
     "text": [
      "matrix A -> \n",
      " [[1. 2.]\n",
      " [0. 2.]]\n",
      "\n",
      "Check Result \n",
      " Au ->\n",
      " [[3.]\n",
      " [2.]] \n",
      " Av ->\n",
      " [[-1.]\n",
      " [-2.]]\n"
     ]
    }
   ],
   "source": [
    "import numpy as np\n",
    "\n",
    "u  = np.array([[ 1],[ 1]])\n",
    "v  = np.array([[ 1],[-1]])\n",
    "Au = np.array([[ 3],[ 2]])\n",
    "Av = np.array([[-1],[-2]])\n",
    "\n",
    "# u+v = 2ex, u-v = 2ey 이므로\n",
    "Aex = (Au+Av)/2\n",
    "Aey = (Au-Av)/2\n",
    "\n",
    "A = np.column_stack([Aex,Aey])\n",
    "\n",
    "print('matrix A -> \\n',A)\n",
    "print('\\nCheck Result \\n Au ->\\n',A@u,'\\n Av ->\\n',A@v)"
   ]
  },
  {
   "cell_type": "markdown",
   "metadata": {},
   "source": [
    "# 문제 5"
   ]
  },
  {
   "cell_type": "code",
   "execution_count": 3,
   "metadata": {},
   "outputs": [
    {
     "name": "stdout",
     "output_type": "stream",
     "text": [
      "x ->\n",
      " [[34.]\n",
      " [ 6.]]\n",
      "닭은 34 마리이고 토끼는 6 마리이다.\n"
     ]
    }
   ],
   "source": [
    "import numpy as np\n",
    "\n",
    "# 닭머리수 = 1, 닭다리수 = 2, 토끼머리수 = 1, 토끼다리수 = 4 라고 하면\n",
    "\n",
    "a = np.array([[1,1],     # [닭머리수, 토끼머리수]\n",
    "              [2,4]])    # [닭다리수, 토끼다리수]\n",
    "b = np.array([[40],[92]])    # [머리수합, 다리수합 ]\n",
    "\n",
    "x = np.linalg.solve(a,b)\n",
    "\n",
    "print('x ->\\n',x)\n",
    "print('닭은', int(x[0][0]), '마리이고 토끼는', int(x[1][0]), '마리이다.')"
   ]
  },
  {
   "cell_type": "code",
   "execution_count": null,
   "metadata": {},
   "outputs": [],
   "source": []
  }
 ],
 "metadata": {
  "kernelspec": {
   "display_name": "Python 3",
   "language": "python",
   "name": "python3"
  },
  "language_info": {
   "codemirror_mode": {
    "name": "ipython",
    "version": 3
   },
   "file_extension": ".py",
   "mimetype": "text/x-python",
   "name": "python",
   "nbconvert_exporter": "python",
   "pygments_lexer": "ipython3",
   "version": "3.6.8"
  }
 },
 "nbformat": 4,
 "nbformat_minor": 4
}
