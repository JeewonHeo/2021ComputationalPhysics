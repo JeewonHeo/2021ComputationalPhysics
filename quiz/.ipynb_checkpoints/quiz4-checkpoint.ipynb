{
 "cells": [
  {
   "cell_type": "code",
   "execution_count": 5,
   "metadata": {},
   "outputs": [
    {
     "name": "stdout",
     "output_type": "stream",
     "text": [
      "1-1\n",
      "최소점에서의 함수의 기울기는 0 이므로 r = - df(x0)\n",
      "r : -28\n",
      "\n",
      "1-2\n",
      "f(x0 + ar) =  112*a + (2 - 28*a)**4 - 7\n",
      "df(x0 + ar)/da = 0 이 되는 a :  [1/28, 5/56 - sqrt(3)*I/56, 5/56 + sqrt(3)*I/56]\n",
      "실수 a = 1/28\n",
      "\n",
      "1-3\n",
      "x1 = 1\n",
      "df/dx|(x=x1) : 0\n",
      "x1에서 df/dx가 0 이므로 x1은 최소점이다.\n"
     ]
    }
   ],
   "source": [
    "# 1-1\n",
    "import sympy as sp\n",
    "\n",
    "x = sp.Symbol('x')\n",
    "f = x**4 - 4*x + 1\n",
    "df = sp.Derivative(f, x).doit()\n",
    "print('1-1\\n최소점에서의 함수의 기울기는 0 이므로 r = - df(x0)')\n",
    "\n",
    "x0 = 2\n",
    "r = -df.subs(x,x0)\n",
    "print('r :',r)\n",
    "\n",
    "# 1-2\n",
    "a = sp.Symbol('a')\n",
    "x1 = x0 + a*r\n",
    "fx1 = f.subs(x,x1)\n",
    "dfx1 = sp.Derivative(fx1, a).doit()\n",
    "print('\\n1-2\\nf(x0 + ar) = ',fx1)\n",
    "dfx1sol = sp.solve(dfx1,a)\n",
    "print('df(x0 + ar)/da = 0 이 되는 a : ',dfx1sol)\n",
    "a = dfx1sol[0]\n",
    "print('실수 a =',a)\n",
    "\n",
    "# 1-3\n",
    "x1 = x0 + a*r\n",
    "print('\\n1-3\\nx1 =',x1)\n",
    "print('df/dx|(x=x1) :',df.subs(x,x1))\n",
    "print('x1에서 df/dx가 0 이므로 x1은 최소점이다.')"
   ]
  },
  {
   "cell_type": "code",
   "execution_count": 2,
   "metadata": {},
   "outputs": [
    {
     "name": "stdout",
     "output_type": "stream",
     "text": [
      "r0    : [-5 -6]\n",
      "s0    : [-5 -6]\n",
      "a0    : 0.14841849148418493\n",
      "b0    : 0.02737374275548931\n",
      "r1    : [-0.99270073  0.82725061]\n",
      "s1    : [-1.12956944  0.66300815]\n",
      "x1    : [0.25790754 1.10948905]\n",
      "x2    : [-0.28571429  1.42857143]\n",
      "check : [-0.28571429  1.42857143]\n"
     ]
    }
   ],
   "source": [
    "# 2\n",
    "import numpy as np\n",
    "\n",
    "A = np.array([[3,2],\n",
    "              [2,6]])\n",
    "b = np.array([2,8])\n",
    "x0 = np.array([1,2])\n",
    "\n",
    "\n",
    "r0 = b - A@x0    \n",
    "s0 = r0.copy()   \n",
    "a0 = s0@r0 / (s0@A@s0)    \n",
    "x1 = x0 + a0*s0\n",
    "\n",
    "r1 = b - A@x1    \n",
    "b0 = -r1@A@s0 / (s0@A@s0)    \n",
    "s1 = r1 + b0*s0   \n",
    "a1 = s1@r1 / (s1@A@s1)\n",
    "x2 = x1 + a1*s1\n",
    "\n",
    "print('r0    :',r0)\n",
    "print('s0    :',s0)\n",
    "print('a0    :',a0)\n",
    "print('b0    :',b0)\n",
    "print('r1    :',r1)\n",
    "print('s1    :',s1)\n",
    "print('x1    :',x1)\n",
    "print('x2    :',x2)\n",
    "print('check :',np.linalg.solve(A,b))"
   ]
  },
  {
   "cell_type": "code",
   "execution_count": 3,
   "metadata": {},
   "outputs": [],
   "source": [
    "# 3\n",
    "\n",
    "import numpy as np\n",
    "import math\n",
    "\n",
    "def conjGrad(A,x,b,tol=1e-9):\n",
    "    n = len(b)\n",
    "    r = b - A@x\n",
    "    s = r.copy()\n",
    "    for i in range(n):\n",
    "        u = A@s\n",
    "        alpha = np.dot(s,r)/np.dot(s,u)\n",
    "        x = x + alpha*s\n",
    "        r = b - A@x\n",
    "        if(math.sqrt(np.dot(r,r))) < tol:\n",
    "            break \n",
    "        else:\n",
    "            beta = -np.dot(r,u)/np.dot(s,u)\n",
    "            s = r + beta*s\n",
    "    \n",
    "    return x"
   ]
  },
  {
   "cell_type": "code",
   "execution_count": null,
   "metadata": {},
   "outputs": [],
   "source": []
  }
 ],
 "metadata": {
  "kernelspec": {
   "display_name": "Python 3",
   "language": "python",
   "name": "python3"
  },
  "language_info": {
   "codemirror_mode": {
    "name": "ipython",
    "version": 3
   },
   "file_extension": ".py",
   "mimetype": "text/x-python",
   "name": "python",
   "nbconvert_exporter": "python",
   "pygments_lexer": "ipython3",
   "version": "3.6.8"
  }
 },
 "nbformat": 4,
 "nbformat_minor": 4
}
