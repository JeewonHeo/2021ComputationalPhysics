{
 "cells": [
  {
   "cell_type": "markdown",
   "metadata": {},
   "source": [
    "# 1"
   ]
  },
  {
   "cell_type": "code",
   "execution_count": 1,
   "metadata": {},
   "outputs": [
    {
     "name": "stdout",
     "output_type": "stream",
     "text": [
      "[[2 3 0 ... 0 0 0]\n",
      " [1 2 3 ... 0 0 0]\n",
      " [0 1 2 ... 0 0 0]\n",
      " ...\n",
      " [0 0 0 ... 2 3 0]\n",
      " [0 0 0 ... 1 2 3]\n",
      " [0 0 0 ... 0 1 2]] \n",
      "\n",
      " (1000, 1000)\n"
     ]
    }
   ],
   "source": [
    "import numpy as np\n",
    "\n",
    "a1 = np.eye(1000, k = 0,  dtype=int)\n",
    "a2 = np.eye(1000, k = 1, dtype=int)\n",
    "a3 = np.eye(1000, k =-1, dtype=int)\n",
    "\n",
    "x = 2*a1+3*a2+a3\n",
    "print(x,'\\n\\n',x.shape)"
   ]
  },
  {
   "cell_type": "markdown",
   "metadata": {},
   "source": [
    "# 2"
   ]
  },
  {
   "cell_type": "code",
   "execution_count": 2,
   "metadata": {},
   "outputs": [
    {
     "name": "stdout",
     "output_type": "stream",
     "text": [
      "x : 8.0 \n",
      "y : 1.0\n"
     ]
    }
   ],
   "source": [
    "import numpy as np\n",
    "\n",
    "A = np.array([[1, 2],\n",
    "              [1,-3]])\n",
    "B = np.array([[10],[5]])\n",
    "\n",
    "x = np.linalg.solve(A,B)\n",
    "print(  'x :', x[0][0], \n",
    "      '\\ny :', x[1][0]) "
   ]
  },
  {
   "cell_type": "markdown",
   "metadata": {},
   "source": [
    "# 3"
   ]
  },
  {
   "cell_type": "code",
   "execution_count": 3,
   "metadata": {},
   "outputs": [
    {
     "name": "stdout",
     "output_type": "stream",
     "text": [
      "s = 3.0666666666666664 \n",
      "p = 1.3333333333333335 \n",
      "d = -0.7333333333333334 \n",
      "f = 0.6933333333333334 \n",
      "g = 0.72\n"
     ]
    }
   ],
   "source": [
    "import numpy as np\n",
    "\n",
    "#  s + 2p + d = 5   \n",
    "# 2s - p - 3d = 7 \n",
    "# 2s - f - 2g = 4\n",
    "# 2p - 2f + g = 2\n",
    "# 2d - f + 3g = 0\n",
    "\n",
    "\n",
    "A = np.array([[ 1, 2, 1, 0, 0],\n",
    "              [ 2,-1,-3, 0, 0],\n",
    "              [ 2, 0, 0,-1,-2],\n",
    "              [ 0, 2, 0,-2, 1],\n",
    "              [ 0, 0, 2,-1, 3]])\n",
    "B = np.array([[5],\n",
    "              [7],\n",
    "              [4],\n",
    "              [2],\n",
    "              [0]])\n",
    "x = np.linalg.solve(A,B)\n",
    "\n",
    "print(  's =', x[0][0],\n",
    "      '\\np =', x[1][0],\n",
    "      '\\nd =', x[2][0],\n",
    "      '\\nf =', x[3][0],\n",
    "      '\\ng =', x[4][0])"
   ]
  },
  {
   "cell_type": "markdown",
   "metadata": {},
   "source": [
    "# 4"
   ]
  },
  {
   "cell_type": "code",
   "execution_count": 4,
   "metadata": {},
   "outputs": [
    {
     "name": "stdout",
     "output_type": "stream",
     "text": [
      "벡터 [1,0]을 20도 회전시킨 벡터 ->\n",
      " [[0.93969262]\n",
      " [0.34202014]]\n"
     ]
    }
   ],
   "source": [
    "import numpy as np\n",
    "\n",
    "t = np.pi/180*20\n",
    "A = np.array([[np.cos(t), -np.sin(t)],\n",
    "              [np.sin(t),  np.cos(t)]])\n",
    "B = np.array([[1],\n",
    "              [0]])\n",
    "x = np.dot(A,B)\n",
    "print('벡터 [1,0]을 20도 회전시킨 벡터 ->\\n',x)"
   ]
  },
  {
   "cell_type": "markdown",
   "metadata": {},
   "source": [
    "# 5"
   ]
  },
  {
   "cell_type": "code",
   "execution_count": 5,
   "metadata": {},
   "outputs": [
    {
     "name": "stdout",
     "output_type": "stream",
     "text": [
      "v1 \n",
      " [[0.40650407]\n",
      " [0.23364486]\n",
      " [0.        ]] \n",
      "\n",
      "v2 \n",
      " [[0.        ]\n",
      " [0.46728972]\n",
      " [0.        ]] \n",
      "\n",
      "v3 \n",
      " [[0. ]\n",
      " [0. ]\n",
      " [0.1]]\n"
     ]
    }
   ],
   "source": [
    "import numpy as np\n",
    "\n",
    "a1 = np.array([ 2.46,0.00, 0.00])\n",
    "a2 = np.array([-1.23,2.14, 0.00])\n",
    "a3 = np.array([ 0.00,0.00,10.00])\n",
    "\n",
    "A = np.vstack([a1,a2,a3])\n",
    "\n",
    "s1 = np.array([[1],\n",
    "               [0],\n",
    "               [0]])\n",
    "s2 = np.array([[0],\n",
    "               [1],\n",
    "               [0]])\n",
    "s3 = np.array([[0],\n",
    "               [0],\n",
    "               [1]])\n",
    "\n",
    "v1 = np.linalg.solve(A,s1)\n",
    "v2 = np.linalg.solve(A,s2)\n",
    "v3 = np.linalg.solve(A,s3)\n",
    "print('v1 \\n',v1,'\\n\\nv2 \\n',v2,'\\n\\nv3 \\n',v3)"
   ]
  },
  {
   "cell_type": "code",
   "execution_count": null,
   "metadata": {},
   "outputs": [],
   "source": []
  }
 ],
 "metadata": {
  "kernelspec": {
   "display_name": "Python 3",
   "language": "python",
   "name": "python3"
  },
  "language_info": {
   "codemirror_mode": {
    "name": "ipython",
    "version": 3
   },
   "file_extension": ".py",
   "mimetype": "text/x-python",
   "name": "python",
   "nbconvert_exporter": "python",
   "pygments_lexer": "ipython3",
   "version": "3.8.1"
  }
 },
 "nbformat": 4,
 "nbformat_minor": 4
}
