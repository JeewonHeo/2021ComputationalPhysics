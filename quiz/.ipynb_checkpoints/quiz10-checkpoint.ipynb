{
 "cells": [
  {
   "cell_type": "code",
   "execution_count": 42,
   "metadata": {},
   "outputs": [
    {
     "name": "stdout",
     "output_type": "stream",
     "text": [
      "\n",
      "R11             | -0.02279559242064105\n",
      "R21 R22         | -0.18217992871577213  -0.23530804081414916\n",
      "R31 R32 R33     | -0.2305156253197705  -0.24662752418776993  -0.24738215641267797\n",
      "R41 R42 R43 R44 | -0.24448063945416607 -0.24913564416563125 -0.24930285216415535 -0.24931038430435723\n",
      "Converged Integral Value : -0.24974474149069875\n",
      "Error ~ h^8 -> 2.562890624999988e-07 << 1e-3   여기서 h 는 trap(f,xs,xe,4)에서의 h이다.\n",
      "\n"
     ]
    }
   ],
   "source": [
    "# 1\n",
    "import numpy as np\n",
    "from scipy.integrate import quad\n",
    "\n",
    "def f(x):\n",
    "    return x*np.log(x)\n",
    "\n",
    "xs = 0.01\n",
    "xe = 1.00\n",
    "\n",
    "def trap(f,xs,xe,npanel):\n",
    "    a = np.linspace(xs,xe,2**(npanel-1)+1)\n",
    "    h = np.diff(a)[0]\n",
    "    return (2*sum(f(a))-f(a[0])-f(a[-1])) * h/2\n",
    "R11 = trap(f,xs,xe,1)\n",
    "\n",
    "R21 = trap(f,xs,xe,2)\n",
    "R22 = (2**2 * R21 - R11) / (2**2 - 1) \n",
    "\n",
    "R31 = trap(f,xs,xe,3)\n",
    "R32 = (2**2 * R31 - R21) / (2**2 - 1)\n",
    "R33 = (2**4 * R32 - R22) / (2**4 - 1)\n",
    "\n",
    "R41 = trap(f,xs,xe,4)\n",
    "R42 = (2**2 * R41 - R31) / (2**2 - 1)\n",
    "R43 = (2**4 * R42 - R32) / (2**4 - 1)\n",
    "R44 = (2**8 * R43 - R33) / (2**8 - 1)\n",
    "\n",
    "print(f'''\n",
    "R11             | {R11}\n",
    "R21 R22         | {R21}  {R22}\n",
    "R31 R32 R33     | {R31}  {R32}  {R33}\n",
    "R41 R42 R43 R44 | {R41} {R42} {R43} {R44}\n",
    "Converged Integral Value : {quad(f,0.01,1)[0]}\n",
    "Error ~ h^8 -> {h**8} << 1e-3   여기서 h 는 trap(f,xs,xe,4)에서의 h이다.\n",
    "''')"
   ]
  },
  {
   "cell_type": "code",
   "execution_count": 30,
   "metadata": {},
   "outputs": [
    {
     "name": "stderr",
     "output_type": "stream",
     "text": [
      "/usr/local/lib64/python3.6/site-packages/numpy/core/_asarray.py:83: ComplexWarning: Casting complex values to real discards the imaginary part\n",
      "  return array(a, dtype, copy=False, order=order)\n",
      "/usr/local/lib64/python3.6/site-packages/numpy/core/_asarray.py:83: ComplexWarning: Casting complex values to real discards the imaginary part\n",
      "  return array(a, dtype, copy=False, order=order)\n"
     ]
    },
    {
     "data": {
      "image/png": "[encoded data removed]",
      "text/plain": [
       "<Figure size 576x360 with 1 Axes>"
      ]
     },
     "metadata": {
      "needs_background": "light"
     },
     "output_type": "display_data"
    }
   ],
   "source": [
    "# 2\n",
    "import numpy as np\n",
    "import matplotlib.pyplot as plt\n",
    "from scipy.integrate import quad\n",
    "plt.rcParams[\"figure.figsize\"] = (8,5)\n",
    "plt.rcParams.update({'font.size': 15})\n",
    "def gaussNodes(m,tol=10e-9):\n",
    "\n",
    "    def legendre(t,m):\n",
    "        p0 = 1.0; p1 = t\n",
    "        for k in range(1,m):\n",
    "            p = ((2.0*k + 1.0)*t*p1 - k*p0)/(1.0 + k )\n",
    "            p0 = p1; p1 = p\n",
    "        dp = m*(p0 - t*p1)/(1.0 - t**2)\n",
    "        return p,dp\n",
    "    A = np.zeros(m)\n",
    "    x = np.zeros(m)\n",
    "    nRoots = int((m + 1)/2) # Number of non-neg. roots\n",
    "    for i in range(nRoots):\n",
    "        t = np.cos(np.pi*(i + 0.75)/(m + 0.5))# Approx. root\n",
    "        for j in range(30):\n",
    "            p,dp = legendre(t,m) # Newton-Raphson\n",
    "            dt = -p/dp; t = t + dt # method\n",
    "            if abs(dt) < tol:\n",
    "                x[i] = t; x[m-i-1] = -t\n",
    "                A[i] = 2.0/(1.0 - t**2)/(dp**2) # Eq.(6.25)\n",
    "                A[m-i-1] = A[i]\n",
    "                break\n",
    "    return x,A\n",
    "\n",
    "def gaussQuad(f,a,b,m):\n",
    "    c1 = (b + a)/2.0\n",
    "    c2 = (b - a)/2.0\n",
    "    x,A = gaussNodes(m)\n",
    "    sum = 0.0\n",
    "    for i in range(len(x)):\n",
    "        sum = sum + A[i]*f(c1 + c2*x[i])\n",
    "    return c2*sum\n",
    "\n",
    "def fe(x):\n",
    "    return 1/np.sqrt(sigma) * np.exp(-(x/sigma)**2) * np.exp(1j*k*x)\n",
    "\n",
    "kr = np.linspace(-5,5,51)\n",
    "Fk_sigma_5 = []\n",
    "Fk_sigma_10 = []\n",
    "\n",
    "for k in kr:\n",
    "    sigma=0.5\n",
    "    Fk_sigma_5.append(gaussQuad(fe,-1,1,5))\n",
    "    sigma=1.\n",
    "    Fk_sigma_10.append(gaussQuad(fe,-1,1,5))\n",
    "    \n",
    "plt.plot(kr,np.array(Fk_sigma_5),label='sigma=0.5')\n",
    "plt.plot(kr,np.array(Fk_sigma_10),label='sigma=1')\n",
    "plt.legend()\n",
    "plt.grid()\n",
    "plt.show()"
   ]
  },
  {
   "cell_type": "code",
   "execution_count": 47,
   "metadata": {},
   "outputs": [
    {
     "name": "stdout",
     "output_type": "stream",
     "text": [
      "simpson method : 27.359999999999985\n"
     ]
    }
   ],
   "source": [
    "# 3\n",
    "import numpy as np\n",
    "x = np.array([1.00, 1.15, 1.3, 1.45, 1.6])\n",
    "fx = np.array([30.00, 38.55, 46.20, 52.95, 58.8])\n",
    "h = np.diff(x)[0]\n",
    "\n",
    "def simp(y,h):\n",
    "    I1 = h*(y[0] + y[-1])\n",
    "    I4 = 4*h*(sum(y[1::2]))\n",
    "    I2 = 2*h*sum(y[2:-2:2])\n",
    "    Itot = (I1 + I4 + I2)/3\n",
    "    return Itot\n",
    "\n",
    "print('simpson method :', simp(fx,h))"
   ]
  },
  {
   "cell_type": "code",
   "execution_count": null,
   "metadata": {},
   "outputs": [],
   "source": []
  }
 ],
 "metadata": {
  "kernelspec": {
   "display_name": "Python 3",
   "language": "python",
   "name": "python3"
  },
  "language_info": {
   "codemirror_mode": {
    "name": "ipython",
    "version": 3
   },
   "file_extension": ".py",
   "mimetype": "text/x-python",
   "name": "python",
   "nbconvert_exporter": "python",
   "pygments_lexer": "ipython3",
   "version": "3.6.8"
  }
 },
 "nbformat": 4,
 "nbformat_minor": 4
}
