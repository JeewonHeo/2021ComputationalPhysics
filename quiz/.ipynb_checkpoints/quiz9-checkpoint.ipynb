{
 "cells": [
  {
   "cell_type": "code",
   "execution_count": 1,
   "metadata": {},
   "outputs": [
    {
     "name": "stdout",
     "output_type": "stream",
     "text": [
      "Integral  1.7724538509027912 \n",
      "a         5\n"
     ]
    }
   ],
   "source": [
    "# 1-1\n",
    "import numpy as np\n",
    "from scipy.integrate import quad\n",
    "\n",
    "f = lambda x: np.exp(-x**2)\n",
    "ans = np.sqrt(np.pi)\n",
    "tol = 1e-10\n",
    "for a in range(1,100):\n",
    "    if abs(quad(f,-a,a)[0] - ans)<tol:\n",
    "        print('Integral ',quad(f,-a,a)[0],'\\na        ', a)\n",
    "        break"
   ]
  },
  {
   "cell_type": "code",
   "execution_count": 2,
   "metadata": {},
   "outputs": [
    {
     "name": "stdout",
     "output_type": "stream",
     "text": [
      "Integral  1.772453850905516 \n",
      "Panels  64\n"
     ]
    }
   ],
   "source": [
    "# 1-2\n",
    "import numpy as np\n",
    "\n",
    "f = lambda x: np.exp(-x**2)\n",
    "\n",
    "def trapezoid(f,a,b,Iold,k):\n",
    "    if k == 1:Inew = (f(a) + f(b))*(b - a)/2.0\n",
    "    else:\n",
    "        n = 2**(k -2 ) # Number of new points\n",
    "        h = (b - a)/n # Spacing of new points\n",
    "        x = a + h/2.0\n",
    "        sum = 0.0\n",
    "        for i in range(n):\n",
    "            sum = sum + f(x)\n",
    "            x=x+h\n",
    "        Inew = (Iold + h*sum)/2.0\n",
    "    return Inew\n",
    "\n",
    "Iold = 0.0\n",
    "tol = 1e-10\n",
    "a = 10\n",
    "\n",
    "for k in range(1,21):\n",
    "    Inew = trapezoid(f,-a,a,Iold,k)\n",
    "    if (k>1) and (abs(Inew - Iold) < tol) : break\n",
    "    Iold = Inew\n",
    "print('Integral ', Inew, '\\nPanels ', 2**(k-1))"
   ]
  },
  {
   "cell_type": "code",
   "execution_count": 12,
   "metadata": {},
   "outputs": [
    {
     "name": "stdout",
     "output_type": "stream",
     "text": [
      "1.645066\n"
     ]
    }
   ],
   "source": [
    "# 2\n",
    "import numpy as np\n",
    "x = np.arange(0,0.81,0.16)\n",
    "y = np.array([0.2, 1.2969, 1.7434, 3.1860, 3.1819, 0.232])\n",
    "h = np.diff(x)[0]\n",
    "\n",
    "\n",
    "I = h*(y[0] + 4*y[1] + y[2])/3 + h*(y[2] + 3*y[3] + 3*y[4] + y[5])*3/8 \n",
    "\n",
    "print(I)"
   ]
  },
  {
   "cell_type": "code",
   "execution_count": 11,
   "metadata": {},
   "outputs": [
    {
     "name": "stdout",
     "output_type": "stream",
     "text": [
      "Total W  1.1700226727842272e+16 J\n",
      "Total W  1.170022672783696e+16 J\n"
     ]
    }
   ],
   "source": [
    "# 3\n",
    "import numpy as np\n",
    "def simp(f,a,b,tol):\n",
    "    Iold=0\n",
    "    for n in range(2,1000):\n",
    "        x = np.linspace(a,b,2*n+1)\n",
    "        y = f(x)\n",
    "        h = x[1] - x[0]\n",
    "        I1 = h*(y[0] + y[-1])\n",
    "        I4 = 4*h*(sum(y[1::2]))\n",
    "        I2 = 2*h*sum(y[2:-2:2])\n",
    "        Itot = (I1 + I4 + I2)/3\n",
    "        if (k>1) and (abs(Itot - Iold)<tol):break\n",
    "        Iold = Itot\n",
    "    return Itot\n",
    "\n",
    "def W(H):\n",
    "    m = 200\n",
    "    R = 6371\n",
    "    M = 5.972*10**24\n",
    "    G = 6.673*10**(-11)\n",
    "    f = lambda r: G*M*m/(r**2)\n",
    "    tol = 1e-10\n",
    "    return simp(f,R,R+H,tol), quad(f,R,R+H)[0]\n",
    "print('Total W ',1600*W(550)[0] + 2800*W(1150)[0] + 7500*W(340)[0],'J')\n",
    "print('Total W ',1600*W(550)[1] + 2800*W(1150)[1] + 7500*W(340)[1],'J')"
   ]
  },
  {
   "cell_type": "code",
   "execution_count": null,
   "metadata": {},
   "outputs": [],
   "source": []
  }
 ],
 "metadata": {
  "kernelspec": {
   "display_name": "Python 3",
   "language": "python",
   "name": "python3"
  },
  "language_info": {
   "codemirror_mode": {
    "name": "ipython",
    "version": 3
   },
   "file_extension": ".py",
   "mimetype": "text/x-python",
   "name": "python",
   "nbconvert_exporter": "python",
   "pygments_lexer": "ipython3",
   "version": "3.6.8"
  }
 },
 "nbformat": 4,
 "nbformat_minor": 4
}
