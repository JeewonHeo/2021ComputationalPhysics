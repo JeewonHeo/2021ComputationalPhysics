{
 "cells": [
  {
   "cell_type": "code",
   "execution_count": 3,
   "metadata": {},
   "outputs": [
    {
     "name": "stdout",
     "output_type": "stream",
     "text": [
      "z=0에서의 온도기울기 : -1.2\n",
      "z=0에서의 열 선속 : 0.6\n"
     ]
    }
   ],
   "source": [
    "# 1\n",
    "z = [0.00, 1.25, 3.75]\n",
    "t = [13.5, 12, 10]\n",
    "dtdz_0 = (t[1] - t[0])/(z[1]-z[0])\n",
    "k = 0.5\n",
    "q_0 = -k*dtdz_0\n",
    "print(f'z=0에서의 온도기울기 : {dtdz_0}\\nz=0에서의 열 선속 : {q_0}')"
   ]
  },
  {
   "cell_type": "code",
   "execution_count": 5,
   "metadata": {},
   "outputs": [
    {
     "name": "stdout",
     "output_type": "stream",
     "text": [
      "\n",
      "f'(x_i + dx) = f(x_i) + f'(x_i)*dx + f''(x_i)/2*dx**2\n",
      "             = f(x_i) + f'(x_i)*dx + (f(x_i + 2dx) - 2*f(x_i + dx) + f(x_i))/2\n",
      "\n",
      "-> f'(x_i)*dx = (-f(x_i + 2dx) + 4*f(x_i + dx) - 3f(x_i))/2\n",
      "\n",
      "-> f'(x_i) = (-f(x_i + 2dx) + 4*f(x_i + dx) - 3f(x_i)) / (2*dx)\n",
      "\n"
     ]
    }
   ],
   "source": [
    "# 2\n",
    "print(\n",
    "'''\n",
    "f'(x_i + dx) = f(x_i) + f'(x_i)*dx + f''(x_i)/2*dx**2\n",
    "             = f(x_i) + f'(x_i)*dx + (f(x_i + 2dx) - 2*f(x_i + dx) + f(x_i))/2\n",
    "\n",
    "-> f'(x_i)*dx = (-f(x_i + 2dx) + 4*f(x_i + dx) - 3f(x_i))/2\n",
    "\n",
    "-> f'(x_i) = (-f(x_i + 2dx) + 4*f(x_i + dx) - 3f(x_i)) / (2*dx)\n",
    "''')"
   ]
  },
  {
   "cell_type": "code",
   "execution_count": 61,
   "metadata": {},
   "outputs": [
    {
     "name": "stdout",
     "output_type": "stream",
     "text": [
      "[[-50.  25.   0. ...   0.   0.   0.]\n",
      " [ 25. -50.  25. ...   0.   0.   0.]\n",
      " [  0.  25. -50. ...   0.   0.   0.]\n",
      " ...\n",
      " [  0.   0.   0. ... -50.  25.   0.]\n",
      " [  0.   0.   0. ...  25. -50.  25.]\n",
      " [  0.   0.   0. ...   0.  25. -50.]]\n"
     ]
    }
   ],
   "source": [
    "# 3 - 1\n",
    "import numpy as np\n",
    "dx = 0.02\n",
    "x = np.arange(0,2.01,dx)\n",
    "\n",
    "L = ( np.eye(101,k=-1) -2*np.eye(101,k=0) + np.eye(101,k=1) )\n",
    "# L[0,0] = 1; L[0,1] = -2; L[0,2] = 1\n",
    "# L[100,100] = 1; L[100,99] = -2; L[100,98] = 1 \n",
    "# L[0]와 L[100]은 문제에서 주어진 이차 중앙차분을 사용할 수 없다.\n",
    "L = L /(dx*2)\n",
    "print(L)"
   ]
  },
  {
   "cell_type": "code",
   "execution_count": 66,
   "metadata": {},
   "outputs": [
    {
     "data": {
      "image/png": "[encoded data removed]",
      "text/plain": [
       "<Figure size 432x288 with 1 Axes>"
      ]
     },
     "metadata": {
      "needs_background": "light"
     },
     "output_type": "display_data"
    }
   ],
   "source": [
    "# 3 - 2\n",
    "import matplotlib.pyplot as plt\n",
    "\n",
    "A = L\n",
    "b = x\n",
    "# A@y = b\n",
    "y = np.linalg.solve(A,b)\n",
    "y[0] = 0; y[-1] = -5\n",
    "plt.plot(x,y)\n",
    "plt.show()"
   ]
  },
  {
   "cell_type": "code",
   "execution_count": null,
   "metadata": {},
   "outputs": [],
   "source": []
  }
 ],
 "metadata": {
  "kernelspec": {
   "display_name": "Python 3",
   "language": "python",
   "name": "python3"
  },
  "language_info": {
   "codemirror_mode": {
    "name": "ipython",
    "version": 3
   },
   "file_extension": ".py",
   "mimetype": "text/x-python",
   "name": "python",
   "nbconvert_exporter": "python",
   "pygments_lexer": "ipython3",
   "version": "3.6.8"
  }
 },
 "nbformat": 4,
 "nbformat_minor": 4
}
