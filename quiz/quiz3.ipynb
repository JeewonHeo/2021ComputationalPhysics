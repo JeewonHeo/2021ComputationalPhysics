{
 "cells": [
  {
   "cell_type": "code",
   "execution_count": 60,
   "metadata": {},
   "outputs": [
    {
     "name": "stdout",
     "output_type": "stream",
     "text": [
      "\n",
      "bn = (yn - y_{n-1})/0.1\n",
      "\n",
      "0.1*b1 = y1-y0\n",
      "0.1*b2 = y2-y1\n",
      "0.1*b3 = y3-y2\n",
      "\n",
      "A ->\n",
      " [[ 1.  0.  0. ...  0.  0.  0.]\n",
      " [-1.  1.  0. ...  0.  0.  0.]\n",
      " [ 0. -1.  1. ...  0.  0.  0.]\n",
      " ...\n",
      " [ 0.  0.  0. ...  1.  0.  0.]\n",
      " [ 0.  0.  0. ... -1.  1.  0.]\n",
      " [ 0.  0.  0. ...  0. -1.  1.]]\n",
      "b ->\n",
      " [10.    0.04  0.08  0.12  0.16  0.2   0.24  0.28  0.32  0.36  0.4   0.44\n",
      "  0.48  0.52  0.56  0.6   0.64  0.68  0.72  0.76  0.8   0.84  0.88  0.92\n",
      "  0.96  1.    1.04  1.08  1.12  1.16  1.2   1.24  1.28  1.32  1.36  1.4\n",
      "  1.44  1.48  1.52  1.56  1.6   1.64  1.68  1.72  1.76  1.8   1.84  1.88\n",
      "  1.92  1.96  2.    2.04  2.08  2.12  2.16  2.2   2.24  2.28  2.32  2.36\n",
      "  2.4   2.44  2.48  2.52  2.56  2.6   2.64  2.68  2.72  2.76  2.8   2.84\n",
      "  2.88  2.92  2.96  3.    3.04  3.08  3.12  3.16  3.2   3.24  3.28  3.32\n",
      "  3.36  3.4   3.44  3.48  3.52  3.56  3.6   3.64  3.68  3.72  3.76  3.8\n",
      "  3.84  3.88  3.92  3.96]\n"
     ]
    },
    {
     "data": {
      "image/png": "[encoded data removed]",
      "text/plain": [
       "<Figure size 432x288 with 1 Axes>"
      ]
     },
     "metadata": {
      "needs_background": "light"
     },
     "output_type": "display_data"
    },
    {
     "name": "stdout",
     "output_type": "stream",
     "text": [
      "\n",
      "Ainv -> \n",
      " [[1. 0. 0. ... 0. 0. 0.]\n",
      " [1. 1. 0. ... 0. 0. 0.]\n",
      " [1. 1. 1. ... 0. 0. 0.]\n",
      " ...\n",
      " [1. 1. 1. ... 1. 0. 0.]\n",
      " [1. 1. 1. ... 1. 1. 0.]\n",
      " [1. 1. 1. ... 1. 1. 1.]]\n"
     ]
    }
   ],
   "source": [
    "# 1-1\n",
    "print('''\n",
    "bn = (yn - y_{n-1})/0.1\n",
    "\n",
    "0.1*b1 = y1-y0\n",
    "0.1*b2 = y2-y1\n",
    "0.1*b3 = y3-y2\n",
    "''')\n",
    "\n",
    "import numpy as np\n",
    "\n",
    "# 1-2\n",
    "# bn = yn-y_{n-1}\n",
    "A = -np.eye(100,k=-1)+np.eye(100)\n",
    "b = 0.1*4*np.arange(0,10,0.1)\n",
    "b[0]=10\n",
    "print('A ->\\n',A)\n",
    "print('b ->\\n',b)\n",
    "\n",
    "# 1-3\n",
    "for k in range(0,100):\n",
    "    b[k] = (b[k] - np.dot(A[k,0:k],b[0:k]))/A[k,k]\n",
    "import matplotlib.pyplot as plt\n",
    "\n",
    "xr = np.arange(0,10,0.1)\n",
    "plt.plot(xr,2*xr**2+10,linewidth=3)\n",
    "plt.plot(xr,b,'--',linewidth=3)\n",
    "plt.title('1-3')\n",
    "plt.show()\n",
    "    \n",
    "# 1-4\n",
    "\n",
    "B = np.identity(100)\n",
    "for k in range(0,100):\n",
    "    B[k] = (B[k] - np.dot(A[k,0:k],B[0:k]))/A[k,k]\n",
    "print('\\nAinv -> \\n',B)\n",
    "\n",
    "\n",
    "# 1-5"
   ]
  },
  {
   "cell_type": "code",
   "execution_count": 90,
   "metadata": {},
   "outputs": [
    {
     "name": "stdout",
     "output_type": "stream",
     "text": [
      "\n",
      "C ->  y_1         = 6*y_3\n",
      "H ->  2*y_2       = 12*y_3\n",
      "O ->  2*y_1 + y_2 = 6*y_3 + 2*y_4\n",
      "\n",
      "L -> \n",
      " [[ 1.    0.    0.    0.  ]\n",
      " [ 0.    1.    0.    0.  ]\n",
      " [ 0.5  -0.25  1.    0.  ]\n",
      " [ 0.5  -0.25 -0.    1.  ]]\n",
      "U -> \n",
      " [[  2.   1.  -6.  -2.]\n",
      " [  0.   2. -12.   0.]\n",
      " [  0.   0.  -6.   1.]\n",
      " [  0.   0.   0.   1.]]\n"
     ]
    }
   ],
   "source": [
    "# 2-1\n",
    "print('''\n",
    "C ->  y_1         = 6*y_3\n",
    "H ->  2*y_2       = 12*y_3\n",
    "O ->  2*y_1 + y_2 = 6*y_3 + 2*y_4\n",
    "''')\n",
    "\n",
    "# 2-2\n",
    "\n",
    "# c=1 -> y1 = 1, y3 = 1/6\n",
    "\n",
    "A = np.array([[1,0,-6,0],\n",
    "              [0,2,-12,0],\n",
    "              [2,1,-6,-2],\n",
    "              [1,0,0,0]])\n",
    "\n",
    "b = np.array([0,0,0,1])\n",
    "\n",
    "# 2-3\n",
    "\n",
    "import numpy as np\n",
    "from scipy import linalg\n",
    "\n",
    "def LUdecomp(a):\n",
    "    n = len(a)\n",
    "    for k in range(0,n-1):\n",
    "        for i in range(k+1,n):\n",
    "            if a[i,k] != 0.0:\n",
    "                lam = a [i,k]/a[k,k]\n",
    "                a[i,k+1:n] = a[i,k+1:n] - lam*a[k,k+1:n]\n",
    "                a[i,k] = lam\n",
    "    return a\n",
    "\n",
    "def LUsolve(a,b):\n",
    "    n = len(a)\n",
    "    for k in range(1,n):\n",
    "        b[k] = b[k] - np.dot(a[k,0:k],b[0:k])\n",
    "    b[n-1] = b[n-1]/a[n-1,n-1]\n",
    "    for k in range(n-2,-1,-1):\n",
    "        b[k] = (b[k] - np.dot(a[k,k+1:n],b[k+1:n]))/a[k,k]\n",
    "    \n",
    "    return b\n",
    "\n",
    "def inverse(A):\n",
    "    Acopy = A.copy()\n",
    "    LU = LUdecomp(Acopy)\n",
    "    n = len(A)\n",
    "    X = np.zeros([n,n])\n",
    "    for i in range(n):\n",
    "        X[i] = LUsolve(LU, B[:,i])\n",
    "    return X\n",
    "\n",
    "B = np.identity(4)\n",
    "print('L -> \\n',sp.linalg.lu(A)[1])\n",
    "print('U -> \\n',sp.linalg.lu(A)[2])\n",
    "#print(np.linalg.inv(A),inverse(A))\n",
    "\n",
    "# 2-4\n",
    "Ainv = np.linalg.inv(A)\n",
    "b = np.arange(1,2.1,0.2)\n",
    "#print(Ainv@b)"
   ]
  },
  {
   "cell_type": "code",
   "execution_count": null,
   "metadata": {},
   "outputs": [],
   "source": []
  }
 ],
 "metadata": {
  "kernelspec": {
   "display_name": "Python 3",
   "language": "python",
   "name": "python3"
  },
  "language_info": {
   "codemirror_mode": {
    "name": "ipython",
    "version": 3
   },
   "file_extension": ".py",
   "mimetype": "text/x-python",
   "name": "python",
   "nbconvert_exporter": "python",
   "pygments_lexer": "ipython3",
   "version": "3.6.8"
  }
 },
 "nbformat": 4,
 "nbformat_minor": 4
}
