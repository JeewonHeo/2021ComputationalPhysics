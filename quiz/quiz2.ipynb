{
 "cells": [
  {
   "cell_type": "markdown",
   "metadata": {},
   "source": [
    "# 1"
   ]
  },
  {
   "cell_type": "code",
   "execution_count": 1,
   "metadata": {},
   "outputs": [],
   "source": [
    "import numpy as np\n",
    "\n",
    "def backwsub(A,b):\n",
    "    n = len(b)\n",
    "    for k in range(n-1,-1,-1):\n",
    "        b[k] = (b[k] - np.dot(A[k,k+1,n],b[k+1:n]))/a[k,k]\n",
    "    return b"
   ]
  },
  {
   "cell_type": "markdown",
   "metadata": {},
   "source": [
    "# 2"
   ]
  },
  {
   "cell_type": "code",
   "execution_count": 2,
   "metadata": {},
   "outputs": [
    {
     "name": "stdout",
     "output_type": "stream",
     "text": [
      "\n",
      "x1 = 1\n",
      "x2 = x1\n",
      "x1 + x2 = x3\n",
      "x2 + x3 = x4\n",
      "x3 + x4 = x5\n",
      "\n"
     ]
    }
   ],
   "source": [
    "# 1\n",
    "print('''\n",
    "x1 = 1\n",
    "x2 = x1\n",
    "x1 + x2 = x3\n",
    "x2 + x3 = x4\n",
    "x3 + x4 = x5\n",
    "''')"
   ]
  },
  {
   "cell_type": "code",
   "execution_count": 3,
   "metadata": {},
   "outputs": [
    {
     "name": "stdout",
     "output_type": "stream",
     "text": [
      "A -> \n",
      " [[ 1.  0.  0.  0.  0.  0.  0.  0.  0.  0.]\n",
      " [-1.  1.  0.  0.  0.  0.  0.  0.  0.  0.]\n",
      " [-1. -1.  1.  0.  0.  0.  0.  0.  0.  0.]\n",
      " [ 0. -1. -1.  1.  0.  0.  0.  0.  0.  0.]\n",
      " [ 0.  0. -1. -1.  1.  0.  0.  0.  0.  0.]\n",
      " [ 0.  0.  0. -1. -1.  1.  0.  0.  0.  0.]\n",
      " [ 0.  0.  0.  0. -1. -1.  1.  0.  0.  0.]\n",
      " [ 0.  0.  0.  0.  0. -1. -1.  1.  0.  0.]\n",
      " [ 0.  0.  0.  0.  0.  0. -1. -1.  1.  0.]\n",
      " [ 0.  0.  0.  0.  0.  0.  0. -1. -1.  1.]] \n",
      "b -> \n",
      " [1. 0. 0. 0. 0. 0. 0. 0. 0. 0.]\n"
     ]
    }
   ],
   "source": [
    "#2\n",
    "import numpy as np\n",
    "\n",
    "A = np.eye(10) + np.diag(-np.ones(9),k=-1) + np.diag(-np.ones(8),k=-2)\n",
    "b = np.zeros(10)\n",
    "b[0]=1\n",
    "print('A -> \\n',A,'\\nb -> \\n',b)"
   ]
  },
  {
   "cell_type": "code",
   "execution_count": 4,
   "metadata": {},
   "outputs": [
    {
     "data": {
      "text/plain": [
       "array([ 1.,  1.,  2.,  3.,  5.,  8., 13., 21., 34., 55.])"
      ]
     },
     "execution_count": 4,
     "metadata": {},
     "output_type": "execute_result"
    }
   ],
   "source": [
    "#3\n",
    "for k in range(0,10):\n",
    "    b[k] = (b[k] - np.dot(A[k,0:k],b[0:k]))/A[k,k]\n",
    "b"
   ]
  },
  {
   "cell_type": "markdown",
   "metadata": {},
   "source": [
    "# 3"
   ]
  },
  {
   "cell_type": "code",
   "execution_count": 5,
   "metadata": {},
   "outputs": [
    {
     "data": {
      "text/plain": [
       "array([[0.95, 0.02],\n",
       "       [0.05, 0.98]])"
      ]
     },
     "execution_count": 5,
     "metadata": {},
     "output_type": "execute_result"
    }
   ],
   "source": [
    "#1\n",
    "import numpy as np\n",
    "\n",
    "A = np.array([[0.95, 0.02],\n",
    "              [0.05, 0.98]])\n",
    "A"
   ]
  },
  {
   "cell_type": "code",
   "execution_count": 6,
   "metadata": {},
   "outputs": [
    {
     "name": "stdout",
     "output_type": "stream",
     "text": [
      "L ->\n",
      " [[1.         0.        ]\n",
      " [0.05263158 1.        ]]\n",
      "U ->\n",
      " [[0.95       0.02      ]\n",
      " [0.         0.97894737]]\n"
     ]
    }
   ],
   "source": [
    "#2\n",
    "U = A.copy()\n",
    "lam = U[1,0]/U[0,0]\n",
    "U[1] = U[1] - lam*U[0]\n",
    "\n",
    "L = np.array([[1,0],[lam,1]])\n",
    "print('L ->\\n',L)\n",
    "print('U ->\\n',U)"
   ]
  },
  {
   "cell_type": "code",
   "execution_count": 7,
   "metadata": {},
   "outputs": [
    {
     "name": "stdout",
     "output_type": "stream",
     "text": [
      "A : 335441.9492837136 \n",
      "B : 204558.05071628644\n"
     ]
    }
   ],
   "source": [
    "#3\n",
    "B = np.array([300000.,240000.])\n",
    "n = 2\n",
    "\n",
    "for i in range(0,3):\n",
    "    for k in range(0,n):    # Forward substitution\n",
    "        B[k] = B[k] - np.dot(L[k,0:k],B[0:k])\n",
    "    \n",
    "    for k in range(n-1,-1,-1):    # Back substitution\n",
    "        B[k] = (B[k] - np.dot(U[k,k+1:n],B[k+1:n]))/U[k,k]\n",
    "print('A :',B[0],'\\nB :',B[1])"
   ]
  },
  {
   "cell_type": "code",
   "execution_count": null,
   "metadata": {},
   "outputs": [],
   "source": []
  }
 ],
 "metadata": {
  "kernelspec": {
   "display_name": "Python 3",
   "language": "python",
   "name": "python3"
  },
  "language_info": {
   "codemirror_mode": {
    "name": "ipython",
    "version": 3
   },
   "file_extension": ".py",
   "mimetype": "text/x-python",
   "name": "python",
   "nbconvert_exporter": "python",
   "pygments_lexer": "ipython3",
   "version": "3.6.8"
  }
 },
 "nbformat": 4,
 "nbformat_minor": 4
}
